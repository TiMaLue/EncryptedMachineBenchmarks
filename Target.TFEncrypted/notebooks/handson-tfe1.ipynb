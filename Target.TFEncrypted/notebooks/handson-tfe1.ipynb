{
 "cells": [
  {
   "cell_type": "code",
   "execution_count": 13,
   "id": "ae18f555",
   "metadata": {
    "pycharm": {
     "name": "#%%\n"
    }
   },
   "outputs": [],
   "source": [
    "\n",
    "import json\n",
    "import sys\n",
    "import os\n",
    "import onnx\n",
    "import tempfile\n",
    "import numpy as np\n",
    "import tensorflow as tf\n",
    "\n"
   ]
  },
  {
   "cell_type": "code",
   "execution_count": 14,
   "id": "39e3bf50",
   "metadata": {
    "pycharm": {
     "name": "#%%\n"
    },
    "scrolled": true
   },
   "outputs": [
    {
     "name": "stdout",
     "output_type": "stream",
     "text": [
      "Loading model: LogisticReg1/saved_model-1.pb\n"
     ]
    }
   ],
   "source": [
    "model_file = \"LogisticReg1/saved_model-1.pb\"\n",
    "    \n",
    "print('Loading model: {}'.format(model_file))\n",
    "\n",
    "with open(model_file, \"rb\") as fp:\n",
    "    model_bin = fp.read()\n"
   ]
  },
  {
   "cell_type": "code",
   "execution_count": 15,
   "id": "dc14fe86",
   "metadata": {
    "pycharm": {
     "name": "#%%\n"
    }
   },
   "outputs": [],
   "source": [
    "\n",
    "graph_def = tf.GraphDef()\n",
    "def_ = graph_def.ParseFromString(model_bin)\n"
   ]
  },
  {
   "cell_type": "code",
   "execution_count": 22,
   "id": "5b241162",
   "metadata": {
    "pycharm": {
     "name": "#%%\n"
    }
   },
   "outputs": [],
   "source": [
    "ar= np.array([[0.7857692, 0.2]], dtype=\"float32\")"
   ]
  },
  {
   "cell_type": "code",
   "execution_count": null,
   "id": "1439bde4",
   "metadata": {},
   "outputs": [],
   "source": []
  }
 ],
 "metadata": {
  "kernelspec": {
   "display_name": "Python 3",
   "language": "python",
   "name": "python3"
  },
  "language_info": {
   "codemirror_mode": {
    "name": "ipython",
    "version": 3
   },
   "file_extension": ".py",
   "mimetype": "text/x-python",
   "name": "python",
   "nbconvert_exporter": "python",
   "pygments_lexer": "ipython3",
   "version": "3.6.13"
  }
 },
 "nbformat": 4,
 "nbformat_minor": 5
}
