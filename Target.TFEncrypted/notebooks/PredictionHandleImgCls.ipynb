{
 "cells": [
  {
   "cell_type": "code",
   "execution_count": 1,
   "id": "479f77ec",
   "metadata": {},
   "outputs": [],
   "source": [
    "import numpy as np"
   ]
  },
  {
   "cell_type": "code",
   "execution_count": 43,
   "id": "cceffc92",
   "metadata": {},
   "outputs": [
    {
     "data": {
      "text/plain": [
       "[array([[6.10351562e-05, 1.98364258e-04, 4.57763672e-05, ...,\n",
       "         1.52587891e-05, 9.15527344e-05, 3.20434570e-04],\n",
       "        [1.67846680e-04, 7.17163086e-04, 5.79833984e-04, ...,\n",
       "         3.05175781e-05, 7.62939453e-05, 1.08642578e-02]])]"
      ]
     },
     "execution_count": 43,
     "metadata": {},
     "output_type": "execute_result"
    }
   ],
   "source": [
    "pred_list = [np.genfromtxt('pred_list.csv', delimiter=',')]\n",
    "pred_list"
   ]
  },
  {
   "cell_type": "code",
   "execution_count": 44,
   "id": "cc4fae87",
   "metadata": {},
   "outputs": [],
   "source": [
    "predictions = np.concatenate(pred_list)"
   ]
  },
  {
   "cell_type": "code",
   "execution_count": 45,
   "id": "546a8f98",
   "metadata": {},
   "outputs": [
    {
     "data": {
      "text/plain": [
       "(2, 1000)"
      ]
     },
     "execution_count": 45,
     "metadata": {},
     "output_type": "execute_result"
    }
   ],
   "source": [
    "predictions.shape"
   ]
  },
  {
   "cell_type": "code",
   "execution_count": 38,
   "id": "8ffbcfe5",
   "metadata": {},
   "outputs": [
    {
     "data": {
      "text/plain": [
       "[[('n03240683', 'drilling_platform', 0.1872711181640625)],\n",
       " [('n03729826', 'matchstick', 0.0376129150390625)]]"
      ]
     },
     "execution_count": 38,
     "metadata": {},
     "output_type": "execute_result"
    }
   ],
   "source": [
    "\n",
    "from tensorflow.keras.applications.imagenet_utils import decode_predictions\n",
    "dec_predictions = decode_predictions(predictions, top=1)\n",
    "dec_predictions"
   ]
  },
  {
   "cell_type": "code",
   "execution_count": null,
   "id": "be568df5",
   "metadata": {},
   "outputs": [],
   "source": []
  },
  {
   "cell_type": "code",
   "execution_count": 39,
   "id": "020027ca",
   "metadata": {},
   "outputs": [
    {
     "data": {
      "text/plain": [
       "array([[540],\n",
       "       [644]])"
      ]
     },
     "execution_count": 39,
     "metadata": {},
     "output_type": "execute_result"
    }
   ],
   "source": [
    "predictions = predictions.argmax(1).reshape(-1, 1)\n",
    "predictions"
   ]
  },
  {
   "cell_type": "code",
   "execution_count": 40,
   "id": "05fdbf96",
   "metadata": {},
   "outputs": [
    {
     "data": {
      "text/plain": [
       "array([[481],\n",
       "       [350]])"
      ]
     },
     "execution_count": 40,
     "metadata": {},
     "output_type": "execute_result"
    }
   ],
   "source": [
    "labels = np.array([[481], [350]], dtype=\"int64\")\n",
    "labels = labels.reshape(-1, 1)\n",
    "labels"
   ]
  },
  {
   "cell_type": "code",
   "execution_count": 42,
   "id": "ac50cc52",
   "metadata": {},
   "outputs": [
    {
     "data": {
      "text/plain": [
       "array([0])"
      ]
     },
     "execution_count": 42,
     "metadata": {},
     "output_type": "execute_result"
    }
   ],
   "source": [
    "sum(labels == predictions)"
   ]
  },
  {
   "cell_type": "code",
   "execution_count": 59,
   "id": "f44bac68",
   "metadata": {},
   "outputs": [],
   "source": [
    "def measure_precision_loss(plaintext_pred, enc_pred):\n",
    "    if plaintext_pred is None or enc_pred is None:\n",
    "        return None\n",
    "    assert plaintext_pred.shape == enc_pred.shape\n",
    "    diff = plaintext_pred - enc_pred\n",
    "    abs_ = np.absolute(diff)\n",
    "    return np.average(abs_, axis=(0,1))"
   ]
  },
  {
   "cell_type": "code",
   "execution_count": 60,
   "id": "f84bac86",
   "metadata": {},
   "outputs": [
    {
     "data": {
      "text/plain": [
       "0.0"
      ]
     },
     "execution_count": 60,
     "metadata": {},
     "output_type": "execute_result"
    }
   ],
   "source": [
    "measure_precision_loss(predictions, predictions)"
   ]
  },
  {
   "cell_type": "code",
   "execution_count": 69,
   "id": "0d6f6068",
   "metadata": {
    "scrolled": true
   },
   "outputs": [
    {
     "data": {
      "text/plain": [
       "0.4935381962947085"
      ]
     },
     "execution_count": 69,
     "metadata": {},
     "output_type": "execute_result"
    }
   ],
   "source": [
    "measure_precision_loss(predictions, np.random.random(predictions.shape))"
   ]
  },
  {
   "cell_type": "code",
   "execution_count": 56,
   "id": "0ae64857",
   "metadata": {},
   "outputs": [],
   "source": [
    "plaintext_pred = predictions\n",
    "enc_pred = np.random.random(predictions.shape)"
   ]
  },
  {
   "cell_type": "code",
   "execution_count": 58,
   "id": "c1d9cb32",
   "metadata": {},
   "outputs": [
    {
     "data": {
      "text/plain": [
       "array([[0.23017039, 0.647896  , 0.18557301, ..., 0.63351706, 0.88913079,\n",
       "        0.76381992],\n",
       "       [0.76617306, 0.32248856, 0.60035343, ..., 0.56823053, 0.74407467,\n",
       "        0.83800523]])"
      ]
     },
     "execution_count": 58,
     "metadata": {},
     "output_type": "execute_result"
    }
   ],
   "source": [
    "np.absolute(plaintext_pred - enc_pred)"
   ]
  },
  {
   "cell_type": "code",
   "execution_count": null,
   "id": "2809485d",
   "metadata": {},
   "outputs": [],
   "source": []
  }
 ],
 "metadata": {
  "kernelspec": {
   "display_name": "Python 3",
   "language": "python",
   "name": "python3"
  },
  "language_info": {
   "codemirror_mode": {
    "name": "ipython",
    "version": 3
   },
   "file_extension": ".py",
   "mimetype": "text/x-python",
   "name": "python",
   "nbconvert_exporter": "python",
   "pygments_lexer": "ipython3",
   "version": "3.6.13"
  }
 },
 "nbformat": 4,
 "nbformat_minor": 5
}
