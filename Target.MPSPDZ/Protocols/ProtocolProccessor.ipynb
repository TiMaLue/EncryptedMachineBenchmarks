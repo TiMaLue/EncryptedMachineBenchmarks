{
 "cells": [
  {
   "cell_type": "code",
   "execution_count": 1,
   "id": "02db2c73",
   "metadata": {},
   "outputs": [],
   "source": [
    "def process_raw_line(line):\n",
    "    p = [e.strip(' `\\n') for e in line.split(\"|\")]\n",
    "    p = [e for e in p if e]\n",
    "    \n",
    "    if len(p) == 6:\n",
    "        party_num = p.pop(-2)\n",
    "        party_num = -3 if party_num in [ \"3 or more\", \"3+\"] else int(party_num)\n",
    "    else:\n",
    "        party_num = -1\n",
    "        \n",
    "    assert len(p) == 5\n",
    "    id_ = p[0]\n",
    "    name = p[1]\n",
    "\n",
    "    is_binary = \"binary\" in p[2].lower()\n",
    "    is_prime = \"prime\" in p[2].lower()\n",
    "    is_ring = \"2^k\" in p[2].lower()\n",
    "    assert is_binary or is_prime or is_ring\n",
    "\n",
    "    is_mal = \"malicious\" in p[3].lower() or \"y\" == p[3].lower()\n",
    "    is_semi = \"semi-honest\" in p[3].lower() or \"n\" == p[3].lower()\n",
    "    is_covert = \"covert\" in p[3].lower()\n",
    "    assert is_mal or is_semi or is_covert\n",
    "\n",
    "    script = p[4]\n",
    "    return {\n",
    "        \"id_\":id_, \"name\":name, \"party_num\": party_num,\n",
    "        \"is_prime\":is_prime, \"is_ring\":is_ring, \"is_binary\":is_binary, \n",
    "        \"is_mal\":is_mal, \"is_covert\":is_covert, \"is_semi\":is_semi, \n",
    "        \"script\":script\n",
    "    }"
   ]
  },
  {
   "cell_type": "code",
   "execution_count": 2,
   "id": "a586ff2c",
   "metadata": {},
   "outputs": [],
   "source": [
    "import sys\n",
    "def read_protocol_list(table_file):\n",
    "    proto_list = []\n",
    "    with open(table_file, \"r\") as fp:\n",
    "        for line in fp:\n",
    "            try:\n",
    "                proto = process_raw_line(line)\n",
    "                proto_list.append(proto)\n",
    "            except (AssertionError, ValueError):\n",
    "                print(\"Couldn't parse line: \" + line, file=sys.stderr)\n",
    "    return proto_list"
   ]
  },
  {
   "cell_type": "code",
   "execution_count": 3,
   "id": "483ae79f",
   "metadata": {},
   "outputs": [
    {
     "name": "stderr",
     "output_type": "stream",
     "text": [
      "Couldn't parse line: | Program | Protocol | Domain | Security | Script |\n",
      "\n",
      "Couldn't parse line: | --- | --- | --- | --- | --- |\n",
      "\n",
      "Couldn't parse line: | Program | Sharing | Domain | Malicious | \\# parties | Script |\n",
      "\n",
      "Couldn't parse line: | --- | --- | --- | --- | --- | --- |\n",
      "\n",
      "Couldn't parse line: \n",
      "\n",
      "Couldn't parse line: | Program | Sharing | Domain | Malicious | \\# parties | Script |\n",
      "\n",
      "Couldn't parse line: | --- | --- | --- | --- | --- | --- |\n",
      "\n"
     ]
    }
   ],
   "source": [
    "proto_list = []\n",
    "dishonest_protos = read_protocol_list(\"dishonest_maj.table\")\n",
    "[p.update({\"dishonest_maj\": True}) for p in dishonest_protos]\n",
    "proto_list += dishonest_protos\n",
    "\n",
    "honest_proto = read_protocol_list(\"honest_maj.table\")\n",
    "[p.update({\"dishonest_maj\": False}) for p in honest_proto]\n",
    "proto_list += honest_proto\n",
    "honest_proto = read_protocol_list(\"dealer.table\")\n",
    "[p.update({\"dishonest_maj\": False}) for p in honest_proto]\n",
    "proto_list += honest_proto\n",
    "proto_list.append({\n",
    "        \"id_\":\"yao-party.x\", \"name\":\"Yao GC\", \"party_num\": 2,\n",
    "        \"is_prime\":False, \"is_ring\":False, \"is_binary\":True, \n",
    "        \"is_mal\":True, \"is_covert\":False, \"is_semi\":False, \n",
    "        \"script\":\"yao.sh\", \"dishonest_maj\": True\n",
    "    })"
   ]
  },
  {
   "cell_type": "code",
   "execution_count": 4,
   "id": "b62873bf",
   "metadata": {},
   "outputs": [],
   "source": [
    "import json\n",
    "with open(\"protos.json\", \"w\") as fp:\n",
    "    json.dump(proto_list, fp, indent=4)"
   ]
  },
  {
   "cell_type": "code",
   "execution_count": 5,
   "id": "bce8c544",
   "metadata": {},
   "outputs": [
    {
     "data": {
      "text/plain": [
       "{'id_': 'mascot-party.x',\n",
       " 'name': '[MASCOT](https://eprint.iacr.org/2016/505)',\n",
       " 'party_num': -1,\n",
       " 'is_prime': True,\n",
       " 'is_ring': False,\n",
       " 'is_binary': False,\n",
       " 'is_mal': True,\n",
       " 'is_covert': False,\n",
       " 'is_semi': False,\n",
       " 'script': 'mascot.sh',\n",
       " 'dishonest_maj': True}"
      ]
     },
     "execution_count": 5,
     "metadata": {},
     "output_type": "execute_result"
    }
   ],
   "source": [
    "proto_list[0]"
   ]
  },
  {
   "cell_type": "code",
   "execution_count": 6,
   "id": "b8d9ae5a",
   "metadata": {},
   "outputs": [],
   "source": [
    "proto_names = [p[\"id_\"] for p in proto_list]"
   ]
  },
  {
   "cell_type": "code",
   "execution_count": 7,
   "id": "7bf3c4aa",
   "metadata": {},
   "outputs": [
    {
     "data": {
      "text/plain": [
       "'mascot-party.x, mama-party.x, spdz2k-party.x, semi-party.x, semi2k-party.x, lowgear-party.x, highgear-party.x, cowgear-party.x, chaigear-party.x, hemi-party.x, temi-party.x, soho-party.x, semi-bin-party.x, tiny-party.x, tinier-party.x, replicated-ring-party.x, brain-party.x, ps-rep-ring-party.x, malicious-rep-ring-party.x, sy-rep-ring-party.x, rep4-ring-party.x, replicated-bin-party.x, malicious-rep-bin-party.x, ps-rep-bin-party.x, replicated-field-party.x, ps-rep-field-party.x, sy-rep-field-party.x, malicious-rep-field-party.x, atlas-party.x, shamir-party.x, malicious-shamir-party.x, sy-shamir-party.x, ccd-party.x, malicious-cdd-party.x, dealer-ring-party.x, yao-party.x'"
      ]
     },
     "execution_count": 7,
     "metadata": {},
     "output_type": "execute_result"
    }
   ],
   "source": [
    "\", \".join(proto_names)"
   ]
  },
  {
   "cell_type": "code",
   "execution_count": 23,
   "id": "98991076",
   "metadata": {},
   "outputs": [
    {
     "name": "stdout",
     "output_type": "stream",
     "text": [
      "new AbstractMap.SimpleEntry<String, Integer>(\"mascot-party.x\", -1),\n",
      " new AbstractMap.SimpleEntry<String, Integer>(\"mama-party.x\", -1),\n",
      " new AbstractMap.SimpleEntry<String, Integer>(\"spdz2k-party.x\", -1),\n",
      " new AbstractMap.SimpleEntry<String, Integer>(\"semi-party.x\", -1),\n",
      " new AbstractMap.SimpleEntry<String, Integer>(\"semi2k-party.x\", -1),\n",
      " new AbstractMap.SimpleEntry<String, Integer>(\"lowgear-party.x\", -1),\n",
      " new AbstractMap.SimpleEntry<String, Integer>(\"highgear-party.x\", -1),\n",
      " new AbstractMap.SimpleEntry<String, Integer>(\"cowgear-party.x\", -1),\n",
      " new AbstractMap.SimpleEntry<String, Integer>(\"chaigear-party.x\", -1),\n",
      " new AbstractMap.SimpleEntry<String, Integer>(\"hemi-party.x\", -1),\n",
      " new AbstractMap.SimpleEntry<String, Integer>(\"temi-party.x\", -1),\n",
      " new AbstractMap.SimpleEntry<String, Integer>(\"soho-party.x\", -1),\n",
      " new AbstractMap.SimpleEntry<String, Integer>(\"semi-bin-party.x\", -1),\n",
      " new AbstractMap.SimpleEntry<String, Integer>(\"tiny-party.x\", -1),\n",
      " new AbstractMap.SimpleEntry<String, Integer>(\"tinier-party.x\", -1),\n",
      " new AbstractMap.SimpleEntry<String, Integer>(\"replicated-ring-party.x\", 3),\n",
      " new AbstractMap.SimpleEntry<String, Integer>(\"brain-party.x\", 3),\n",
      " new AbstractMap.SimpleEntry<String, Integer>(\"ps-rep-ring-party.x\", 3),\n",
      " new AbstractMap.SimpleEntry<String, Integer>(\"malicious-rep-ring-party.x\", 3),\n",
      " new AbstractMap.SimpleEntry<String, Integer>(\"sy-rep-ring-party.x\", 3),\n",
      " new AbstractMap.SimpleEntry<String, Integer>(\"rep4-ring-party.x\", 4),\n",
      " new AbstractMap.SimpleEntry<String, Integer>(\"replicated-bin-party.x\", 3),\n",
      " new AbstractMap.SimpleEntry<String, Integer>(\"malicious-rep-bin-party.x\", 3),\n",
      " new AbstractMap.SimpleEntry<String, Integer>(\"ps-rep-bin-party.x\", 3),\n",
      " new AbstractMap.SimpleEntry<String, Integer>(\"replicated-field-party.x\", 3),\n",
      " new AbstractMap.SimpleEntry<String, Integer>(\"ps-rep-field-party.x\", 3),\n",
      " new AbstractMap.SimpleEntry<String, Integer>(\"sy-rep-field-party.x\", 3),\n",
      " new AbstractMap.SimpleEntry<String, Integer>(\"malicious-rep-field-party.x\", 3),\n",
      " new AbstractMap.SimpleEntry<String, Integer>(\"atlas-party.x\", -3),\n",
      " new AbstractMap.SimpleEntry<String, Integer>(\"shamir-party.x\", -3),\n",
      " new AbstractMap.SimpleEntry<String, Integer>(\"malicious-shamir-party.x\", -3),\n",
      " new AbstractMap.SimpleEntry<String, Integer>(\"sy-shamir-party.x\", -3),\n",
      " new AbstractMap.SimpleEntry<String, Integer>(\"ccd-party.x\", -3),\n",
      " new AbstractMap.SimpleEntry<String, Integer>(\"malicious-cdd-party.x\", -3),\n",
      " new AbstractMap.SimpleEntry<String, Integer>(\"dealer-ring-party.x\", -3),\n",
      " new AbstractMap.SimpleEntry<String, Integer>(\"yao-party.x\", 2),\n"
     ]
    }
   ],
   "source": [
    "def _(p):\n",
    "    return f'new AbstractMap.SimpleEntry<String, Integer>(\"{p[\"id_\"]}\", { p[\"party_num\"]}),'\n",
    "\n",
    "proto_party_num = [_(p) for p in proto_list]\n",
    "print(\"\\n \".join(proto_party_num))\n"
   ]
  },
  {
   "cell_type": "code",
   "execution_count": 22,
   "id": "40f496e0",
   "metadata": {},
   "outputs": [
    {
     "name": "stdout",
     "output_type": "stream",
     "text": [
      "new AbstractMap.SimpleEntry<String, Integer>(mascot-party.x, -1),\n",
      " new AbstractMap.SimpleEntry<String, Integer>(mama-party.x, -1),\n",
      " new AbstractMap.SimpleEntry<String, Integer>(spdz2k-party.x, -1),\n",
      " new AbstractMap.SimpleEntry<String, Integer>(semi-party.x, -1),\n",
      " new AbstractMap.SimpleEntry<String, Integer>(semi2k-party.x, -1),\n",
      " new AbstractMap.SimpleEntry<String, Integer>(lowgear-party.x, -1),\n",
      " new AbstractMap.SimpleEntry<String, Integer>(highgear-party.x, -1),\n",
      " new AbstractMap.SimpleEntry<String, Integer>(cowgear-party.x, -1),\n",
      " new AbstractMap.SimpleEntry<String, Integer>(chaigear-party.x, -1),\n",
      " new AbstractMap.SimpleEntry<String, Integer>(hemi-party.x, -1),\n",
      " new AbstractMap.SimpleEntry<String, Integer>(temi-party.x, -1),\n",
      " new AbstractMap.SimpleEntry<String, Integer>(soho-party.x, -1),\n",
      " new AbstractMap.SimpleEntry<String, Integer>(semi-bin-party.x, -1),\n",
      " new AbstractMap.SimpleEntry<String, Integer>(tiny-party.x, -1),\n",
      " new AbstractMap.SimpleEntry<String, Integer>(tinier-party.x, -1),\n",
      " new AbstractMap.SimpleEntry<String, Integer>(replicated-ring-party.x, 3),\n",
      " new AbstractMap.SimpleEntry<String, Integer>(brain-party.x, 3),\n",
      " new AbstractMap.SimpleEntry<String, Integer>(ps-rep-ring-party.x, 3),\n",
      " new AbstractMap.SimpleEntry<String, Integer>(malicious-rep-ring-party.x, 3),\n",
      " new AbstractMap.SimpleEntry<String, Integer>(sy-rep-ring-party.x, 3),\n",
      " new AbstractMap.SimpleEntry<String, Integer>(rep4-ring-party.x, 4),\n",
      " new AbstractMap.SimpleEntry<String, Integer>(replicated-bin-party.x, 3),\n",
      " new AbstractMap.SimpleEntry<String, Integer>(malicious-rep-bin-party.x, 3),\n",
      " new AbstractMap.SimpleEntry<String, Integer>(ps-rep-bin-party.x, 3),\n",
      " new AbstractMap.SimpleEntry<String, Integer>(replicated-field-party.x, 3),\n",
      " new AbstractMap.SimpleEntry<String, Integer>(ps-rep-field-party.x, 3),\n",
      " new AbstractMap.SimpleEntry<String, Integer>(sy-rep-field-party.x, 3),\n",
      " new AbstractMap.SimpleEntry<String, Integer>(malicious-rep-field-party.x, 3),\n",
      " new AbstractMap.SimpleEntry<String, Integer>(atlas-party.x, -3),\n",
      " new AbstractMap.SimpleEntry<String, Integer>(shamir-party.x, -3),\n",
      " new AbstractMap.SimpleEntry<String, Integer>(malicious-shamir-party.x, -3),\n",
      " new AbstractMap.SimpleEntry<String, Integer>(sy-shamir-party.x, -3),\n",
      " new AbstractMap.SimpleEntry<String, Integer>(ccd-party.x, -3),\n",
      " new AbstractMap.SimpleEntry<String, Integer>(malicious-cdd-party.x, -3),\n",
      " new AbstractMap.SimpleEntry<String, Integer>(dealer-ring-party.x, -3),\n",
      " new AbstractMap.SimpleEntry<String, Integer>(yao-party.x, 2),\n"
     ]
    }
   ],
   "source": []
  },
  {
   "cell_type": "code",
   "execution_count": null,
   "id": "758d9f9c",
   "metadata": {},
   "outputs": [],
   "source": []
  }
 ],
 "metadata": {
  "kernelspec": {
   "display_name": "Python 3.10.4 ('venv': venv)",
   "language": "python",
   "name": "python3"
  },
  "language_info": {
   "codemirror_mode": {
    "name": "ipython",
    "version": 3
   },
   "file_extension": ".py",
   "mimetype": "text/x-python",
   "name": "python",
   "nbconvert_exporter": "python",
   "pygments_lexer": "ipython3",
   "version": "3.10.4"
  },
  "vscode": {
   "interpreter": {
    "hash": "ff9c03244edffde12523ffe5673bece92cf1f44c051390928f71a6cc1b35ffac"
   }
  }
 },
 "nbformat": 4,
 "nbformat_minor": 5
}
