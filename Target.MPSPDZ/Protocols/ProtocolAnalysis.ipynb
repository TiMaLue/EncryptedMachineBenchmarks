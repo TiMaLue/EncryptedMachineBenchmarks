{
 "cells": [
  {
   "cell_type": "code",
   "execution_count": 8,
   "id": "366a66e2",
   "metadata": {},
   "outputs": [],
   "source": [
    "working_protos = \"\"\"replicated-ring-party.x\n",
    "brain-party.x\n",
    "ps-rep-ring-party.x\n",
    "malicious-rep-ring-party.x\n",
    "sy-rep-ring-party.x\n",
    "rep4-ring-party.x\n",
    "replicated-field-party.x\n",
    "ps-rep-field-party.x\n",
    "sy-rep-field-party.x\n",
    "malicious-rep-field-party.x\n",
    "mascot-party.x\n",
    "mama-party.x\n",
    "spdz2k-party.x\n",
    "semi-party.x\n",
    "semi2k-party.x\n",
    "lowgear-party.x\n",
    "highgear-party.x\n",
    "cowgear-party.x\n",
    "chaigear-party.x\n",
    "hemi-party.x\n",
    "temi-party.x\n",
    "soho-party.x\n",
    "atlas-party.x\n",
    "shamir-party.x\n",
    "malicious-shamir-party.x\n",
    "sy-shamir-party.x\n",
    "dealer-ring-party.x\n",
    "\"\"\"\n",
    "working_protos = working_protos.splitlines()\n",
    "working_protos = set(working_protos)"
   ]
  },
  {
   "cell_type": "code",
   "execution_count": 9,
   "id": "40f18334",
   "metadata": {},
   "outputs": [],
   "source": [
    "available_protos = \"\"\"mascot-party.x, mama-party.x, spdz2k-party.x, semi-party.x, semi2k-party.x, lowgear-party.x, highgear-party.x, cowgear-party.x, chaigear-party.x, hemi-party.x, temi-party.x, soho-party.x, semi-bin-party.x, tiny-party.x, tinier-party.x, replicated-ring-party.x, brain-party.x, ps-rep-ring-party.x, malicious-rep-ring-party.x, sy-rep-ring-party.x, rep4-ring-party.x, replicated-bin-party.x, malicious-rep-bin-party.x, ps-rep-bin-party.x, replicated-field-party.x, ps-rep-field-party.x, sy-rep-field-party.x, malicious-rep-field-party.x, atlas-party.x, shamir-party.x, malicious-shamir-party.x, sy-shamir-party.x, dealer-ring-party.x, yao-party.x\"\"\"\n",
    "available_protos = available_protos.split(\",\")\n",
    "available_protos = [p.strip() for p in available_protos]\n",
    "# available_protos = set(available_protos)"
   ]
  },
  {
   "cell_type": "code",
   "execution_count": 10,
   "id": "561364ce",
   "metadata": {},
   "outputs": [
    {
     "data": {
      "text/plain": [
       "['replicated-bin-party.x',\n",
       " 'semi-bin-party.x',\n",
       " 'tiny-party.x',\n",
       " 'ps-rep-bin-party.x',\n",
       " 'yao-party.x',\n",
       " 'tinier-party.x',\n",
       " 'malicious-rep-bin-party.x']"
      ]
     },
     "execution_count": 10,
     "metadata": {},
     "output_type": "execute_result"
    }
   ],
   "source": [
    "[p for p in available_protos if p not in working_protos]"
   ]
  },
  {
   "cell_type": "code",
   "execution_count": null,
   "id": "673806f7",
   "metadata": {},
   "outputs": [],
   "source": []
  }
 ],
 "metadata": {
  "kernelspec": {
   "display_name": "Python 3 (ipykernel)",
   "language": "python",
   "name": "python3"
  },
  "language_info": {
   "codemirror_mode": {
    "name": "ipython",
    "version": 3
   },
   "file_extension": ".py",
   "mimetype": "text/x-python",
   "name": "python",
   "nbconvert_exporter": "python",
   "pygments_lexer": "ipython3",
   "version": "3.10.6"
  }
 },
 "nbformat": 4,
 "nbformat_minor": 5
}
