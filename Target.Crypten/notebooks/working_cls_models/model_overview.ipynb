{
 "cells": [
  {
   "cell_type": "code",
   "execution_count": 1,
   "id": "9555fb66",
   "metadata": {},
   "outputs": [],
   "source": [
    "import csv\n"
   ]
  },
  {
   "cell_type": "code",
   "execution_count": 2,
   "id": "c224ce06",
   "metadata": {},
   "outputs": [
    {
     "data": {
      "text/plain": [
       "[{'Name1': 'AlexNet_Weights.IMAGENET1K_V1',\n",
       "  ' Acc@1': ' 56.522',\n",
       "  ' Acc@5': ' 79.066',\n",
       "  ' Params': ' 61.1M'},\n",
       " {'Name1': 'ConvNeXt_Base_Weights.IMAGENET1K_V1',\n",
       "  ' Acc@1': ' 84.062',\n",
       "  ' Acc@5': ' 96.87',\n",
       "  ' Params': ' 88.6M'},\n",
       " {'Name1': 'ConvNeXt_Large_Weights.IMAGENET1K_V1',\n",
       "  ' Acc@1': ' 84.414',\n",
       "  ' Acc@5': ' 96.976',\n",
       "  ' Params': ' 197.8M'},\n",
       " {'Name1': 'ConvNeXt_Small_Weights.IMAGENET1K_V1',\n",
       "  ' Acc@1': ' 83.616',\n",
       "  ' Acc@5': ' 96.65',\n",
       "  ' Params': ' 50.2M'},\n",
       " {'Name1': 'ConvNeXt_Tiny_Weights.IMAGENET1K_V1',\n",
       "  ' Acc@1': ' 82.52',\n",
       "  ' Acc@5': ' 96.146',\n",
       "  ' Params': ' 28.6M'}]"
      ]
     },
     "execution_count": 2,
     "metadata": {},
     "output_type": "execute_result"
    }
   ],
   "source": [
    "all_models = None\n",
    "with open(\"all_models\", \"r\") as fp:\n",
    "    reader = csv.DictReader(fp)\n",
    "    all_models = list(reader)\n",
    "all_models[:5]"
   ]
  },
  {
   "cell_type": "code",
   "execution_count": 3,
   "id": "d2206a12",
   "metadata": {},
   "outputs": [],
   "source": [
    "for m in all_models:\n",
    "    m[\"used\"] = False"
   ]
  },
  {
   "cell_type": "code",
   "execution_count": 4,
   "id": "67dfff9a",
   "metadata": {},
   "outputs": [
    {
     "data": {
      "text/plain": [
       "[0]"
      ]
     },
     "execution_count": 4,
     "metadata": {},
     "output_type": "execute_result"
    }
   ],
   "source": [
    "def find_indices(model_name):\n",
    "    def name_match_check(m):\n",
    "        return model_name.lower().strip() in m[\"Name1\"].lower()\n",
    "    try:\n",
    "        return [i for i,m in enumerate(all_models) if name_match_check(m)]\n",
    "    except StopIteration:\n",
    "        return []\n",
    "find_indices(\"alexnet\")"
   ]
  },
  {
   "cell_type": "code",
   "execution_count": 5,
   "id": "8ca29526",
   "metadata": {},
   "outputs": [],
   "source": [
    "def mark_working_models(working_models, keyword):\n",
    "    for m in all_models:\n",
    "        m[keyword] = False\n",
    "\n",
    "\n",
    "    for m in working_models:\n",
    "        indices = find_indices(m)\n",
    "        if not indices:\n",
    "            print(f\"Couldn't find {keyword} model: \" + m)\n",
    "            continue\n",
    "        if len(indices) > 1:\n",
    "    #         print(\"Model matches to multiple entries: \" + m)\n",
    "    #         print(f\"Entries: {[all_models[i]['Name1'] for i in indices]}\")\n",
    "            pass\n",
    "        index = indices[-1]\n",
    "        if m.lower().strip() in \"VGG16\".lower():\n",
    "            print(f\"vgg found: {indices}\") \n",
    "            index = indices[0]\n",
    "        all_models[index][keyword] = True\n",
    "        all_models[index][\"used\"] = True\n"
   ]
  },
  {
   "cell_type": "code",
   "execution_count": 6,
   "id": "31cd00f5",
   "metadata": {},
   "outputs": [
    {
     "data": {
      "text/plain": [
       "[{'Name1': 'AlexNet_Weights.IMAGENET1K_V1',\n",
       "  ' Acc@1': ' 56.522',\n",
       "  ' Acc@5': ' 79.066',\n",
       "  ' Params': ' 61.1M',\n",
       "  'used': True,\n",
       "  'Crypten': True},\n",
       " {'Name1': 'ConvNeXt_Base_Weights.IMAGENET1K_V1',\n",
       "  ' Acc@1': ' 84.062',\n",
       "  ' Acc@5': ' 96.87',\n",
       "  ' Params': ' 88.6M',\n",
       "  'used': True,\n",
       "  'Crypten': True},\n",
       " {'Name1': 'ConvNeXt_Large_Weights.IMAGENET1K_V1',\n",
       "  ' Acc@1': ' 84.414',\n",
       "  ' Acc@5': ' 96.976',\n",
       "  ' Params': ' 197.8M',\n",
       "  'used': True,\n",
       "  'Crypten': True},\n",
       " {'Name1': 'ConvNeXt_Small_Weights.IMAGENET1K_V1',\n",
       "  ' Acc@1': ' 83.616',\n",
       "  ' Acc@5': ' 96.65',\n",
       "  ' Params': ' 50.2M',\n",
       "  'used': True,\n",
       "  'Crypten': True},\n",
       " {'Name1': 'ConvNeXt_Tiny_Weights.IMAGENET1K_V1',\n",
       "  ' Acc@1': ' 82.52',\n",
       "  ' Acc@5': ' 96.146',\n",
       "  ' Params': ' 28.6M',\n",
       "  'used': True,\n",
       "  'Crypten': True}]"
      ]
     },
     "execution_count": 6,
     "metadata": {},
     "output_type": "execute_result"
    }
   ],
   "source": [
    "with open(\"crypten\", \"r\") as fp:\n",
    "    working_models = fp.readlines()\n",
    "mark_working_models(working_models, \"Crypten\")\n",
    "all_models[:5]"
   ]
  },
  {
   "cell_type": "code",
   "execution_count": 7,
   "id": "9aa75e14",
   "metadata": {
    "scrolled": true
   },
   "outputs": [
    {
     "name": "stdout",
     "output_type": "stream",
     "text": [
      "vgg found: [92, 93, 94]\n"
     ]
    },
    {
     "data": {
      "text/plain": [
       "['mobilenet_v2\\n',\n",
       " 'resnet101\\n',\n",
       " 'resnet152\\n',\n",
       " 'resnet50\\n',\n",
       " 'vgg16\\n',\n",
       " 'vgg19']"
      ]
     },
     "execution_count": 7,
     "metadata": {},
     "output_type": "execute_result"
    }
   ],
   "source": [
    "with open(\"TFEnc\", \"r\") as fp:\n",
    "    working_models = fp.readlines()\n",
    "mark_working_models(working_models, \"TFEnc\")\n",
    "all_models[:5]\n",
    "working_models"
   ]
  },
  {
   "cell_type": "code",
   "execution_count": 8,
   "id": "162899d5",
   "metadata": {},
   "outputs": [
    {
     "name": "stdout",
     "output_type": "stream",
     "text": [
      "Deleted models: 59\n"
     ]
    }
   ],
   "source": [
    "deleted_models = [m for m in all_models if not m[\"used\"]]\n",
    "all_models = [m for m in all_models if m[\"used\"]]\n",
    "print(\"Deleted models: \" + str(len(deleted_models)))"
   ]
  },
  {
   "cell_type": "code",
   "execution_count": 9,
   "id": "96a40685",
   "metadata": {
    "scrolled": true
   },
   "outputs": [
    {
     "data": {
      "text/plain": [
       "[{'Name1': 'AlexNet_Weights.IMAGENET1K_V1',\n",
       "  ' Acc@1': ' 56.522',\n",
       "  ' Acc@5': ' 79.066',\n",
       "  ' Params': ' 61.1M',\n",
       "  'used': True,\n",
       "  'Crypten': True,\n",
       "  'TFEnc': False,\n",
       "  'Name2': 'AlexNet'},\n",
       " {'Name1': 'ConvNeXt_Base_Weights.IMAGENET1K_V1',\n",
       "  ' Acc@1': ' 84.062',\n",
       "  ' Acc@5': ' 96.87',\n",
       "  ' Params': ' 88.6M',\n",
       "  'used': True,\n",
       "  'Crypten': True,\n",
       "  'TFEnc': False,\n",
       "  'Name2': 'ConvNeXt Base'},\n",
       " {'Name1': 'ConvNeXt_Large_Weights.IMAGENET1K_V1',\n",
       "  ' Acc@1': ' 84.414',\n",
       "  ' Acc@5': ' 96.976',\n",
       "  ' Params': ' 197.8M',\n",
       "  'used': True,\n",
       "  'Crypten': True,\n",
       "  'TFEnc': False,\n",
       "  'Name2': 'ConvNeXt Large'},\n",
       " {'Name1': 'ConvNeXt_Small_Weights.IMAGENET1K_V1',\n",
       "  ' Acc@1': ' 83.616',\n",
       "  ' Acc@5': ' 96.65',\n",
       "  ' Params': ' 50.2M',\n",
       "  'used': True,\n",
       "  'Crypten': True,\n",
       "  'TFEnc': False,\n",
       "  'Name2': 'ConvNeXt Small'},\n",
       " {'Name1': 'ConvNeXt_Tiny_Weights.IMAGENET1K_V1',\n",
       "  ' Acc@1': ' 82.52',\n",
       "  ' Acc@5': ' 96.146',\n",
       "  ' Params': ' 28.6M',\n",
       "  'used': True,\n",
       "  'Crypten': True,\n",
       "  'TFEnc': False,\n",
       "  'Name2': 'ConvNeXt Tiny'}]"
      ]
     },
     "execution_count": 9,
     "metadata": {},
     "output_type": "execute_result"
    }
   ],
   "source": [
    "for m in all_models:\n",
    "    pretty_name = m[\"Name1\"]\n",
    "    loc = pretty_name.find(\"Weights\")\n",
    "    pretty_name = pretty_name[:loc-1]\n",
    "    pretty_name = pretty_name.replace(\"_\", \" \")\n",
    "    m[\"Name2\"] = pretty_name\n",
    "all_models[:5]"
   ]
  },
  {
   "cell_type": "code",
   "execution_count": 10,
   "id": "3239245a",
   "metadata": {},
   "outputs": [
    {
     "data": {
      "text/plain": [
       "[{'Name1': 'MobileNet_V2_Weights.IMAGENET1K_V2',\n",
       "  ' Acc@1': ' 72.154',\n",
       "  ' Acc@5': ' 90.822',\n",
       "  ' Params': ' 3.5M',\n",
       "  'used': True,\n",
       "  'Crypten': True,\n",
       "  'TFEnc': True,\n",
       "  'Name2': 'MobileNet V2'},\n",
       " {'Name1': 'ResNet152_Weights.IMAGENET1K_V2',\n",
       "  ' Acc@1': ' 82.284',\n",
       "  ' Acc@5': ' 96.002',\n",
       "  ' Params': ' 60.2M',\n",
       "  'used': True,\n",
       "  'Crypten': True,\n",
       "  'TFEnc': True,\n",
       "  'Name2': 'ResNet152'},\n",
       " {'Name1': 'VGG16_BN_Weights.IMAGENET1K_V1',\n",
       "  ' Acc@1': ' 73.36',\n",
       "  ' Acc@5': ' 91.516',\n",
       "  ' Params': ' 138.4M',\n",
       "  'used': True,\n",
       "  'Crypten': False,\n",
       "  'TFEnc': True,\n",
       "  'Name2': 'VGG16 BN'},\n",
       " {'Name1': 'VGG19_Weights.IMAGENET1K_V1',\n",
       "  ' Acc@1': ' 72.376',\n",
       "  ' Acc@5': ' 90.876',\n",
       "  ' Params': ' 143.7M',\n",
       "  'used': True,\n",
       "  'Crypten': False,\n",
       "  'TFEnc': True,\n",
       "  'Name2': 'VGG19'},\n",
       " {'Name1': 'Wide_ResNet101_2_Weights.IMAGENET1K_V2',\n",
       "  ' Acc@1': ' 82.51',\n",
       "  ' Acc@5': ' 96.02',\n",
       "  ' Params': ' 126.9M',\n",
       "  'used': True,\n",
       "  'Crypten': True,\n",
       "  'TFEnc': True,\n",
       "  'Name2': 'Wide ResNet101 2'},\n",
       " {'Name1': 'Wide_ResNet50_2_Weights.IMAGENET1K_V2',\n",
       "  ' Acc@1': ' 81.602',\n",
       "  ' Acc@5': ' 95.758',\n",
       "  ' Params': ' 68.9M',\n",
       "  'used': True,\n",
       "  'Crypten': True,\n",
       "  'TFEnc': True,\n",
       "  'Name2': 'Wide ResNet50 2'}]"
      ]
     },
     "execution_count": 10,
     "metadata": {},
     "output_type": "execute_result"
    }
   ],
   "source": [
    "[m for m in all_models if m[\"TFEnc\"]]"
   ]
  },
  {
   "cell_type": "code",
   "execution_count": 11,
   "id": "a52d8916",
   "metadata": {},
   "outputs": [
    {
     "name": "stdout",
     "output_type": "stream",
     "text": [
      "\\textbf{Name} & \\textbf{Top-1 Acc}  & \\textbf{Top-5 Acc} & \\textbf{\\#Parameters} & \\textbf{Crypten Support}  & \\textbf{TFEncrypted Support} \\\\ \\hline\n",
      "AlexNet & 56.522 & 79.066 & 61.1M &Yes &No \\\\ \\hline\n",
      "ConvNeXt Base & 84.062 & 96.87 & 88.6M &Yes &No \\\\ \\hline\n",
      "ConvNeXt Large & 84.414 & 96.976 & 197.8M &Yes &No \\\\ \\hline\n",
      "ConvNeXt Small & 83.616 & 96.65 & 50.2M &Yes &No \\\\ \\hline\n",
      "ConvNeXt Tiny & 82.52 & 96.146 & 28.6M &Yes &No \\\\ \\hline\n",
      "DenseNet121 & 74.434 & 91.972 & 8.0M &Yes &No \\\\ \\hline\n",
      "DenseNet161 & 77.138 & 93.56 & 28.7M &Yes &No \\\\ \\hline\n",
      "DenseNet169 & 75.6 & 92.806 & 14.1M &Yes &No \\\\ \\hline\n",
      "DenseNet201 & 76.896 & 93.37 & 20.0M &Yes &No \\\\ \\hline\n",
      "EfficientNet B0 & 77.692 & 93.532 & 5.3M &Yes &No \\\\ \\hline\n",
      "EfficientNet B1 & 79.838 & 94.934 & 7.8M &Yes &No \\\\ \\hline\n",
      "EfficientNet B2 & 80.608 & 95.31 & 9.1M &Yes &No \\\\ \\hline\n",
      "EfficientNet B3 & 82.008 & 96.054 & 12.2M &Yes &No \\\\ \\hline\n",
      "EfficientNet B4 & 83.384 & 96.594 & 19.3M &Yes &No \\\\ \\hline\n",
      "EfficientNet B5 & 83.444 & 96.628 & 30.4M &Yes &No \\\\ \\hline\n",
      "EfficientNet B6 & 84.008 & 96.916 & 43.0M &Yes &No \\\\ \\hline\n",
      "EfficientNet B7 & 84.122 & 96.908 & 66.3M &Yes &No \\\\ \\hline\n",
      "EfficientNet V2 L & 85.808 & 97.788 & 118.5M &Yes &No \\\\ \\hline\n",
      "EfficientNet V2 M & 85.112 & 97.156 & 54.1M &Yes &No \\\\ \\hline\n",
      "EfficientNet V2 S & 84.228 & 96.878 & 21.5M &Yes &No \\\\ \\hline\n",
      "GoogLeNet & 69.778 & 89.53 & 6.6M &Yes &No \\\\ \\hline\n",
      "MNASNet0 5 & 67.734 & 87.49 & 2.2M &Yes &No \\\\ \\hline\n",
      "MNASNet0 75 & 71.18 & 90.496 & 3.2M &Yes &No \\\\ \\hline\n",
      "MNASNet1 0 & 73.456 & 91.51 & 4.4M &Yes &No \\\\ \\hline\n",
      "MNASNet1 3 & 76.506 & 93.522 & 6.3M &Yes &No \\\\ \\hline\n",
      "MobileNet V2 & 72.154 & 90.822 & 3.5M &Yes &Yes \\\\ \\hline\n",
      "RegNet X 16GF & 82.716 & 96.196 & 54.3M &Yes &No \\\\ \\hline\n",
      "RegNet X 1 6GF & 79.668 & 94.922 & 9.2M &Yes &No \\\\ \\hline\n",
      "RegNet X 32GF & 83.014 & 96.288 & 107.8M &Yes &No \\\\ \\hline\n",
      "RegNet X 3 2GF & 81.196 & 95.43 & 15.3M &Yes &No \\\\ \\hline\n",
      "RegNet X 400MF & 74.864 & 92.322 & 5.5M &Yes &No \\\\ \\hline\n",
      "RegNet X 800MF & 77.522 & 93.826 & 7.3M &Yes &No \\\\ \\hline\n",
      "RegNet X 8GF & 81.682 & 95.678 & 39.6M &Yes &No \\\\ \\hline\n",
      "RegNet Y 16GF & 83.976 & 97.244 & 83.6M &Yes &No \\\\ \\hline\n",
      "RegNet Y 1 6GF & 80.876 & 95.444 & 11.2M &Yes &No \\\\ \\hline\n",
      "RegNet Y 32GF & 84.622 & 97.48 & 145.0M &Yes &No \\\\ \\hline\n",
      "RegNet Y 3 2GF & 81.982 & 95.972 & 19.4M &Yes &No \\\\ \\hline\n",
      "RegNet Y 400MF & 75.804 & 92.742 & 4.3M &Yes &No \\\\ \\hline\n",
      "RegNet Y 800MF & 78.828 & 94.502 & 6.4M &Yes &No \\\\ \\hline\n",
      "RegNet Y 8GF & 82.828 & 96.33 & 39.4M &Yes &No \\\\ \\hline\n",
      "ResNeXt101 32X8D & 82.834 & 96.228 & 88.8M &Yes &No \\\\ \\hline\n",
      "ResNeXt50 32X4D & 81.198 & 95.34 & 25.0M &Yes &No \\\\ \\hline\n",
      "ResNet152 & 82.284 & 96.002 & 60.2M &Yes &Yes \\\\ \\hline\n",
      "ResNet18 & 69.758 & 89.078 & 11.7M &Yes &No \\\\ \\hline\n",
      "ResNet34 & 73.314 & 91.42 & 21.8M &Yes &No \\\\ \\hline\n",
      "ShuffleNet V2 X0 5 & 60.552 & 81.746 & 1.4M &Yes &No \\\\ \\hline\n",
      "ShuffleNet V2 X1 0 & 69.362 & 88.316 & 2.3M &Yes &No \\\\ \\hline\n",
      "ShuffleNet V2 X1 5 & 72.996 & 91.086 & 3.5M &Yes &No \\\\ \\hline\n",
      "VGG16 BN & 73.36 & 91.516 & 138.4M &No &Yes \\\\ \\hline\n",
      "VGG19 & 72.376 & 90.876 & 143.7M &No &Yes \\\\ \\hline\n",
      "Wide ResNet101 2 & 82.51 & 96.02 & 126.9M &Yes &Yes \\\\ \\hline\n",
      "Wide ResNet50 2 & 81.602 & 95.758 & 68.9M &Yes &Yes \\\\ \\hline\n"
     ]
    }
   ],
   "source": [
    "\n",
    "print(\"\\\\textbf{Name} & \\\\textbf{Top-1 Acc}  & \\\\textbf{Top-5 Acc}\"\n",
    "      \" & \\\\textbf{\\\\#Parameters} & \\\\textbf{Crypten Support}  & \\\\textbf{TFEncrypted Support} \\\\\\\\ \\\\hline\")\n",
    "\n",
    "for m in all_models:\n",
    "    print(\n",
    "        f'{m[\"Name2\"]} &'\n",
    "        f'{m[\" Acc@1\"]} &'\n",
    "        f'{m[\" Acc@5\"]} &'\n",
    "        f'{m[\" Params\"]} &'\n",
    "        f'{\"Yes\" if m[\"Crypten\"] else \"No\"} &'\n",
    "        f'{\"Yes\" if m[\"TFEnc\"] else \"No\"}'\n",
    "        \" \\\\\\\\ \\\\hline\")"
   ]
  },
  {
   "cell_type": "code",
   "execution_count": null,
   "id": "9656ba04",
   "metadata": {},
   "outputs": [],
   "source": []
  }
 ],
 "metadata": {
  "kernelspec": {
   "display_name": "Python 3 (ipykernel)",
   "language": "python",
   "name": "python3"
  },
  "language_info": {
   "codemirror_mode": {
    "name": "ipython",
    "version": 3
   },
   "file_extension": ".py",
   "mimetype": "text/x-python",
   "name": "python",
   "nbconvert_exporter": "python",
   "pygments_lexer": "ipython3",
   "version": "3.9.12"
  }
 },
 "nbformat": 4,
 "nbformat_minor": 5
}
