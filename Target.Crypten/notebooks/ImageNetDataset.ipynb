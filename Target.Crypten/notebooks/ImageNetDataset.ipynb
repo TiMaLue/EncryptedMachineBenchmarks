{
 "cells": [
  {
   "cell_type": "code",
   "execution_count": 3,
   "id": "12166416",
   "metadata": {},
   "outputs": [],
   "source": [
    "import torchvision\n",
    "import torch\n",
    "from torchvision import datasets, transforms, models\n",
    "import matplotlib.pyplot as plt"
   ]
  },
  {
   "cell_type": "code",
   "execution_count": 4,
   "id": "e67ac703",
   "metadata": {},
   "outputs": [
    {
     "name": "stderr",
     "output_type": "stream",
     "text": [
      "Using cache found in /home/amin/.cache/torch/hub/pytorch_vision_v0.13.1\n"
     ]
    },
    {
     "data": {
      "text/plain": [
       "['alexnet',\n",
       " 'convnext_base',\n",
       " 'convnext_large',\n",
       " 'convnext_small',\n",
       " 'convnext_tiny',\n",
       " 'deeplabv3_mobilenet_v3_large',\n",
       " 'deeplabv3_resnet101',\n",
       " 'deeplabv3_resnet50',\n",
       " 'densenet121',\n",
       " 'densenet161',\n",
       " 'densenet169',\n",
       " 'densenet201',\n",
       " 'efficientnet_b0',\n",
       " 'efficientnet_b1',\n",
       " 'efficientnet_b2',\n",
       " 'efficientnet_b3',\n",
       " 'efficientnet_b4',\n",
       " 'efficientnet_b5',\n",
       " 'efficientnet_b6',\n",
       " 'efficientnet_b7',\n",
       " 'efficientnet_v2_l',\n",
       " 'efficientnet_v2_m',\n",
       " 'efficientnet_v2_s',\n",
       " 'fcn_resnet101',\n",
       " 'fcn_resnet50',\n",
       " 'get_weight',\n",
       " 'googlenet',\n",
       " 'inception_v3',\n",
       " 'lraspp_mobilenet_v3_large',\n",
       " 'mnasnet0_5',\n",
       " 'mnasnet0_75',\n",
       " 'mnasnet1_0',\n",
       " 'mnasnet1_3',\n",
       " 'mobilenet_v2',\n",
       " 'mobilenet_v3_large',\n",
       " 'mobilenet_v3_small',\n",
       " 'raft_large',\n",
       " 'raft_small',\n",
       " 'regnet_x_16gf',\n",
       " 'regnet_x_1_6gf',\n",
       " 'regnet_x_32gf',\n",
       " 'regnet_x_3_2gf',\n",
       " 'regnet_x_400mf',\n",
       " 'regnet_x_800mf',\n",
       " 'regnet_x_8gf',\n",
       " 'regnet_y_128gf',\n",
       " 'regnet_y_16gf',\n",
       " 'regnet_y_1_6gf',\n",
       " 'regnet_y_32gf',\n",
       " 'regnet_y_3_2gf',\n",
       " 'regnet_y_400mf',\n",
       " 'regnet_y_800mf',\n",
       " 'regnet_y_8gf',\n",
       " 'resnet101',\n",
       " 'resnet152',\n",
       " 'resnet18',\n",
       " 'resnet34',\n",
       " 'resnet50',\n",
       " 'resnext101_32x8d',\n",
       " 'resnext50_32x4d',\n",
       " 'shufflenet_v2_x0_5',\n",
       " 'shufflenet_v2_x1_0',\n",
       " 'shufflenet_v2_x1_5',\n",
       " 'shufflenet_v2_x2_0',\n",
       " 'squeezenet1_0',\n",
       " 'squeezenet1_1',\n",
       " 'swin_b',\n",
       " 'swin_s',\n",
       " 'swin_t',\n",
       " 'vgg11',\n",
       " 'vgg11_bn',\n",
       " 'vgg13',\n",
       " 'vgg13_bn',\n",
       " 'vgg16',\n",
       " 'vgg16_bn',\n",
       " 'vgg19',\n",
       " 'vgg19_bn',\n",
       " 'vit_b_16',\n",
       " 'vit_b_32',\n",
       " 'vit_h_14',\n",
       " 'vit_l_16',\n",
       " 'vit_l_32',\n",
       " 'wide_resnet101_2',\n",
       " 'wide_resnet50_2']"
      ]
     },
     "execution_count": 4,
     "metadata": {},
     "output_type": "execute_result"
    }
   ],
   "source": [
    "repo_ = \"pytorch/vision:v0.13.1\"\n",
    "m_list = torch.hub.list(repo_)\n",
    "success_list = set()\n",
    "model_data = dict()\n",
    "m_list"
   ]
  },
  {
   "cell_type": "code",
   "execution_count": 2,
   "id": "0bb74e85",
   "metadata": {},
   "outputs": [],
   "source": [
    "from PIL import Image\n",
    "from torchvision.io import read_image\n",
    "def load_image(path, show=False):\n",
    "    img = read_image(path)\n",
    "#     with open(path, \"rb\") as fp:\n",
    "#         img = Image.open(fp)\n",
    "#         return img\n",
    "    if img is None:\n",
    "        return None\n",
    "    if show:\n",
    "        plt.imshow(transforms.ToPILImage()(img))\n",
    "        plt.axis('off')\n",
    "    return img"
   ]
  },
  {
   "cell_type": "code",
   "execution_count": 3,
   "id": "de6aca3c",
   "metadata": {
    "scrolled": false
   },
   "outputs": [
    {
     "data": {
      "text/plain": [
       "tensor([[[ 73,  59,  64,  ...,  86,  83,  79],\n",
       "         [ 74,  71,  71,  ...,  83,  89,  92],\n",
       "         [ 75,  61,  57,  ...,  81,  88,  92],\n",
       "         ...,\n",
       "         [ 51,  49,  58,  ..., 217, 218, 211],\n",
       "         [ 48,  54,  63,  ..., 221, 211, 191],\n",
       "         [ 45,  55,  58,  ..., 160, 163, 179]],\n",
       "\n",
       "        [[ 92,  94,  92,  ..., 108, 110, 113],\n",
       "         [ 94,  98,  98,  ..., 111, 108, 107],\n",
       "         [ 97,  94,  98,  ..., 112, 108, 105],\n",
       "         ...,\n",
       "         [ 82,  77,  75,  ..., 191, 219, 205],\n",
       "         [ 79,  76,  79,  ..., 226, 219, 214],\n",
       "         [ 74,  72,  72,  ..., 180, 180, 184]],\n",
       "\n",
       "        [[125, 136, 139,  ..., 157, 153, 151],\n",
       "         [131, 128, 127,  ..., 150, 150, 148],\n",
       "         [121, 129, 128,  ..., 158, 158, 157],\n",
       "         ...,\n",
       "         [ 87,  78,  82,  ..., 200, 214, 205],\n",
       "         [ 64,  63,  66,  ..., 229, 222, 204],\n",
       "         [ 54,  53,  55,  ..., 189, 196, 190]]], dtype=torch.uint8)"
      ]
     },
     "execution_count": 3,
     "metadata": {},
     "output_type": "execute_result"
    },
    {
     "data": {
      "image/png": "[encoded data removed]",
      "text/plain": [
       "<Figure size 640x480 with 1 Axes>"
      ]
     },
     "metadata": {},
     "output_type": "display_data"
    }
   ],
   "source": [
    "img_path = \"/home/amin/repos/ma-praxis-related/imagenet-sample-images/n02894605_breakwater.JPEG\"\n",
    "load_image(img_path, show=True)"
   ]
  },
  {
   "cell_type": "code",
   "execution_count": 4,
   "id": "dbb02b1c",
   "metadata": {},
   "outputs": [],
   "source": [
    "def ToRGB(x):\n",
    "    if x.shape[0]==1:\n",
    "        return  x.repeat(3, 1, 1)\n",
    "    return x"
   ]
  },
  {
   "cell_type": "code",
   "execution_count": 5,
   "id": "169cccb3",
   "metadata": {},
   "outputs": [],
   "source": [
    "t = transforms.Compose([\n",
    "    transforms.ToPILImage(),\n",
    "    transforms.Resize(256),\n",
    "    transforms.CenterCrop(224),\n",
    "    transforms.ToTensor(),\n",
    "    ToRGB\n",
    "    ])"
   ]
  },
  {
   "cell_type": "code",
   "execution_count": 6,
   "id": "a6625f5e",
   "metadata": {},
   "outputs": [],
   "source": [
    "from torchvision.models import ConvNeXt_Tiny_Weights\n",
    "t = transforms.Compose([\n",
    "    ToRGB,\n",
    "    transforms.ToPILImage(),\n",
    "    ConvNeXt_Tiny_Weights.IMAGENET1K_V1.transforms()\n",
    "])"
   ]
  },
  {
   "cell_type": "code",
   "execution_count": 7,
   "id": "a937e408",
   "metadata": {},
   "outputs": [],
   "source": [
    "from pathlib import Path\n",
    "img_dataset = \"/home/amin/repos/ma-praxis-related/imagenet-sample-images/\"\n",
    "pathlist = Path(img_dataset).glob('*.JPEG')\n",
    "images = []\n",
    "labels = []\n",
    "for path in pathlist:\n",
    "    # because path is object not string\n",
    "    path_in_str = str(path)\n",
    "    img = load_image(path_in_str)\n",
    "    img = t(img)\n",
    "    img = img.unsqueeze(0)\n",
    "    images.append(img)\n",
    "    labels.append(path.stem)\n",
    "images_t = torch.cat(images)"
   ]
  },
  {
   "cell_type": "code",
   "execution_count": 11,
   "id": "a7d5e8da",
   "metadata": {},
   "outputs": [
    {
     "data": {
      "text/plain": [
       "1000"
      ]
     },
     "execution_count": 11,
     "metadata": {},
     "output_type": "execute_result"
    }
   ],
   "source": [
    "len(images)"
   ]
  },
  {
   "cell_type": "code",
   "execution_count": 12,
   "id": "89070a07",
   "metadata": {},
   "outputs": [
    {
     "data": {
      "text/plain": [
       "['n02106382_Bouvier_des_Flandres',\n",
       " 'n04254777_sock',\n",
       " 'n04613696_yurt',\n",
       " 'n02256656_cicada',\n",
       " 'n02106550_Rottweiler',\n",
       " 'n04204238_shopping_basket',\n",
       " 'n04264628_space_bar',\n",
       " 'n04557648_water_bottle',\n",
       " 'n03271574_electric_fan',\n",
       " 'n02837789_bikini',\n",
       " 'n04599235_wool',\n",
       " 'n07613480_trifle',\n",
       " 'n02447366_badger',\n",
       " 'n02099429_curly-coated_retriever',\n",
       " 'n01945685_slug',\n",
       " 'n03595614_jersey',\n",
       " 'n01629819_European_fire_salamander',\n",
       " 'n04592741_wing',\n",
       " 'n04251144_snorkel',\n",
       " 'n04141975_scale',\n",
       " 'n02802426_basketball',\n",
       " 'n03297495_espresso_maker',\n",
       " 'n02096437_Dandie_Dinmont',\n",
       " 'n04277352_spindle',\n",
       " 'n06874185_traffic_light',\n",
       " 'n02096585_Boston_bull',\n",
       " 'n01695060_Komodo_dragon',\n",
       " 'n03843555_oil_filter',\n",
       " 'n03759954_microphone',\n",
       " 'n04532670_viaduct',\n",
       " 'n01443537_goldfish',\n",
       " 'n04263257_soup_bowl',\n",
       " 'n04044716_radio_telescope',\n",
       " 'n01491361_tiger_shark',\n",
       " 'n03804744_nail',\n",
       " 'n04515003_upright',\n",
       " 'n02835271_bicycle-built-for-two',\n",
       " 'n02104029_kuvasz',\n",
       " 'n07697537_hotdog',\n",
       " 'n02092339_Weimaraner',\n",
       " 'n01751748_sea_snake',\n",
       " 'n02097047_miniature_schnauzer',\n",
       " 'n02071294_killer_whale',\n",
       " 'n04209133_shower_cap',\n",
       " 'n02100877_Irish_setter',\n",
       " 'n03743016_megalith',\n",
       " 'n01784675_centipede',\n",
       " 'n04258138_solar_dish',\n",
       " 'n07590611_hot_pot',\n",
       " 'n02749479_assault_rifle',\n",
       " 'n01873310_platypus',\n",
       " 'n02114855_coyote',\n",
       " 'n02137549_mongoose',\n",
       " 'n02776631_bakery',\n",
       " 'n09246464_cliff',\n",
       " 'n03944341_pinwheel',\n",
       " 'n03452741_grand_piano',\n",
       " 'n02804610_bassoon',\n",
       " 'n02165456_ladybug',\n",
       " 'n04118776_rule',\n",
       " 'n02977058_cash_machine',\n",
       " 'n04344873_studio_couch',\n",
       " 'n03594945_jeep',\n",
       " 'n02091831_Saluki',\n",
       " 'n03916031_perfume',\n",
       " 'n03527444_holster',\n",
       " 'n04409515_tennis_ball',\n",
       " 'n02117135_hyena',\n",
       " 'n04118538_rugby_ball',\n",
       " \"n03992509_potter's_wheel\",\n",
       " 'n01981276_king_crab',\n",
       " 'n03717622_manhole_cover',\n",
       " 'n03947888_pirate',\n",
       " 'n04509417_unicycle',\n",
       " 'n03345487_fire_engine',\n",
       " 'n02488702_colobus',\n",
       " 'n02916936_bulletproof_vest',\n",
       " 'n02795169_barrel',\n",
       " 'n03954731_plane',\n",
       " 'n02504458_African_elephant',\n",
       " 'n03272010_electric_guitar',\n",
       " 'n02403003_ox',\n",
       " 'n02129604_tiger',\n",
       " 'n07693725_bagel',\n",
       " 'n07831146_carbonara',\n",
       " 'n02783161_ballpoint',\n",
       " 'n03792972_mountain_tent',\n",
       " 'n03188531_diaper',\n",
       " 'n03902125_pay-phone',\n",
       " 'n04606251_wreck',\n",
       " 'n02536864_coho',\n",
       " 'n02105056_groenendael',\n",
       " 'n03733131_maypole',\n",
       " 'n02066245_grey_whale',\n",
       " 'n02356798_fox_squirrel',\n",
       " 'n07871810_meat_loaf',\n",
       " 'n02128757_snow_leopard',\n",
       " 'n04153751_screw',\n",
       " 'n02123159_tiger_cat',\n",
       " 'n02097474_Tibetan_terrier',\n",
       " 'n02978881_cassette',\n",
       " 'n02417914_ibex',\n",
       " 'n02930766_cab',\n",
       " 'n03637318_lampshade',\n",
       " 'n02794156_barometer',\n",
       " 'n04346328_stupa',\n",
       " 'n04540053_volleyball',\n",
       " 'n01729322_hognose_snake',\n",
       " 'n02509815_lesser_panda',\n",
       " 'n01440764_tench',\n",
       " 'n02112350_keeshond',\n",
       " 'n01978455_rock_crab',\n",
       " 'n03935335_piggy_bank',\n",
       " 'n02098105_soft-coated_wheaten_terrier',\n",
       " 'n01669191_box_turtle',\n",
       " 'n02110806_basenji',\n",
       " 'n02105162_malinois',\n",
       " 'n03355925_flagpole',\n",
       " 'n03032252_cinema',\n",
       " 'n03445924_golfcart',\n",
       " 'n03529860_home_theater',\n",
       " 'n02948072_candle',\n",
       " 'n04041544_radio',\n",
       " 'n02747177_ashcan',\n",
       " 'n07753275_pineapple',\n",
       " 'n02415577_bighorn',\n",
       " 'n03777568_Model_T',\n",
       " 'n01968897_chambered_nautilus',\n",
       " 'n01798484_prairie_chicken',\n",
       " 'n03417042_garbage_truck',\n",
       " 'n04005630_prison',\n",
       " 'n04467665_trailer_truck',\n",
       " 'n04049303_rain_barrel',\n",
       " 'n01756291_sidewinder',\n",
       " 'n11879895_rapeseed',\n",
       " 'n02088466_bloodhound',\n",
       " 'n02013706_limpkin',\n",
       " 'n01843065_jacamar',\n",
       " 'n03623198_knee_pad',\n",
       " 'n01819313_sulphur-crested_cockatoo',\n",
       " 'n02112018_Pomeranian',\n",
       " 'n02094258_Norwich_terrier',\n",
       " 'n01534433_junco',\n",
       " 'n02437312_Arabian_camel',\n",
       " 'n01630670_common_newt',\n",
       " 'n03967562_plow',\n",
       " 'n02102973_Irish_water_spaniel',\n",
       " 'n03476684_hair_slide',\n",
       " 'n02134418_sloth_bear',\n",
       " 'n02457408_three-toed_sloth',\n",
       " 'n02174001_rhinoceros_beetle',\n",
       " 'n03325584_feather_boa',\n",
       " 'n01685808_whiptail',\n",
       " 'n01632458_spotted_salamander',\n",
       " 'n02486410_baboon',\n",
       " 'n04154565_screwdriver',\n",
       " 'n02101556_clumber',\n",
       " 'n03908714_pencil_sharpener',\n",
       " 'n03761084_microwave',\n",
       " 'n01614925_bald_eagle',\n",
       " 'n01704323_triceratops',\n",
       " 'n07920052_espresso',\n",
       " 'n03924679_photocopier',\n",
       " 'n03127747_crash_helmet',\n",
       " 'n01776313_tick',\n",
       " 'n02025239_ruddy_turnstone',\n",
       " 'n04065272_recreational_vehicle',\n",
       " 'n02797295_barrow',\n",
       " 'n03249569_drum',\n",
       " 'n04259630_sombrero',\n",
       " 'n02106662_German_shepherd',\n",
       " 'n01694178_African_chameleon',\n",
       " 'n07714990_broccoli',\n",
       " 'n03976467_Polaroid_camera',\n",
       " 'n03018349_china_cabinet',\n",
       " 'n02086079_Pekinese',\n",
       " 'n04074963_remote_control',\n",
       " 'n02099601_golden_retriever',\n",
       " 'n02894605_breakwater',\n",
       " 'n02168699_long-horned_beetle',\n",
       " 'n02097130_giant_schnauzer',\n",
       " 'n03785016_moped',\n",
       " 'n01558993_robin',\n",
       " 'n03787032_mortarboard',\n",
       " 'n02643566_lionfish',\n",
       " 'n01847000_drake',\n",
       " 'n02804414_bassinet',\n",
       " 'n02483708_siamang',\n",
       " 'n12620546_hip',\n",
       " 'n12768682_buckeye',\n",
       " 'n07930864_cup',\n",
       " 'n02730930_apron',\n",
       " 'n04040759_radiator',\n",
       " 'n04590129_window_shade',\n",
       " 'n03457902_greenhouse',\n",
       " 'n04252225_snowplow',\n",
       " 'n03895866_passenger_car',\n",
       " 'n09468604_valley',\n",
       " 'n02107908_Appenzeller',\n",
       " 'n07718472_cucumber',\n",
       " 'n04286575_spotlight',\n",
       " 'n03814639_neck_brace',\n",
       " 'n04591157_Windsor_tie',\n",
       " 'n06596364_comic_book',\n",
       " 'n02879718_bow',\n",
       " 'n12144580_corn',\n",
       " 'n04147183_schooner',\n",
       " 'n02917067_bullet_train',\n",
       " 'n15075141_toilet_tissue',\n",
       " 'n02099267_flat-coated_retriever',\n",
       " 'n03095699_container_ship',\n",
       " 'n01770393_scorpion',\n",
       " 'n03970156_plunger',\n",
       " 'n02138441_meerkat',\n",
       " 'n03476991_hair_spray',\n",
       " 'n02410509_bison',\n",
       " 'n02110341_dalmatian',\n",
       " 'n03496892_harvester',\n",
       " 'n02093859_Kerry_blue_terrier',\n",
       " 'n04389033_tank',\n",
       " 'n04252077_snowmobile',\n",
       " 'n04033901_quill',\n",
       " 'n02094114_Norfolk_terrier',\n",
       " 'n04254120_soap_dispenser',\n",
       " 'n04229816_ski_mask',\n",
       " 'n02999410_chain',\n",
       " 'n03938244_pillow',\n",
       " 'n03126707_crane',\n",
       " 'n03658185_letter_opener',\n",
       " 'n02279972_monarch',\n",
       " 'n07717410_acorn_squash',\n",
       " 'n03534580_hoopskirt',\n",
       " 'n04146614_school_bus',\n",
       " 'n01740131_night_snake',\n",
       " 'n03100240_convertible',\n",
       " 'n02091032_Italian_greyhound',\n",
       " 'n02808440_bathtub',\n",
       " 'n03379051_football_helmet',\n",
       " 'n02927161_butcher_shop',\n",
       " 'n04325704_stole',\n",
       " 'n04522168_vase',\n",
       " 'n02093256_Staffordshire_bullterrier',\n",
       " 'n01693334_green_lizard',\n",
       " 'n04081281_restaurant',\n",
       " \"n02966687_carpenter's_kit\",\n",
       " 'n02325366_wood_rabbit',\n",
       " 'n02445715_skunk',\n",
       " 'n03691459_loudspeaker',\n",
       " 'n02443484_black-footed_ferret',\n",
       " 'n01728572_thunder_snake',\n",
       " 'n02992211_cello',\n",
       " 'n01843383_toucan',\n",
       " 'n03775071_mitten',\n",
       " 'n03109150_corkscrew',\n",
       " 'n02667093_abaya',\n",
       " 'n02011460_bittern',\n",
       " 'n02607072_anemone_fish',\n",
       " 'n03942813_ping-pong_ball',\n",
       " 'n01829413_hornbill',\n",
       " 'n03676483_lipstick',\n",
       " 'n01734418_king_snake',\n",
       " 'n03220513_dome',\n",
       " 'n03908618_pencil_box',\n",
       " 'n03201208_dining_table',\n",
       " 'n02422699_impala',\n",
       " 'n03089624_confectionery',\n",
       " 'n02098413_Lhasa',\n",
       " 'n07875152_potpie',\n",
       " 'n04435653_tile_roof',\n",
       " 'n02051845_pelican',\n",
       " 'n03384352_forklift',\n",
       " 'n04033995_quilt',\n",
       " 'n03347037_fire_screen',\n",
       " 'n02096177_cairn',\n",
       " 'n03481172_hammer',\n",
       " 'n02769748_backpack',\n",
       " 'n04552348_warplane',\n",
       " 'n02342885_hamster',\n",
       " 'n02971356_carton',\n",
       " 'n04090263_rifle',\n",
       " 'n02486261_patas',\n",
       " 'n01531178_goldfinch',\n",
       " 'n03649909_lawn_mower',\n",
       " 'n03930630_pickup',\n",
       " 'n02704792_amphibian',\n",
       " 'n03764736_milk_can',\n",
       " 'n02130308_cheetah',\n",
       " 'n07715103_cauliflower',\n",
       " 'n04162706_seat_belt',\n",
       " 'n02494079_squirrel_monkey',\n",
       " 'n13052670_hen-of-the-woods',\n",
       " 'n07248320_book_jacket',\n",
       " 'n03781244_monastery',\n",
       " 'n02172182_dung_beetle',\n",
       " 'n03661043_library',\n",
       " 'n04266014_space_shuttle',\n",
       " 'n03134739_croquet_ball',\n",
       " 'n03980874_poncho',\n",
       " 'n02909870_bucket',\n",
       " 'n01806143_peacock',\n",
       " 'n03710637_maillot',\n",
       " 'n03594734_jean',\n",
       " 'n02326432_hare',\n",
       " 'n01955084_chiton',\n",
       " 'n03709823_mailbag',\n",
       " 'n07711569_mashed_potato',\n",
       " 'n03991062_pot',\n",
       " 'n01744401_rock_python',\n",
       " 'n04476259_tray',\n",
       " 'n02102177_Welsh_springer_spaniel',\n",
       " 'n02834397_bib',\n",
       " 'n04442312_toaster',\n",
       " 'n01667114_mud_turtle',\n",
       " 'n03208938_disk_brake',\n",
       " 'n02123045_tabby',\n",
       " 'n03692522_loupe',\n",
       " 'n03769881_minibus',\n",
       " 'n07716358_zucchini',\n",
       " 'n04487081_trolleybus',\n",
       " 'n04228054_ski',\n",
       " 'n02825657_bell_cote',\n",
       " 'n02690373_airliner',\n",
       " 'n06794110_street_sign',\n",
       " 'n03903868_pedestal',\n",
       " 'n07860988_dough',\n",
       " 'n02112137_chow',\n",
       " 'n03724870_mask',\n",
       " 'n02484975_guenon',\n",
       " 'n07695742_pretzel',\n",
       " 'n09472597_volcano',\n",
       " 'n02823428_beer_bottle',\n",
       " 'n01990800_isopod',\n",
       " 'n03065424_coil',\n",
       " 'n02497673_Madagascar_cat',\n",
       " 'n01774750_tarantula',\n",
       " 'n01697457_African_crocodile',\n",
       " 'n02487347_macaque',\n",
       " 'n03868242_oxcart',\n",
       " 'n02089867_Walker_hound',\n",
       " 'n04204347_shopping_cart',\n",
       " 'n02396427_wild_boar',\n",
       " 'n02277742_ringlet',\n",
       " 'n04243546_slot',\n",
       " 'n04357314_sunscreen',\n",
       " 'n03485407_hand-held_computer',\n",
       " 'n03187595_dial_telephone',\n",
       " 'n03920288_Petri_dish',\n",
       " 'n04458633_totem_pole',\n",
       " 'n03404251_fur_coat',\n",
       " 'n04235860_sleeping_bag',\n",
       " 'n04208210_shovel',\n",
       " 'n03794056_mousetrap',\n",
       " 'n01773157_black_and_gold_garden_spider',\n",
       " 'n01986214_hermit_crab',\n",
       " 'n03977966_police_van',\n",
       " 'n02666196_abacus',\n",
       " 'n02123597_Siamese_cat',\n",
       " 'n01820546_lorikeet',\n",
       " 'n03884397_panpipe',\n",
       " 'n02226429_grasshopper',\n",
       " 'n13044778_earthstar',\n",
       " 'n02027492_red-backed_sandpiper',\n",
       " 'n03000134_chainlink_fence',\n",
       " 'n02259212_leafhopper',\n",
       " 'n01698640_American_alligator',\n",
       " 'n02692877_airship',\n",
       " 'n02112706_Brabancon_griffon',\n",
       " 'n02892201_brass',\n",
       " 'n03773504_missile',\n",
       " 'n02087046_toy_terrier',\n",
       " 'n02086910_papillon',\n",
       " 'n01950731_sea_slug',\n",
       " 'n03443371_goblet',\n",
       " 'n02120079_Arctic_fox',\n",
       " 'n07684084_French_loaf',\n",
       " 'n04141327_scabbard',\n",
       " 'n02107312_miniature_pinscher',\n",
       " 'n03776460_mobile_home',\n",
       " 'n02859443_boathouse',\n",
       " 'n03388183_fountain_pen',\n",
       " 'n07583066_guacamole',\n",
       " 'n03950228_pitcher',\n",
       " 'n02727426_apiary',\n",
       " 'n02012849_crane',\n",
       " 'n02105505_komondor',\n",
       " 'n04501370_turnstile',\n",
       " 'n04483307_trimaran',\n",
       " 'n04067472_reel',\n",
       " 'n09256479_coral_reef',\n",
       " 'n04317175_stethoscope',\n",
       " 'n03000247_chain_mail',\n",
       " 'n03642806_laptop',\n",
       " 'n04507155_umbrella',\n",
       " 'n01514859_hen',\n",
       " 'n03982430_pool_table',\n",
       " 'n02099712_Labrador_retriever',\n",
       " 'n03444034_go-kart',\n",
       " 'n01755581_diamondback',\n",
       " 'n03544143_hourglass',\n",
       " 'n03841143_odometer',\n",
       " 'n04201297_shoji',\n",
       " 'n03958227_plastic_bag',\n",
       " 'n03584829_iron',\n",
       " 'n02095314_wire-haired_fox_terrier',\n",
       " 'n04347754_submarine',\n",
       " 'n03085013_computer_keyboard',\n",
       " 'n02096051_Airedale',\n",
       " 'n02127052_lynx',\n",
       " 'n03877845_palace',\n",
       " 'n02120505_grey_fox',\n",
       " 'n02089973_English_foxhound',\n",
       " 'n04070727_refrigerator',\n",
       " 'n04311004_steel_arch_bridge',\n",
       " 'n02002724_black_stork',\n",
       " 'n03602883_joystick',\n",
       " 'n03393912_freight_car',\n",
       " 'n02641379_gar',\n",
       " 'n03866082_overskirt',\n",
       " 'n07716906_spaghetti_squash',\n",
       " 'n04597913_wooden_spoon',\n",
       " 'n04525305_vending_machine',\n",
       " 'n02096294_Australian_terrier',\n",
       " 'n02097209_standard_schnauzer',\n",
       " 'n01530575_brambling',\n",
       " 'n03445777_golf_ball',\n",
       " 'n07892512_red_wine',\n",
       " 'n01775062_wolf_spider',\n",
       " 'n04482393_tricycle',\n",
       " 'n02504013_Indian_elephant',\n",
       " 'n02177972_weevil',\n",
       " 'n04418357_theater_curtain',\n",
       " 'n01818515_macaw',\n",
       " 'n02444819_otter',\n",
       " 'n07579787_plate',\n",
       " 'n07802026_hay',\n",
       " 'n03197337_digital_watch',\n",
       " 'n02085620_Chihuahua',\n",
       " 'n04039381_racket',\n",
       " 'n07745940_strawberry',\n",
       " 'n03998194_prayer_rug',\n",
       " 'n02133161_American_black_bear',\n",
       " 'n03793489_mouse',\n",
       " 'n03045698_cloak',\n",
       " 'n02104365_schipperke',\n",
       " 'n03857828_oscilloscope',\n",
       " 'n02002556_white_stork',\n",
       " 'n01742172_boa_constrictor',\n",
       " 'n04596742_wok',\n",
       " 'n02981792_catamaran',\n",
       " 'n03598930_jigsaw_puzzle',\n",
       " 'n07565083_menu',\n",
       " 'n01883070_wombat',\n",
       " 'n01877812_wallaby',\n",
       " 'n02091635_otterhound',\n",
       " 'n02965783_car_mirror',\n",
       " 'n02105412_kelpie',\n",
       " 'n02321529_sea_cucumber',\n",
       " 'n02442845_mink',\n",
       " 'n02009912_American_egret',\n",
       " 'n01773549_barn_spider',\n",
       " 'n04179913_sewing_machine',\n",
       " 'n02281787_lycaenid',\n",
       " 'n02676566_acoustic_guitar',\n",
       " 'n03786901_mortar',\n",
       " 'n09193705_alp',\n",
       " 'n01910747_jellyfish',\n",
       " 'n03673027_liner',\n",
       " 'n07734744_mushroom',\n",
       " 'n04456115_torch',\n",
       " 'n02165105_tiger_beetle',\n",
       " 'n02095889_Sealyham_terrier',\n",
       " 'n03478589_half_track',\n",
       " 'n03803284_muzzle',\n",
       " 'n03832673_notebook',\n",
       " 'n02094433_Yorkshire_terrier',\n",
       " 'n03482405_hamper',\n",
       " 'n01773797_garden_spider',\n",
       " 'n01682714_American_chameleon',\n",
       " 'n02280649_cabbage_butterfly',\n",
       " 'n02814860_beacon',\n",
       " 'n03814906_necklace',\n",
       " 'n03937543_pill_bottle',\n",
       " 'n04023962_punching_bag',\n",
       " 'n02231487_walking_stick',\n",
       " 'n02992529_cellular_telephone',\n",
       " 'n04037443_racer',\n",
       " 'n11939491_daisy',\n",
       " 'n03891332_parking_meter',\n",
       " 'n03697007_lumbermill',\n",
       " 'n03344393_fireboat',\n",
       " 'n02788148_bannister',\n",
       " 'n02111277_Newfoundland',\n",
       " 'n03733281_maze',\n",
       " 'n02109047_Great_Dane',\n",
       " 'n02093428_American_Staffordshire_terrier',\n",
       " 'n02892767_brassiere',\n",
       " 'n01855032_red-breasted_merganser',\n",
       " 'n07754684_jackfruit',\n",
       " 'n01664065_loggerhead',\n",
       " 'n02966193_carousel',\n",
       " 'n03788365_mosquito_net',\n",
       " 'n02950826_cannon',\n",
       " 'n04447861_toilet_seat',\n",
       " 'n04200800_shoe_shop',\n",
       " 'n01739381_vine_snake',\n",
       " 'n03877472_pajama',\n",
       " 'n02281406_sulphur_butterfly',\n",
       " 'n01665541_leatherback_turtle',\n",
       " 'n03854065_organ',\n",
       " 'n02206856_bee',\n",
       " 'n02110627_affenpinscher',\n",
       " 'n03680355_Loafer',\n",
       " 'n04465501_tractor',\n",
       " 'n01983481_American_lobster',\n",
       " 'n04136333_sarong',\n",
       " 'n09835506_ballplayer',\n",
       " 'n01592084_chickadee',\n",
       " 'n03272562_electric_locomotive',\n",
       " 'n02110185_Siberian_husky',\n",
       " 'n03014705_chest',\n",
       " 'n09428293_seashore',\n",
       " 'n02108551_Tibetan_mastiff',\n",
       " 'n02389026_sorrel',\n",
       " 'n04486054_triumphal_arch',\n",
       " 'n06359193_web_site',\n",
       " 'n02423022_gazelle',\n",
       " 'n03630383_lab_coat',\n",
       " 'n02113023_Pembroke',\n",
       " 'n02910353_buckle',\n",
       " 'n03124170_cowboy_hat',\n",
       " 'n02793495_barn',\n",
       " 'n02489166_proboscis_monkey',\n",
       " 'n03770439_miniskirt',\n",
       " 'n01644900_tailed_frog',\n",
       " 'n02098286_West_Highland_white_terrier',\n",
       " 'n04355933_sunglass',\n",
       " 'n02493509_titi',\n",
       " 'n02093754_Border_terrier',\n",
       " 'n04399382_teddy',\n",
       " 'n13040303_stinkhorn',\n",
       " 'n02190166_fly',\n",
       " 'n01667778_terrapin',\n",
       " 'n02408429_water_buffalo',\n",
       " 'n03840681_ocarina',\n",
       " 'n01833805_hummingbird',\n",
       " 'n02869837_bonnet',\n",
       " 'n01914609_sea_anemone',\n",
       " 'n01729977_green_snake',\n",
       " 'n03983396_pop_bottle',\n",
       " 'n02058221_albatross',\n",
       " 'n03775546_mixing_bowl',\n",
       " 'n01796340_ptarmigan',\n",
       " 'n02074367_dugong',\n",
       " 'n04111531_rotisserie',\n",
       " 'n02108422_bull_mastiff',\n",
       " 'n03599486_jinrikisha',\n",
       " 'n02116738_African_hunting_dog',\n",
       " 'n02125311_cougar',\n",
       " 'n02106030_collie',\n",
       " 'n07747607_orange',\n",
       " 'n03459775_grille',\n",
       " 'n03899768_patio',\n",
       " 'n02699494_altar',\n",
       " 'n03388549_four-poster',\n",
       " 'n01817953_African_grey',\n",
       " 'n02091467_Norwegian_elkhound',\n",
       " 'n02895154_breastplate',\n",
       " 'n04612504_yawl',\n",
       " 'n03259280_Dutch_oven',\n",
       " 'n01484850_great_white_shark',\n",
       " 'n03042490_cliff_dwelling',\n",
       " 'n01871265_tusker',\n",
       " 'n02951585_can_opener',\n",
       " 'n02108000_EntleBucher',\n",
       " 'n03666591_lighter',\n",
       " 'n02233338_cockroach',\n",
       " 'n02097298_Scotch_terrier',\n",
       " 'n04265275_space_heater',\n",
       " 'n01735189_garter_snake',\n",
       " 'n04099969_rocking_chair',\n",
       " 'n03535780_horizontal_bar',\n",
       " 'n02089078_black-and-tan_coonhound',\n",
       " 'n03376595_folding_chair',\n",
       " 'n04428191_thresher',\n",
       " 'n02865351_bolo_tie',\n",
       " 'n04209239_shower_curtain',\n",
       " 'n03930313_picket_fence',\n",
       " 'n03498962_hatchet',\n",
       " 'n03075370_combination_lock',\n",
       " 'n02108915_French_bulldog',\n",
       " 'n02097658_silky_terrier',\n",
       " 'n01728920_ringneck_snake',\n",
       " 'n04366367_suspension_bridge',\n",
       " 'n02124075_Egyptian_cat',\n",
       " 'n02840245_binder',\n",
       " 'n03825788_nipple',\n",
       " 'n02860847_bobsled',\n",
       " 'n01498041_stingray',\n",
       " \"n12057211_yellow_lady's_slipper\",\n",
       " 'n03791053_motor_scooter',\n",
       " 'n01768244_trilobite',\n",
       " 'n02791124_barber_chair',\n",
       " 'n03483316_hand_blower',\n",
       " 'n01753488_horned_viper',\n",
       " 'n07880968_burrito',\n",
       " 'n01795545_black_grouse',\n",
       " 'n02017213_European_gallinule',\n",
       " 'n02105855_Shetland_sheepdog',\n",
       " 'n02219486_ant',\n",
       " 'n02088364_beagle',\n",
       " 'n01749939_green_mamba',\n",
       " 'n02037110_oystercatcher',\n",
       " 'n03874599_padlock',\n",
       " 'n02115913_dhole',\n",
       " 'n02113624_toy_poodle',\n",
       " 'n01978287_Dungeness_crab',\n",
       " 'n04376876_syringe',\n",
       " 'n02799071_baseball',\n",
       " 'n04370456_sweatshirt',\n",
       " 'n03976657_pole',\n",
       " 'n03690938_lotion',\n",
       " 'n04004767_printer',\n",
       " 'n02119022_red_fox',\n",
       " 'n03788195_mosque',\n",
       " 'n12998815_agaric',\n",
       " 'n02236044_mantis',\n",
       " 'n02110958_pug',\n",
       " 'n02107574_Greater_Swiss_Mountain_dog',\n",
       " 'n12985857_coral_fungus',\n",
       " 'n04336792_stretcher',\n",
       " 'n02361337_marmot',\n",
       " 'n03063689_coffeepot',\n",
       " 'n07932039_eggnog',\n",
       " 'n03141823_crutch',\n",
       " 'n03125729_cradle',\n",
       " 'n04086273_revolver',\n",
       " 'n02412080_ram',\n",
       " 'n07720875_bell_pepper',\n",
       " 'n03710193_mailbox',\n",
       " 'n02028035_redshank',\n",
       " 'n02483362_gibbon',\n",
       " 'n04350905_suit',\n",
       " 'n02085936_Maltese_dog',\n",
       " 'n02500267_indri',\n",
       " 'n03041632_cleaver',\n",
       " 'n01582220_magpie',\n",
       " 'n01924916_flatworm',\n",
       " 'n02790996_barbell',\n",
       " 'n03837869_obelisk',\n",
       " 'n02134084_ice_bear',\n",
       " 'n03450230_gown',\n",
       " 'n03255030_dumbbell',\n",
       " 'n01688243_frilled_lizard',\n",
       " 'n07584110_consomme',\n",
       " 'n03720891_maraca',\n",
       " 'n02319095_sea_urchin',\n",
       " 'n02085782_Japanese_spaniel',\n",
       " 'n02510455_giant_panda',\n",
       " 'n02113186_Cardigan',\n",
       " 'n03388043_fountain',\n",
       " 'n04554684_washer',\n",
       " 'n03495258_harp',\n",
       " 'n04367480_swab',\n",
       " 'n01860187_black_swan',\n",
       " 'n04560804_water_jug',\n",
       " 'n03777754_modem',\n",
       " 'n04149813_scoreboard',\n",
       " 'n03876231_paintbrush',\n",
       " 'n03929660_pick',\n",
       " 'n04141076_sax',\n",
       " 'n02979186_cassette_player',\n",
       " 'n03662601_lifeboat',\n",
       " 'n02951358_canoe',\n",
       " 'n03584254_iPod',\n",
       " 'n03290653_entertainment_center',\n",
       " 'n02132136_brown_bear',\n",
       " 'n02086646_Blenheim_spaniel',\n",
       " 'n02105641_Old_English_sheepdog',\n",
       " 'n02672831_accordion',\n",
       " 'n02480495_orangutan',\n",
       " 'n02397096_warthog',\n",
       " 'n04310018_steam_locomotive',\n",
       " 'n03956157_planetarium',\n",
       " 'n02114548_white_wolf',\n",
       " 'n04417672_thatch',\n",
       " 'n01824575_coucal',\n",
       " 'n04270147_spatula',\n",
       " 'n03447721_gong',\n",
       " 'n02883205_bow_tie',\n",
       " 'n03250847_drumstick',\n",
       " 'n02346627_porcupine',\n",
       " 'n01537544_indigo_bunting',\n",
       " 'n03888257_parachute',\n",
       " 'n04133789_sandal',\n",
       " 'n04254680_soccer_ball',\n",
       " 'n07753113_fig',\n",
       " 'n09399592_promontory',\n",
       " 'n01622779_great_grey_owl',\n",
       " 'n10148035_groom',\n",
       " 'n02129165_lion',\n",
       " 'n02606052_rock_beauty',\n",
       " 'n03133878_Crock_Pot',\n",
       " 'n02006656_spoonbill',\n",
       " 'n01644373_tree_frog',\n",
       " 'n03216828_dock',\n",
       " 'n02088094_Afghan_hound',\n",
       " 'n02056570_king_penguin',\n",
       " 'n02823750_beer_glass',\n",
       " 'n04579145_whiskey_jug',\n",
       " 'n01692333_Gila_monster',\n",
       " 'n03124043_cowboy_boot',\n",
       " 'n02443114_polecat',\n",
       " 'n02454379_armadillo',\n",
       " 'n02090622_borzoi',\n",
       " 'n09421951_sandbar',\n",
       " 'n02111500_Great_Pyrenees',\n",
       " 'n01677366_common_iguana',\n",
       " 'n07753592_banana',\n",
       " 'n07730033_cardoon',\n",
       " 'n02091134_whippet',\n",
       " 'n03160309_dam',\n",
       " 'n03372029_flute',\n",
       " 'n02391049_zebra',\n",
       " 'n04525038_velvet',\n",
       " 'n02276258_admiral',\n",
       " 'n04505470_typewriter_keyboard',\n",
       " 'n02701002_ambulance',\n",
       " 'n01944390_snail',\n",
       " 'n02167151_ground_beetle',\n",
       " 'n02111129_Leonberg',\n",
       " 'n02974003_car_wheel',\n",
       " 'n04127249_safety_pin',\n",
       " 'n03196217_digital_clock',\n",
       " 'n03291819_envelope',\n",
       " 'n02090379_redbone',\n",
       " 'n02105251_briard',\n",
       " 'n03146219_cuirass',\n",
       " 'n02807133_bathing_cap',\n",
       " 'n03394916_French_horn',\n",
       " 'n04355338_sundial',\n",
       " 'n04548280_wall_clock',\n",
       " 'n03240683_drilling_platform',\n",
       " 'n04296562_stage',\n",
       " 'n13133613_ear',\n",
       " 'n04069434_reflex_camera',\n",
       " 'n04285008_sports_car',\n",
       " 'n02317335_starfish',\n",
       " 'n01985128_crayfish',\n",
       " 'n03492542_hard_disc',\n",
       " 'n03871628_packet',\n",
       " 'n02100735_English_setter',\n",
       " 'n02640242_sturgeon',\n",
       " 'n03494278_harmonica',\n",
       " 'n02655020_puffer',\n",
       " 'n03721384_marimba',\n",
       " 'n02481823_chimpanzee',\n",
       " 'n02106166_Border_collie',\n",
       " 'n04371430_swimming_trunks',\n",
       " 'n03467068_guillotine',\n",
       " 'n02109961_Eskimo_dog',\n",
       " 'n03223299_doormat',\n",
       " 'n01608432_kite',\n",
       " 'n01641577_bullfrog',\n",
       " 'n01601694_water_ouzel',\n",
       " 'n02090721_Irish_wolfhound',\n",
       " 'n04239074_sliding_door',\n",
       " 'n01748264_Indian_cobra',\n",
       " 'n07697313_cheeseburger',\n",
       " 'n03933933_pier',\n",
       " 'n04487394_trombone',\n",
       " 'n01494475_hammerhead',\n",
       " 'n03796401_moving_van',\n",
       " 'n03425413_gas_pump',\n",
       " 'n02088632_bluetick',\n",
       " 'n02669723_academic_gown',\n",
       " 'n02871525_bookshop',\n",
       " 'n04517823_vacuum',\n",
       " 'n01806567_quail',\n",
       " 'n01532829_house_finch',\n",
       " 'n09288635_geyser',\n",
       " 'n04591713_wine_bottle',\n",
       " 'n01917289_brain_coral',\n",
       " 'n02018207_American_coot',\n",
       " 'n03532672_hook',\n",
       " 'n02988304_CD_player',\n",
       " 'n02808304_bath_towel',\n",
       " 'n03633091_ladle',\n",
       " 'n01984695_spiny_lobster',\n",
       " 'n03110669_cornet',\n",
       " 'n04479046_trench_coat',\n",
       " 'n04443257_tobacco_shop',\n",
       " 'n04009552_projector',\n",
       " 'n02328150_Angora',\n",
       " 'n01514668_cock',\n",
       " 'n03062245_cocktail_shaker',\n",
       " 'n07768694_pomegranate',\n",
       " 'n02100583_vizsla',\n",
       " 'n03400231_frying_pan',\n",
       " 'n02169497_leaf_beetle',\n",
       " 'n03763968_military_uniform',\n",
       " 'n04192698_shield',\n",
       " 'n02791270_barbershop',\n",
       " 'n03063599_coffee_mug',\n",
       " 'n03887697_paper_towel',\n",
       " 'n04532106_vestment',\n",
       " 'n01855672_goose',\n",
       " 'n03873416_paddle',\n",
       " 'n02264363_lacewing',\n",
       " 'n02363005_beaver',\n",
       " 'n01807496_partridge',\n",
       " 'n02422106_hartebeest',\n",
       " 'n02093991_Irish_terrier',\n",
       " 'n02101006_Gordon_setter',\n",
       " 'n04398044_teapot',\n",
       " 'n03485794_handkerchief',\n",
       " 'n02110063_malamute',\n",
       " 'n01675722_banded_gecko',\n",
       " 'n02095570_Lakeland_terrier',\n",
       " 'n02102040_English_springer',\n",
       " 'n03016953_chiffonier',\n",
       " 'n02906734_broom',\n",
       " 'n02877765_bottlecap',\n",
       " 'n02111889_Samoyed',\n",
       " 'n07873807_pizza',\n",
       " 'n04584207_wig',\n",
       " 'n02687172_aircraft_carrier',\n",
       " 'n04550184_wardrobe',\n",
       " 'n01687978_agama',\n",
       " 'n04152593_screen',\n",
       " 'n03961711_plate_rack',\n",
       " 'n07718747_artichoke',\n",
       " 'n07717556_butternut_squash',\n",
       " 'n02113978_Mexican_hairless',\n",
       " 'n01737021_water_snake',\n",
       " 'n02268443_dragonfly',\n",
       " 'n01943899_conch',\n",
       " 'n02092002_Scottish_deerhound',\n",
       " 'n02113799_standard_poodle',\n",
       " 'n04273569_speedboat',\n",
       " 'n01518878_ostrich',\n",
       " 'n07615774_ice_lolly',\n",
       " 'n03000684_chain_saw',\n",
       " 'n07714571_head_cabbage',\n",
       " 'n09332890_lakeside',\n",
       " 'n03447447_gondola',\n",
       " 'n02782093_balloon',\n",
       " 'n12267677_acorn',\n",
       " 'n02033041_dowitcher',\n",
       " 'n03127925_crate',\n",
       " 'n04275548_spider_web',\n",
       " 'n07614500_ice_cream',\n",
       " 'n02109525_Saint_Bernard',\n",
       " 'n02817516_bearskin',\n",
       " 'n04332243_strainer',\n",
       " 'n04423845_thimble',\n",
       " 'n07760859_custard_apple',\n",
       " 'n04328186_stopwatch',\n",
       " 'n02786058_Band_Aid',\n",
       " 'n03314780_face_powder',\n",
       " 'n04330267_stove',\n",
       " 'n03179701_desk',\n",
       " 'n02493793_spider_monkey',\n",
       " 'n04579432_whistle',\n",
       " \"n03590841_jack-o'-lantern\",\n",
       " 'n02102318_cocker_spaniel',\n",
       " 'n03733805_measuring_cup',\n",
       " 'n02018795_bustard',\n",
       " 'n02128385_leopard',\n",
       " 'n07742313_Granny_Smith',\n",
       " 'n09229709_bubble',\n",
       " 'n04019541_puck',\n",
       " 'n01930112_nematode',\n",
       " 'n02229544_cricket',\n",
       " 'n03026506_Christmas_stocking',\n",
       " 'n02114712_red_wolf',\n",
       " 'n02870880_bookcase',\n",
       " 'n02480855_gorilla',\n",
       " 'n02526121_eel',\n",
       " 'n02441942_weasel',\n",
       " 'n04542943_waffle_iron',\n",
       " 'n02123394_Persian_cat',\n",
       " 'n02815834_beaker',\n",
       " 'n04238763_slide_rule',\n",
       " 'n02268853_damselfly',\n",
       " 'n04404412_television',\n",
       " 'n03131574_crib',\n",
       " 'n02114367_timber_wolf',\n",
       " 'n02113712_miniature_poodle',\n",
       " 'n04356056_sunglasses',\n",
       " 'n13037406_gyromitra',\n",
       " 'n04562935_water_tower',\n",
       " 'n04493381_tub',\n",
       " 'n04462240_toyshop',\n",
       " 'n02514041_barracouta',\n",
       " 'n02077923_sea_lion',\n",
       " 'n04326547_stone_wall',\n",
       " 'n02009229_little_blue_heron',\n",
       " 'n02364673_guinea_pig',\n",
       " 'n06785654_crossword_puzzle',\n",
       " 'n04131690_saltshaker',\n",
       " 'n02490219_marmoset',\n",
       " 'n03461385_grocery_store',\n",
       " 'n03742115_medicine_chest',\n",
       " 'n03538406_horse_cart',\n",
       " 'n04120489_running_shoe',\n",
       " 'n03868863_oxygen_mask',\n",
       " 'n03028079_church',\n",
       " 'n04536866_violin',\n",
       " 'n01689811_alligator_lizard',\n",
       " 'n02087394_Rhodesian_ridgeback',\n",
       " 'n01797886_ruffed_grouse',\n",
       " 'n01580077_jay',\n",
       " 'n02492660_howler_monkey',\n",
       " 'n03838899_oboe',\n",
       " 'n07749582_lemon',\n",
       " 'n03017168_chime',\n",
       " 'n03888605_parallel_bars',\n",
       " 'n02115641_dingo',\n",
       " 'n04461696_tow_truck',\n",
       " 'n03710721_maillot',\n",
       " 'n02437616_llama',\n",
       " 'n04604644_worm_fence',\n",
       " 'n03929855_pickelhaube',\n",
       " 'n03770679_minivan',\n",
       " 'n02492035_capuchin',\n",
       " 'n03530642_honeycomb',\n",
       " 'n02841315_binoculars',\n",
       " 'n02708093_analog_clock',\n",
       " 'n03180011_desktop_computer',\n",
       " 'n02777292_balance_beam',\n",
       " 'n01632777_axolotl',\n",
       " 'n02007558_flamingo',\n",
       " 'n04523525_vault',\n",
       " 'n04008634_projectile',\n",
       " 'n01616318_vulture',\n",
       " 'n02093647_Bedlington_terrier',\n",
       " 'n07836838_chocolate_sauce',\n",
       " 'n01882714_koala',\n",
       " 'n02107683_Bernese_mountain_dog',\n",
       " 'n02119789_kit_fox',\n",
       " 'n04429376_throne',\n",
       " 'n03657121_lens_cap',\n",
       " 'n04372370_switch',\n",
       " 'n03729826_matchstick',\n",
       " 'n02108089_boxer',\n",
       " 'n04589890_window_screen',\n",
       " 'n02128925_jaguar',\n",
       " 'n04335435_streetcar',\n",
       " 'n01872401_echidna',\n",
       " 'n02843684_birdhouse',\n",
       " 'n02102480_Sussex_spaniel',\n",
       " 'n02980441_castle',\n",
       " 'n02963159_cardigan',\n",
       " 'n04116512_rubber_eraser',\n",
       " 'n03874293_paddlewheel',\n",
       " 'n01496331_electric_ray',\n",
       " 'n04026417_purse',\n",
       " 'n01828970_bee_eater',\n",
       " 'n04311174_steel_drum',\n",
       " 'n02488291_langur',\n",
       " 'n03337140_file',\n",
       " 'n02099849_Chesapeake_Bay_retriever',\n",
       " 'n02814533_beach_wagon',\n",
       " 'n03424325_gasmask',\n",
       " 'n02100236_German_short-haired_pointer',\n",
       " 'n03792782_mountain_bike',\n",
       " 'n02088238_basset',\n",
       " 'n03207743_dishrag',\n",
       " 'n04125021_safe',\n",
       " 'n04380533_table_lamp',\n",
       " 'n01631663_eft',\n",
       " 'n03782006_monitor',\n",
       " 'n10565667_scuba_diver',\n",
       " 'n01560419_bulbul',\n",
       " 'n04553703_washbasin',\n",
       " 'n03047690_clog',\n",
       " 'n04392985_tape_player',\n",
       " 'n02395406_hog',\n",
       " 'n02086240_Shih-Tzu',\n",
       " 'n04485082_tripod',\n",
       " 'n01774384_black_widow',\n",
       " 'n03207941_dishwasher',\n",
       " 'n02398521_hippopotamus',\n",
       " 'n02787622_banjo',\n",
       " 'n02101388_Brittany_spaniel',\n",
       " 'n02939185_caldron',\n",
       " 'n13054560_bolete',\n",
       " 'n01770081_harvestman',\n",
       " 'n03670208_limousine',\n",
       " 'n03617480_kimono',\n",
       " 'n03627232_knot',\n",
       " 'n01980166_fiddler_crab',\n",
       " 'n03706229_magnetic_compass',\n",
       " 'n03218198_dogsled',\n",
       " 'n02091244_Ibizan_hound',\n",
       " 'n04371774_swing',\n",
       " 'n03891251_park_bench',\n",
       " 'n04548362_wallet',\n",
       " 'n03995372_power_drill',\n",
       " 'n02107142_Doberman']"
      ]
     },
     "execution_count": 12,
     "metadata": {},
     "output_type": "execute_result"
    }
   ],
   "source": [
    "labels"
   ]
  },
  {
   "cell_type": "code",
   "execution_count": null,
   "id": "84e804ef",
   "metadata": {},
   "outputs": [],
   "source": []
  },
  {
   "cell_type": "code",
   "execution_count": 13,
   "id": "d2f01799",
   "metadata": {},
   "outputs": [
    {
     "data": {
      "text/plain": [
       "torch.Size([1000, 3, 224, 224])"
      ]
     },
     "execution_count": 13,
     "metadata": {},
     "output_type": "execute_result"
    }
   ],
   "source": [
    "images_t.shape"
   ]
  },
  {
   "cell_type": "code",
   "execution_count": 14,
   "id": "ad912b34",
   "metadata": {
    "scrolled": true
   },
   "outputs": [
    {
     "data": {
      "image/png": "[encoded data removed]",
      "text/plain": [
       "<PIL.Image.Image image mode=RGB size=224x224>"
      ]
     },
     "execution_count": 14,
     "metadata": {},
     "output_type": "execute_result"
    }
   ],
   "source": [
    "transforms.ToPILImage()(images[33].squeeze(0))"
   ]
  },
  {
   "cell_type": "code",
   "execution_count": 36,
   "id": "cf889a34",
   "metadata": {
    "scrolled": true
   },
   "outputs": [
    {
     "name": "stderr",
     "output_type": "stream",
     "text": [
      "Downloading: \"https://download.pytorch.org/models/convnext_tiny-983f1562.pth\" to /home/amin/.cache/torch/hub/checkpoints/convnext_tiny-983f1562.pth\n",
      "21.5%IOPub message rate exceeded.\n",
      "The notebook server will temporarily stop sending output\n",
      "to the client in order to avoid crashing it.\n",
      "To change this limit, set the config variable\n",
      "`--NotebookApp.iopub_msg_rate_limit`.\n",
      "\n",
      "Current values:\n",
      "NotebookApp.iopub_msg_rate_limit=1000.0 (msgs/sec)\n",
      "NotebookApp.rate_limit_window=3.0 (secs)\n",
      "\n",
      "73.6%IOPub message rate exceeded.\n",
      "The notebook server will temporarily stop sending output\n",
      "to the client in order to avoid crashing it.\n",
      "To change this limit, set the config variable\n",
      "`--NotebookApp.iopub_msg_rate_limit`.\n",
      "\n",
      "Current values:\n",
      "NotebookApp.iopub_msg_rate_limit=1000.0 (msgs/sec)\n",
      "NotebookApp.rate_limit_window=3.0 (secs)\n",
      "\n"
     ]
    }
   ],
   "source": [
    "# m = torch.hub.load(repo_, \"convnext_tiny\")\n",
    "model = torchvision.models.convnext_tiny(weights=\"DEFAULT\")\n",
    "# model = torch.hub.load(repo_, \"resnet50\", weights=\"IMAGENET1K_V2\")"
   ]
  },
  {
   "cell_type": "code",
   "execution_count": 37,
   "id": "c3439c0f",
   "metadata": {
    "collapsed": true
   },
   "outputs": [
    {
     "data": {
      "text/plain": [
       "ConvNeXt(\n",
       "  (features): Sequential(\n",
       "    (0): Conv2dNormActivation(\n",
       "      (0): Conv2d(3, 96, kernel_size=(4, 4), stride=(4, 4))\n",
       "      (1): LayerNorm2d((96,), eps=1e-06, elementwise_affine=True)\n",
       "    )\n",
       "    (1): Sequential(\n",
       "      (0): CNBlock(\n",
       "        (block): Sequential(\n",
       "          (0): Conv2d(96, 96, kernel_size=(7, 7), stride=(1, 1), padding=(3, 3), groups=96)\n",
       "          (1): Permute()\n",
       "          (2): LayerNorm((96,), eps=1e-06, elementwise_affine=True)\n",
       "          (3): Linear(in_features=96, out_features=384, bias=True)\n",
       "          (4): GELU(approximate=none)\n",
       "          (5): Linear(in_features=384, out_features=96, bias=True)\n",
       "          (6): Permute()\n",
       "        )\n",
       "        (stochastic_depth): StochasticDepth(p=0.0, mode=row)\n",
       "      )\n",
       "      (1): CNBlock(\n",
       "        (block): Sequential(\n",
       "          (0): Conv2d(96, 96, kernel_size=(7, 7), stride=(1, 1), padding=(3, 3), groups=96)\n",
       "          (1): Permute()\n",
       "          (2): LayerNorm((96,), eps=1e-06, elementwise_affine=True)\n",
       "          (3): Linear(in_features=96, out_features=384, bias=True)\n",
       "          (4): GELU(approximate=none)\n",
       "          (5): Linear(in_features=384, out_features=96, bias=True)\n",
       "          (6): Permute()\n",
       "        )\n",
       "        (stochastic_depth): StochasticDepth(p=0.0058823529411764705, mode=row)\n",
       "      )\n",
       "      (2): CNBlock(\n",
       "        (block): Sequential(\n",
       "          (0): Conv2d(96, 96, kernel_size=(7, 7), stride=(1, 1), padding=(3, 3), groups=96)\n",
       "          (1): Permute()\n",
       "          (2): LayerNorm((96,), eps=1e-06, elementwise_affine=True)\n",
       "          (3): Linear(in_features=96, out_features=384, bias=True)\n",
       "          (4): GELU(approximate=none)\n",
       "          (5): Linear(in_features=384, out_features=96, bias=True)\n",
       "          (6): Permute()\n",
       "        )\n",
       "        (stochastic_depth): StochasticDepth(p=0.011764705882352941, mode=row)\n",
       "      )\n",
       "    )\n",
       "    (2): Sequential(\n",
       "      (0): LayerNorm2d((96,), eps=1e-06, elementwise_affine=True)\n",
       "      (1): Conv2d(96, 192, kernel_size=(2, 2), stride=(2, 2))\n",
       "    )\n",
       "    (3): Sequential(\n",
       "      (0): CNBlock(\n",
       "        (block): Sequential(\n",
       "          (0): Conv2d(192, 192, kernel_size=(7, 7), stride=(1, 1), padding=(3, 3), groups=192)\n",
       "          (1): Permute()\n",
       "          (2): LayerNorm((192,), eps=1e-06, elementwise_affine=True)\n",
       "          (3): Linear(in_features=192, out_features=768, bias=True)\n",
       "          (4): GELU(approximate=none)\n",
       "          (5): Linear(in_features=768, out_features=192, bias=True)\n",
       "          (6): Permute()\n",
       "        )\n",
       "        (stochastic_depth): StochasticDepth(p=0.017647058823529415, mode=row)\n",
       "      )\n",
       "      (1): CNBlock(\n",
       "        (block): Sequential(\n",
       "          (0): Conv2d(192, 192, kernel_size=(7, 7), stride=(1, 1), padding=(3, 3), groups=192)\n",
       "          (1): Permute()\n",
       "          (2): LayerNorm((192,), eps=1e-06, elementwise_affine=True)\n",
       "          (3): Linear(in_features=192, out_features=768, bias=True)\n",
       "          (4): GELU(approximate=none)\n",
       "          (5): Linear(in_features=768, out_features=192, bias=True)\n",
       "          (6): Permute()\n",
       "        )\n",
       "        (stochastic_depth): StochasticDepth(p=0.023529411764705882, mode=row)\n",
       "      )\n",
       "      (2): CNBlock(\n",
       "        (block): Sequential(\n",
       "          (0): Conv2d(192, 192, kernel_size=(7, 7), stride=(1, 1), padding=(3, 3), groups=192)\n",
       "          (1): Permute()\n",
       "          (2): LayerNorm((192,), eps=1e-06, elementwise_affine=True)\n",
       "          (3): Linear(in_features=192, out_features=768, bias=True)\n",
       "          (4): GELU(approximate=none)\n",
       "          (5): Linear(in_features=768, out_features=192, bias=True)\n",
       "          (6): Permute()\n",
       "        )\n",
       "        (stochastic_depth): StochasticDepth(p=0.029411764705882353, mode=row)\n",
       "      )\n",
       "    )\n",
       "    (4): Sequential(\n",
       "      (0): LayerNorm2d((192,), eps=1e-06, elementwise_affine=True)\n",
       "      (1): Conv2d(192, 384, kernel_size=(2, 2), stride=(2, 2))\n",
       "    )\n",
       "    (5): Sequential(\n",
       "      (0): CNBlock(\n",
       "        (block): Sequential(\n",
       "          (0): Conv2d(384, 384, kernel_size=(7, 7), stride=(1, 1), padding=(3, 3), groups=384)\n",
       "          (1): Permute()\n",
       "          (2): LayerNorm((384,), eps=1e-06, elementwise_affine=True)\n",
       "          (3): Linear(in_features=384, out_features=1536, bias=True)\n",
       "          (4): GELU(approximate=none)\n",
       "          (5): Linear(in_features=1536, out_features=384, bias=True)\n",
       "          (6): Permute()\n",
       "        )\n",
       "        (stochastic_depth): StochasticDepth(p=0.03529411764705883, mode=row)\n",
       "      )\n",
       "      (1): CNBlock(\n",
       "        (block): Sequential(\n",
       "          (0): Conv2d(384, 384, kernel_size=(7, 7), stride=(1, 1), padding=(3, 3), groups=384)\n",
       "          (1): Permute()\n",
       "          (2): LayerNorm((384,), eps=1e-06, elementwise_affine=True)\n",
       "          (3): Linear(in_features=384, out_features=1536, bias=True)\n",
       "          (4): GELU(approximate=none)\n",
       "          (5): Linear(in_features=1536, out_features=384, bias=True)\n",
       "          (6): Permute()\n",
       "        )\n",
       "        (stochastic_depth): StochasticDepth(p=0.0411764705882353, mode=row)\n",
       "      )\n",
       "      (2): CNBlock(\n",
       "        (block): Sequential(\n",
       "          (0): Conv2d(384, 384, kernel_size=(7, 7), stride=(1, 1), padding=(3, 3), groups=384)\n",
       "          (1): Permute()\n",
       "          (2): LayerNorm((384,), eps=1e-06, elementwise_affine=True)\n",
       "          (3): Linear(in_features=384, out_features=1536, bias=True)\n",
       "          (4): GELU(approximate=none)\n",
       "          (5): Linear(in_features=1536, out_features=384, bias=True)\n",
       "          (6): Permute()\n",
       "        )\n",
       "        (stochastic_depth): StochasticDepth(p=0.047058823529411764, mode=row)\n",
       "      )\n",
       "      (3): CNBlock(\n",
       "        (block): Sequential(\n",
       "          (0): Conv2d(384, 384, kernel_size=(7, 7), stride=(1, 1), padding=(3, 3), groups=384)\n",
       "          (1): Permute()\n",
       "          (2): LayerNorm((384,), eps=1e-06, elementwise_affine=True)\n",
       "          (3): Linear(in_features=384, out_features=1536, bias=True)\n",
       "          (4): GELU(approximate=none)\n",
       "          (5): Linear(in_features=1536, out_features=384, bias=True)\n",
       "          (6): Permute()\n",
       "        )\n",
       "        (stochastic_depth): StochasticDepth(p=0.052941176470588235, mode=row)\n",
       "      )\n",
       "      (4): CNBlock(\n",
       "        (block): Sequential(\n",
       "          (0): Conv2d(384, 384, kernel_size=(7, 7), stride=(1, 1), padding=(3, 3), groups=384)\n",
       "          (1): Permute()\n",
       "          (2): LayerNorm((384,), eps=1e-06, elementwise_affine=True)\n",
       "          (3): Linear(in_features=384, out_features=1536, bias=True)\n",
       "          (4): GELU(approximate=none)\n",
       "          (5): Linear(in_features=1536, out_features=384, bias=True)\n",
       "          (6): Permute()\n",
       "        )\n",
       "        (stochastic_depth): StochasticDepth(p=0.058823529411764705, mode=row)\n",
       "      )\n",
       "      (5): CNBlock(\n",
       "        (block): Sequential(\n",
       "          (0): Conv2d(384, 384, kernel_size=(7, 7), stride=(1, 1), padding=(3, 3), groups=384)\n",
       "          (1): Permute()\n",
       "          (2): LayerNorm((384,), eps=1e-06, elementwise_affine=True)\n",
       "          (3): Linear(in_features=384, out_features=1536, bias=True)\n",
       "          (4): GELU(approximate=none)\n",
       "          (5): Linear(in_features=1536, out_features=384, bias=True)\n",
       "          (6): Permute()\n",
       "        )\n",
       "        (stochastic_depth): StochasticDepth(p=0.06470588235294118, mode=row)\n",
       "      )\n",
       "      (6): CNBlock(\n",
       "        (block): Sequential(\n",
       "          (0): Conv2d(384, 384, kernel_size=(7, 7), stride=(1, 1), padding=(3, 3), groups=384)\n",
       "          (1): Permute()\n",
       "          (2): LayerNorm((384,), eps=1e-06, elementwise_affine=True)\n",
       "          (3): Linear(in_features=384, out_features=1536, bias=True)\n",
       "          (4): GELU(approximate=none)\n",
       "          (5): Linear(in_features=1536, out_features=384, bias=True)\n",
       "          (6): Permute()\n",
       "        )\n",
       "        (stochastic_depth): StochasticDepth(p=0.07058823529411766, mode=row)\n",
       "      )\n",
       "      (7): CNBlock(\n",
       "        (block): Sequential(\n",
       "          (0): Conv2d(384, 384, kernel_size=(7, 7), stride=(1, 1), padding=(3, 3), groups=384)\n",
       "          (1): Permute()\n",
       "          (2): LayerNorm((384,), eps=1e-06, elementwise_affine=True)\n",
       "          (3): Linear(in_features=384, out_features=1536, bias=True)\n",
       "          (4): GELU(approximate=none)\n",
       "          (5): Linear(in_features=1536, out_features=384, bias=True)\n",
       "          (6): Permute()\n",
       "        )\n",
       "        (stochastic_depth): StochasticDepth(p=0.07647058823529412, mode=row)\n",
       "      )\n",
       "      (8): CNBlock(\n",
       "        (block): Sequential(\n",
       "          (0): Conv2d(384, 384, kernel_size=(7, 7), stride=(1, 1), padding=(3, 3), groups=384)\n",
       "          (1): Permute()\n",
       "          (2): LayerNorm((384,), eps=1e-06, elementwise_affine=True)\n",
       "          (3): Linear(in_features=384, out_features=1536, bias=True)\n",
       "          (4): GELU(approximate=none)\n",
       "          (5): Linear(in_features=1536, out_features=384, bias=True)\n",
       "          (6): Permute()\n",
       "        )\n",
       "        (stochastic_depth): StochasticDepth(p=0.0823529411764706, mode=row)\n",
       "      )\n",
       "    )\n",
       "    (6): Sequential(\n",
       "      (0): LayerNorm2d((384,), eps=1e-06, elementwise_affine=True)\n",
       "      (1): Conv2d(384, 768, kernel_size=(2, 2), stride=(2, 2))\n",
       "    )\n",
       "    (7): Sequential(\n",
       "      (0): CNBlock(\n",
       "        (block): Sequential(\n",
       "          (0): Conv2d(768, 768, kernel_size=(7, 7), stride=(1, 1), padding=(3, 3), groups=768)\n",
       "          (1): Permute()\n",
       "          (2): LayerNorm((768,), eps=1e-06, elementwise_affine=True)\n",
       "          (3): Linear(in_features=768, out_features=3072, bias=True)\n",
       "          (4): GELU(approximate=none)\n",
       "          (5): Linear(in_features=3072, out_features=768, bias=True)\n",
       "          (6): Permute()\n",
       "        )\n",
       "        (stochastic_depth): StochasticDepth(p=0.08823529411764706, mode=row)\n",
       "      )\n",
       "      (1): CNBlock(\n",
       "        (block): Sequential(\n",
       "          (0): Conv2d(768, 768, kernel_size=(7, 7), stride=(1, 1), padding=(3, 3), groups=768)\n",
       "          (1): Permute()\n",
       "          (2): LayerNorm((768,), eps=1e-06, elementwise_affine=True)\n",
       "          (3): Linear(in_features=768, out_features=3072, bias=True)\n",
       "          (4): GELU(approximate=none)\n",
       "          (5): Linear(in_features=3072, out_features=768, bias=True)\n",
       "          (6): Permute()\n",
       "        )\n",
       "        (stochastic_depth): StochasticDepth(p=0.09411764705882353, mode=row)\n",
       "      )\n",
       "      (2): CNBlock(\n",
       "        (block): Sequential(\n",
       "          (0): Conv2d(768, 768, kernel_size=(7, 7), stride=(1, 1), padding=(3, 3), groups=768)\n",
       "          (1): Permute()\n",
       "          (2): LayerNorm((768,), eps=1e-06, elementwise_affine=True)\n",
       "          (3): Linear(in_features=768, out_features=3072, bias=True)\n",
       "          (4): GELU(approximate=none)\n",
       "          (5): Linear(in_features=3072, out_features=768, bias=True)\n",
       "          (6): Permute()\n",
       "        )\n",
       "        (stochastic_depth): StochasticDepth(p=0.1, mode=row)\n",
       "      )\n",
       "    )\n",
       "  )\n",
       "  (avgpool): AdaptiveAvgPool2d(output_size=1)\n",
       "  (classifier): Sequential(\n",
       "    (0): LayerNorm2d((768,), eps=1e-06, elementwise_affine=True)\n",
       "    (1): Flatten(start_dim=1, end_dim=-1)\n",
       "    (2): Linear(in_features=768, out_features=1000, bias=True)\n",
       "  )\n",
       ")"
      ]
     },
     "execution_count": 37,
     "metadata": {},
     "output_type": "execute_result"
    }
   ],
   "source": [
    "model"
   ]
  },
  {
   "cell_type": "code",
   "execution_count": 41,
   "id": "440d2534",
   "metadata": {},
   "outputs": [
    {
     "data": {
      "text/plain": [
       "torch.Size([1, 3, 224, 224])"
      ]
     },
     "execution_count": 41,
     "metadata": {},
     "output_type": "execute_result"
    }
   ],
   "source": [
    "images_t[0].unsqueeze(0).shape"
   ]
  },
  {
   "cell_type": "code",
   "execution_count": 43,
   "id": "8283b1e2",
   "metadata": {
    "scrolled": true
   },
   "outputs": [],
   "source": [
    "pred = m(images_t[0].unsqueeze(0))"
   ]
  },
  {
   "cell_type": "code",
   "execution_count": 47,
   "id": "f239dece",
   "metadata": {},
   "outputs": [
    {
     "data": {
      "text/plain": [
       "377"
      ]
     },
     "execution_count": 47,
     "metadata": {},
     "output_type": "execute_result"
    }
   ],
   "source": [
    "pred.squeeze(0).softmax(0).argmax().item()"
   ]
  },
  {
   "cell_type": "code",
   "execution_count": 49,
   "id": "b3dd2821",
   "metadata": {},
   "outputs": [
    {
     "data": {
      "text/plain": [
       "'n02106382_Bouvier_des_Flandres'"
      ]
     },
     "execution_count": 49,
     "metadata": {},
     "output_type": "execute_result"
    }
   ],
   "source": [
    "labels[0]"
   ]
  },
  {
   "cell_type": "code",
   "execution_count": 50,
   "id": "450f1879",
   "metadata": {},
   "outputs": [],
   "source": [
    "import crypten"
   ]
  },
  {
   "cell_type": "code",
   "execution_count": 52,
   "id": "5b6589ef",
   "metadata": {},
   "outputs": [
    {
     "name": "stderr",
     "output_type": "stream",
     "text": [
      "/home/amin/miniconda3/envs/ma3/lib/python3.9/site-packages/crypten/nn/onnx_converter.py:164: UserWarning: The given NumPy array is not writable, and PyTorch does not support non-writable tensors. This means writing to this tensor will result in undefined behavior. You may want to copy the array to protect its data or make it writable before converting it to a tensor. This type of warning will be suppressed for the rest of this program. (Triggered internally at  ../torch/csrc/utils/tensor_numpy.cpp:178.)\n",
      "  param = torch.from_numpy(numpy_helper.to_array(node))\n"
     ]
    }
   ],
   "source": [
    "enc_model = crypten.nn.from_pytorch(model, images_t[0].unsqueeze(0))"
   ]
  },
  {
   "cell_type": "code",
   "execution_count": 53,
   "id": "84f5f7a4",
   "metadata": {},
   "outputs": [
    {
     "data": {
      "text/plain": [
       "Graph unencrypted module"
      ]
     },
     "execution_count": 53,
     "metadata": {},
     "output_type": "execute_result"
    }
   ],
   "source": [
    "enc_model"
   ]
  },
  {
   "cell_type": "code",
   "execution_count": 54,
   "id": "4bb441d1",
   "metadata": {},
   "outputs": [
    {
     "name": "stderr",
     "output_type": "stream",
     "text": [
      "/home/amin/miniconda3/envs/ma3/lib/python3.9/site-packages/torchvision/models/_utils.py:208: UserWarning: The parameter 'pretrained' is deprecated since 0.13 and will be removed in 0.15, please use 'weights' instead.\n",
      "  warnings.warn(\n",
      "/home/amin/miniconda3/envs/ma3/lib/python3.9/site-packages/torchvision/models/_utils.py:223: UserWarning: Arguments other than a weight enum or `None` for 'weights' are deprecated since 0.13 and will be removed in 0.15. The current behavior is equivalent to passing `weights=ResNet18_Weights.IMAGENET1K_V1`. You can also use `weights=ResNet18_Weights.DEFAULT` to get the most up-to-date weights.\n",
      "  warnings.warn(msg)\n",
      "Downloading: \"https://download.pytorch.org/models/resnet18-f37072fd.pth\" to /home/amin/.cache/torch/hub/checkpoints/resnet18-f37072fd.pth\n",
      "52.5%IOPub message rate exceeded.\n",
      "The notebook server will temporarily stop sending output\n",
      "to the client in order to avoid crashing it.\n",
      "To change this limit, set the config variable\n",
      "`--NotebookApp.iopub_msg_rate_limit`.\n",
      "\n",
      "Current values:\n",
      "NotebookApp.iopub_msg_rate_limit=1000.0 (msgs/sec)\n",
      "NotebookApp.rate_limit_window=3.0 (secs)\n",
      "\n"
     ]
    },
    {
     "ename": "FileNotFoundError",
     "evalue": "[Errno 2] No such file or directory: '/home/amin/miniconda3/envs/ma3/lib/python3.9/site-packages/benchmarks/dog.jpg'",
     "output_type": "error",
     "traceback": [
      "\u001b[0;31m---------------------------------------------------------------------------\u001b[0m",
      "\u001b[0;31mFileNotFoundError\u001b[0m                         Traceback (most recent call last)",
      "Input \u001b[0;32mIn [54]\u001b[0m, in \u001b[0;36m<cell line: 1>\u001b[0;34m()\u001b[0m\n\u001b[0;32m----> 1\u001b[0m \u001b[38;5;28;01mfrom\u001b[39;00m \u001b[38;5;21;01mbenchmarks\u001b[39;00m\u001b[38;5;21;01m.\u001b[39;00m\u001b[38;5;21;01mmodels\u001b[39;00m \u001b[38;5;28;01mimport\u001b[39;00m Model\n",
      "File \u001b[0;32m~/miniconda3/envs/ma3/lib/python3.9/site-packages/benchmarks/models.py:137\u001b[0m, in \u001b[0;36m<module>\u001b[0;34m\u001b[0m\n\u001b[1;32m    108\u001b[0m     \u001b[38;5;28;01mdef\u001b[39;00m \u001b[38;5;21mforward\u001b[39m(\u001b[38;5;28mself\u001b[39m, x):\n\u001b[1;32m    109\u001b[0m         \u001b[38;5;28;01mreturn\u001b[39;00m \u001b[38;5;28mself\u001b[39m\u001b[38;5;241m.\u001b[39mmodel(x)\n\u001b[1;32m    112\u001b[0m MODELS \u001b[38;5;241m=\u001b[39m [\n\u001b[1;32m    113\u001b[0m     Model(\n\u001b[1;32m    114\u001b[0m         name\u001b[38;5;241m=\u001b[39m\u001b[38;5;124m\"\u001b[39m\u001b[38;5;124mlogistic regression\u001b[39m\u001b[38;5;124m\"\u001b[39m,\n\u001b[1;32m    115\u001b[0m         plain\u001b[38;5;241m=\u001b[39mLogisticRegression(),\n\u001b[1;32m    116\u001b[0m         crypten\u001b[38;5;241m=\u001b[39mLogisticRegressionCrypTen(),\n\u001b[1;32m    117\u001b[0m         data\u001b[38;5;241m=\u001b[39mdata\u001b[38;5;241m.\u001b[39mGaussianClusters(),\n\u001b[1;32m    118\u001b[0m         epochs\u001b[38;5;241m=\u001b[39m\u001b[38;5;241m50\u001b[39m,\n\u001b[1;32m    119\u001b[0m         lr\u001b[38;5;241m=\u001b[39m\u001b[38;5;241m0.1\u001b[39m,\n\u001b[1;32m    120\u001b[0m         loss\u001b[38;5;241m=\u001b[39m\u001b[38;5;124m\"\u001b[39m\u001b[38;5;124mBCELoss\u001b[39m\u001b[38;5;124m\"\u001b[39m,\n\u001b[1;32m    121\u001b[0m         advanced\u001b[38;5;241m=\u001b[39m\u001b[38;5;28;01mFalse\u001b[39;00m,\n\u001b[1;32m    122\u001b[0m     ),\n\u001b[1;32m    123\u001b[0m     Model(\n\u001b[1;32m    124\u001b[0m         name\u001b[38;5;241m=\u001b[39m\u001b[38;5;124m\"\u001b[39m\u001b[38;5;124mfeedforward neural network\u001b[39m\u001b[38;5;124m\"\u001b[39m,\n\u001b[1;32m    125\u001b[0m         plain\u001b[38;5;241m=\u001b[39mFeedForward(),\n\u001b[1;32m    126\u001b[0m         crypten\u001b[38;5;241m=\u001b[39mFeedForwardCrypTen(),\n\u001b[1;32m    127\u001b[0m         data\u001b[38;5;241m=\u001b[39mdata\u001b[38;5;241m.\u001b[39mGaussianClusters(),\n\u001b[1;32m    128\u001b[0m         epochs\u001b[38;5;241m=\u001b[39m\u001b[38;5;241m50\u001b[39m,\n\u001b[1;32m    129\u001b[0m         lr\u001b[38;5;241m=\u001b[39m\u001b[38;5;241m0.1\u001b[39m,\n\u001b[1;32m    130\u001b[0m         loss\u001b[38;5;241m=\u001b[39m\u001b[38;5;124m\"\u001b[39m\u001b[38;5;124mBCELoss\u001b[39m\u001b[38;5;124m\"\u001b[39m,\n\u001b[1;32m    131\u001b[0m         advanced\u001b[38;5;241m=\u001b[39m\u001b[38;5;28;01mFalse\u001b[39;00m,\n\u001b[1;32m    132\u001b[0m     ),\n\u001b[1;32m    133\u001b[0m     Model(\n\u001b[1;32m    134\u001b[0m         name\u001b[38;5;241m=\u001b[39m\u001b[38;5;124m\"\u001b[39m\u001b[38;5;124mresnet18\u001b[39m\u001b[38;5;124m\"\u001b[39m,\n\u001b[1;32m    135\u001b[0m         plain\u001b[38;5;241m=\u001b[39mResNet(n_layers\u001b[38;5;241m=\u001b[39m\u001b[38;5;241m18\u001b[39m),\n\u001b[1;32m    136\u001b[0m         crypten\u001b[38;5;241m=\u001b[39mResNetCrypTen(n_layers\u001b[38;5;241m=\u001b[39m\u001b[38;5;241m18\u001b[39m),\n\u001b[0;32m--> 137\u001b[0m         data\u001b[38;5;241m=\u001b[39m\u001b[43mdata\u001b[49m\u001b[38;5;241;43m.\u001b[39;49m\u001b[43mImages\u001b[49m\u001b[43m(\u001b[49m\u001b[43m)\u001b[49m,\n\u001b[1;32m    138\u001b[0m         epochs\u001b[38;5;241m=\u001b[39m\u001b[38;5;241m2\u001b[39m,\n\u001b[1;32m    139\u001b[0m         lr\u001b[38;5;241m=\u001b[39m\u001b[38;5;241m0.1\u001b[39m,\n\u001b[1;32m    140\u001b[0m         loss\u001b[38;5;241m=\u001b[39m\u001b[38;5;124m\"\u001b[39m\u001b[38;5;124mCrossEntropyLoss\u001b[39m\u001b[38;5;124m\"\u001b[39m,\n\u001b[1;32m    141\u001b[0m         advanced\u001b[38;5;241m=\u001b[39m\u001b[38;5;28;01mTrue\u001b[39;00m,\n\u001b[1;32m    142\u001b[0m     ),\n\u001b[1;32m    143\u001b[0m     Model(\n\u001b[1;32m    144\u001b[0m         name\u001b[38;5;241m=\u001b[39m\u001b[38;5;124m\"\u001b[39m\u001b[38;5;124mresnet34\u001b[39m\u001b[38;5;124m\"\u001b[39m,\n\u001b[1;32m    145\u001b[0m         plain\u001b[38;5;241m=\u001b[39mResNet(n_layers\u001b[38;5;241m=\u001b[39m\u001b[38;5;241m34\u001b[39m),\n\u001b[1;32m    146\u001b[0m         crypten\u001b[38;5;241m=\u001b[39mResNetCrypTen(n_layers\u001b[38;5;241m=\u001b[39m\u001b[38;5;241m34\u001b[39m),\n\u001b[1;32m    147\u001b[0m         data\u001b[38;5;241m=\u001b[39mdata\u001b[38;5;241m.\u001b[39mImages(),\n\u001b[1;32m    148\u001b[0m         epochs\u001b[38;5;241m=\u001b[39m\u001b[38;5;241m2\u001b[39m,\n\u001b[1;32m    149\u001b[0m         lr\u001b[38;5;241m=\u001b[39m\u001b[38;5;241m0.1\u001b[39m,\n\u001b[1;32m    150\u001b[0m         loss\u001b[38;5;241m=\u001b[39m\u001b[38;5;124m\"\u001b[39m\u001b[38;5;124mCrossEntropyLoss\u001b[39m\u001b[38;5;124m\"\u001b[39m,\n\u001b[1;32m    151\u001b[0m         advanced\u001b[38;5;241m=\u001b[39m\u001b[38;5;28;01mTrue\u001b[39;00m,\n\u001b[1;32m    152\u001b[0m     ),\n\u001b[1;32m    153\u001b[0m     Model(\n\u001b[1;32m    154\u001b[0m         name\u001b[38;5;241m=\u001b[39m\u001b[38;5;124m\"\u001b[39m\u001b[38;5;124mresnet50\u001b[39m\u001b[38;5;124m\"\u001b[39m,\n\u001b[1;32m    155\u001b[0m         plain\u001b[38;5;241m=\u001b[39mResNet(n_layers\u001b[38;5;241m=\u001b[39m\u001b[38;5;241m50\u001b[39m),\n\u001b[1;32m    156\u001b[0m         crypten\u001b[38;5;241m=\u001b[39mResNetCrypTen(n_layers\u001b[38;5;241m=\u001b[39m\u001b[38;5;241m50\u001b[39m),\n\u001b[1;32m    157\u001b[0m         data\u001b[38;5;241m=\u001b[39mdata\u001b[38;5;241m.\u001b[39mImages(),\n\u001b[1;32m    158\u001b[0m         epochs\u001b[38;5;241m=\u001b[39m\u001b[38;5;241m2\u001b[39m,\n\u001b[1;32m    159\u001b[0m         lr\u001b[38;5;241m=\u001b[39m\u001b[38;5;241m0.1\u001b[39m,\n\u001b[1;32m    160\u001b[0m         loss\u001b[38;5;241m=\u001b[39m\u001b[38;5;124m\"\u001b[39m\u001b[38;5;124mCrossEntropyLoss\u001b[39m\u001b[38;5;124m\"\u001b[39m,\n\u001b[1;32m    161\u001b[0m         advanced\u001b[38;5;241m=\u001b[39m\u001b[38;5;28;01mTrue\u001b[39;00m,\n\u001b[1;32m    162\u001b[0m     ),\n\u001b[1;32m    163\u001b[0m ]\n",
      "File \u001b[0;32m~/miniconda3/envs/ma3/lib/python3.9/site-packages/benchmarks/data.py:58\u001b[0m, in \u001b[0;36mImages.__init__\u001b[0;34m(self)\u001b[0m\n\u001b[1;32m     57\u001b[0m \u001b[38;5;28;01mdef\u001b[39;00m \u001b[38;5;21m__init__\u001b[39m(\u001b[38;5;28mself\u001b[39m):\n\u001b[0;32m---> 58\u001b[0m     \u001b[38;5;28mself\u001b[39m\u001b[38;5;241m.\u001b[39mx \u001b[38;5;241m=\u001b[39m \u001b[38;5;28;43mself\u001b[39;49m\u001b[38;5;241;43m.\u001b[39;49m\u001b[43mpreprocess_image\u001b[49m\u001b[43m(\u001b[49m\u001b[43m)\u001b[49m\n\u001b[1;32m     59\u001b[0m     \u001b[38;5;66;03m# image net 1k classes\u001b[39;00m\n\u001b[1;32m     60\u001b[0m     class_id \u001b[38;5;241m=\u001b[39m \u001b[38;5;241m463\u001b[39m\n",
      "File \u001b[0;32m~/miniconda3/envs/ma3/lib/python3.9/site-packages/benchmarks/data.py:69\u001b[0m, in \u001b[0;36mImages.preprocess_image\u001b[0;34m(self)\u001b[0m\n\u001b[1;32m     67\u001b[0m path \u001b[38;5;241m=\u001b[39m os\u001b[38;5;241m.\u001b[39mpath\u001b[38;5;241m.\u001b[39mdirname(os\u001b[38;5;241m.\u001b[39mpath\u001b[38;5;241m.\u001b[39mrealpath(\u001b[38;5;18m__file__\u001b[39m))\n\u001b[1;32m     68\u001b[0m filename \u001b[38;5;241m=\u001b[39m \u001b[38;5;124m\"\u001b[39m\u001b[38;5;124mdog.jpg\u001b[39m\u001b[38;5;124m\"\u001b[39m\n\u001b[0;32m---> 69\u001b[0m input_image \u001b[38;5;241m=\u001b[39m \u001b[43mPIL\u001b[49m\u001b[38;5;241;43m.\u001b[39;49m\u001b[43mImage\u001b[49m\u001b[38;5;241;43m.\u001b[39;49m\u001b[43mopen\u001b[49m\u001b[43m(\u001b[49m\u001b[43mPath\u001b[49m\u001b[43m(\u001b[49m\u001b[43mos\u001b[49m\u001b[38;5;241;43m.\u001b[39;49m\u001b[43mpath\u001b[49m\u001b[38;5;241;43m.\u001b[39;49m\u001b[43mjoin\u001b[49m\u001b[43m(\u001b[49m\u001b[43mpath\u001b[49m\u001b[43m,\u001b[49m\u001b[43m \u001b[49m\u001b[43mfilename\u001b[49m\u001b[43m)\u001b[49m\u001b[43m)\u001b[49m\u001b[43m)\u001b[49m\n\u001b[1;32m     70\u001b[0m preprocess \u001b[38;5;241m=\u001b[39m transforms\u001b[38;5;241m.\u001b[39mCompose(\n\u001b[1;32m     71\u001b[0m     [\n\u001b[1;32m     72\u001b[0m         transforms\u001b[38;5;241m.\u001b[39mResize(\u001b[38;5;241m256\u001b[39m),\n\u001b[0;32m   (...)\u001b[0m\n\u001b[1;32m     78\u001b[0m     ]\n\u001b[1;32m     79\u001b[0m )\n\u001b[1;32m     80\u001b[0m input_tensor \u001b[38;5;241m=\u001b[39m preprocess(input_image)\n",
      "File \u001b[0;32m~/miniconda3/envs/ma3/lib/python3.9/site-packages/PIL/Image.py:3092\u001b[0m, in \u001b[0;36mopen\u001b[0;34m(fp, mode, formats)\u001b[0m\n\u001b[1;32m   3089\u001b[0m     filename \u001b[38;5;241m=\u001b[39m fp\n\u001b[1;32m   3091\u001b[0m \u001b[38;5;28;01mif\u001b[39;00m filename:\n\u001b[0;32m-> 3092\u001b[0m     fp \u001b[38;5;241m=\u001b[39m \u001b[43mbuiltins\u001b[49m\u001b[38;5;241;43m.\u001b[39;49m\u001b[43mopen\u001b[49m\u001b[43m(\u001b[49m\u001b[43mfilename\u001b[49m\u001b[43m,\u001b[49m\u001b[43m \u001b[49m\u001b[38;5;124;43m\"\u001b[39;49m\u001b[38;5;124;43mrb\u001b[39;49m\u001b[38;5;124;43m\"\u001b[39;49m\u001b[43m)\u001b[49m\n\u001b[1;32m   3093\u001b[0m     exclusive_fp \u001b[38;5;241m=\u001b[39m \u001b[38;5;28;01mTrue\u001b[39;00m\n\u001b[1;32m   3095\u001b[0m \u001b[38;5;28;01mtry\u001b[39;00m:\n",
      "\u001b[0;31mFileNotFoundError\u001b[0m: [Errno 2] No such file or directory: '/home/amin/miniconda3/envs/ma3/lib/python3.9/site-packages/benchmarks/dog.jpg'"
     ]
    }
   ],
   "source": [
    "from benchmarks.models import Model"
   ]
  },
  {
   "cell_type": "code",
   "execution_count": 32,
   "id": "1cd23f5b",
   "metadata": {},
   "outputs": [],
   "source": [
    "import re\n",
    "import inspect\n",
    "\n",
    "pattern = re.compile(r\"autoclass:: ([\\w\\.]+)\\n\")\n",
    "\n",
    "def get_weights_class_name(model_name=\"alexnet\"):\n",
    "    try:\n",
    "        f = getattr(torchvision.models, model_name)\n",
    "    except AttributeError:\n",
    "        return None\n",
    "    d = f.__doc__\n",
    "    match = pattern.search(d)\n",
    "    if match is not None:\n",
    "        return eval(match.group(1) + \".DEFAULT\")\n",
    "    return None"
   ]
  },
  {
   "cell_type": "code",
   "execution_count": 33,
   "id": "6ba4c8b1",
   "metadata": {},
   "outputs": [],
   "source": [
    "from pathlib import Path\n",
    "img_dataset = \"/home/amin/repos/ma-praxis-related/imagenet-sample-images/\"\n",
    "def load_dataset(transform):\n",
    "    pathlist = Path(img_dataset).glob('*.JPEG')\n",
    "    images = []\n",
    "    labels = []\n",
    "    for path in pathlist:\n",
    "        # because path is object not string\n",
    "        path_in_str = str(path)\n",
    "        img = load_image(path_in_str)\n",
    "        img = ToRGB(img)\n",
    "        img = transform(img)\n",
    "        img = img.unsqueeze(0)\n",
    "        images.append(img)\n",
    "        labels.append(path.stem)\n",
    "    return torch.cat(images), labels"
   ]
  },
  {
   "cell_type": "code",
   "execution_count": 34,
   "id": "b6476350",
   "metadata": {},
   "outputs": [
    {
     "ename": "FileExistsError",
     "evalue": "[Errno 17] File exists: '../pre_trained_models/vision/'",
     "output_type": "error",
     "traceback": [
      "\u001b[0;31m---------------------------------------------------------------------------\u001b[0m",
      "\u001b[0;31mFileExistsError\u001b[0m                           Traceback (most recent call last)",
      "Input \u001b[0;32mIn [34]\u001b[0m, in \u001b[0;36m<cell line: 23>\u001b[0;34m()\u001b[0m\n\u001b[1;32m     21\u001b[0m     file_name \u001b[38;5;241m=\u001b[39m \u001b[38;5;124m\"\u001b[39m\u001b[38;5;124m../pre_trained_models/vision/\u001b[39m\u001b[38;5;132;01m{}\u001b[39;00m\u001b[38;5;124m.onnx\u001b[39m\u001b[38;5;124m\"\u001b[39m\u001b[38;5;241m.\u001b[39mformat(model_name)\n\u001b[1;32m     22\u001b[0m     \u001b[38;5;28;01mreturn\u001b[39;00m file_name\n\u001b[0;32m---> 23\u001b[0m \u001b[43mos\u001b[49m\u001b[38;5;241;43m.\u001b[39;49m\u001b[43mmkdir\u001b[49m\u001b[43m(\u001b[49m\u001b[38;5;124;43m\"\u001b[39;49m\u001b[38;5;124;43m../pre_trained_models/vision/\u001b[39;49m\u001b[38;5;124;43m\"\u001b[39;49m\u001b[43m)\u001b[49m\n",
      "\u001b[0;31mFileExistsError\u001b[0m: [Errno 17] File exists: '../pre_trained_models/vision/'"
     ]
    }
   ],
   "source": [
    "import torchvision\n",
    "import os\n",
    "def store_vision_model(model_name, file_name):\n",
    "    dummy_input = torch.randn(10, 3, 224, 224)\n",
    "    m = getattr(torchvision.models, model_name)(pretrained=True)\n",
    "    torch.onnx.export(m, dummy_input, file_name)\n",
    "    return m\n",
    "\n",
    "def store_vision_model_2(model_name, file_name):\n",
    "    dummy_input = torch.randn(1, 3, 224, 224)\n",
    "    weights = get_weights_class_name(model_name)\n",
    "    if weights is None:\n",
    "        raise Exception(\"No weights found: \" + model_name)\n",
    "    model = torch.hub.load(repo_, model_name, weights=weights)\n",
    "#     m = torch.hub.load(repo_, \"resnet50\", weights=\"IMAGENET1K_V2\")\n",
    "    m = getattr(torchvision.models, model_name)(weights=weights)\n",
    "    torch.onnx.export(m, dummy_input, file_name)\n",
    "    return m, weights\n",
    "\n",
    "def vision_model_file_name(model_name):\n",
    "    file_name = \"../pre_trained_models/vision/{}.onnx\".format(model_name)\n",
    "    return file_name\n",
    "os.mkdir(\"../pre_trained_models/vision/\")"
   ]
  },
  {
   "cell_type": "code",
   "execution_count": 1,
   "id": "4d216ba5",
   "metadata": {},
   "outputs": [
    {
     "ename": "NameError",
     "evalue": "name 'crypten' is not defined",
     "output_type": "error",
     "traceback": [
      "\u001b[0;31m---------------------------------------------------------------------------\u001b[0m",
      "\u001b[0;31mNameError\u001b[0m                                 Traceback (most recent call last)",
      "Input \u001b[0;32mIn [1]\u001b[0m, in \u001b[0;36m<cell line: 1>\u001b[0;34m()\u001b[0m\n\u001b[0;32m----> 1\u001b[0m \u001b[43mcrypten\u001b[49m\u001b[38;5;241m.\u001b[39minit()\n\u001b[1;32m      2\u001b[0m repo_ \u001b[38;5;241m=\u001b[39m \u001b[38;5;124m\"\u001b[39m\u001b[38;5;124mpytorch/vision:v0.13.1\u001b[39m\u001b[38;5;124m\"\u001b[39m\n\u001b[1;32m      3\u001b[0m m_list \u001b[38;5;241m=\u001b[39m torch\u001b[38;5;241m.\u001b[39mhub\u001b[38;5;241m.\u001b[39mlist(repo_)\n",
      "\u001b[0;31mNameError\u001b[0m: name 'crypten' is not defined"
     ]
    }
   ],
   "source": [
    "crypten.init()\n",
    "repo_ = \"pytorch/vision:v0.13.1\"\n",
    "m_list = torch.hub.list(repo_)\n",
    "success_list = set()\n",
    "model_data = dict()"
   ]
  },
  {
   "cell_type": "code",
   "execution_count": 28,
   "id": "55ca30c2",
   "metadata": {},
   "outputs": [
    {
     "data": {
      "text/plain": [
       "set()"
      ]
     },
     "execution_count": 28,
     "metadata": {},
     "output_type": "execute_result"
    }
   ],
   "source": [
    "success_list"
   ]
  },
  {
   "cell_type": "code",
   "execution_count": 35,
   "id": "44dace9c",
   "metadata": {},
   "outputs": [
    {
     "name": "stdout",
     "output_type": "stream",
     "text": [
      "Downloading alexnet\n"
     ]
    },
    {
     "name": "stderr",
     "output_type": "stream",
     "text": [
      "Using cache found in /home/amin/.cache/torch/hub/pytorch_vision_v0.13.1\n"
     ]
    },
    {
     "name": "stdout",
     "output_type": "stream",
     "text": [
      "Downloading convnext_base\n"
     ]
    },
    {
     "name": "stderr",
     "output_type": "stream",
     "text": [
      "Using cache found in /home/amin/.cache/torch/hub/pytorch_vision_v0.13.1\n"
     ]
    },
    {
     "name": "stdout",
     "output_type": "stream",
     "text": [
      "Downloading convnext_large\n"
     ]
    },
    {
     "name": "stderr",
     "output_type": "stream",
     "text": [
      "Using cache found in /home/amin/.cache/torch/hub/pytorch_vision_v0.13.1\n"
     ]
    },
    {
     "name": "stdout",
     "output_type": "stream",
     "text": [
      "Downloading convnext_small\n"
     ]
    },
    {
     "name": "stderr",
     "output_type": "stream",
     "text": [
      "Using cache found in /home/amin/.cache/torch/hub/pytorch_vision_v0.13.1\n"
     ]
    },
    {
     "name": "stdout",
     "output_type": "stream",
     "text": [
      "Downloading convnext_tiny\n"
     ]
    },
    {
     "name": "stderr",
     "output_type": "stream",
     "text": [
      "Using cache found in /home/amin/.cache/torch/hub/pytorch_vision_v0.13.1\n"
     ]
    },
    {
     "name": "stdout",
     "output_type": "stream",
     "text": [
      "Downloading deeplabv3_mobilenet_v3_large\n",
      "Couldn't prep: deeplabv3_mobilenet_v3_large\n",
      "Downloading deeplabv3_resnet101\n",
      "Couldn't prep: deeplabv3_resnet101\n",
      "Downloading deeplabv3_resnet50\n",
      "Couldn't prep: deeplabv3_resnet50\n",
      "Downloading densenet121\n"
     ]
    },
    {
     "name": "stderr",
     "output_type": "stream",
     "text": [
      "Traceback (most recent call last):\n",
      "  File \"/tmp/ipykernel_324606/2907548062.py\", line 12, in <cell line: 5>\n",
      "    model, weights = store_vision_model_2(m_name, file_name)\n",
      "  File \"/tmp/ipykernel_324606/3113244307.py\", line 13, in store_vision_model_2\n",
      "    raise Exception(\"No weights found: \" + model_name)\n",
      "Exception: No weights found: deeplabv3_mobilenet_v3_large\n",
      "Traceback (most recent call last):\n",
      "  File \"/tmp/ipykernel_324606/2907548062.py\", line 12, in <cell line: 5>\n",
      "    model, weights = store_vision_model_2(m_name, file_name)\n",
      "  File \"/tmp/ipykernel_324606/3113244307.py\", line 13, in store_vision_model_2\n",
      "    raise Exception(\"No weights found: \" + model_name)\n",
      "Exception: No weights found: deeplabv3_resnet101\n",
      "Traceback (most recent call last):\n",
      "  File \"/tmp/ipykernel_324606/2907548062.py\", line 12, in <cell line: 5>\n",
      "    model, weights = store_vision_model_2(m_name, file_name)\n",
      "  File \"/tmp/ipykernel_324606/3113244307.py\", line 13, in store_vision_model_2\n",
      "    raise Exception(\"No weights found: \" + model_name)\n",
      "Exception: No weights found: deeplabv3_resnet50\n",
      "Using cache found in /home/amin/.cache/torch/hub/pytorch_vision_v0.13.1\n"
     ]
    },
    {
     "name": "stdout",
     "output_type": "stream",
     "text": [
      "Downloading densenet161\n"
     ]
    },
    {
     "name": "stderr",
     "output_type": "stream",
     "text": [
      "Using cache found in /home/amin/.cache/torch/hub/pytorch_vision_v0.13.1\n"
     ]
    },
    {
     "name": "stdout",
     "output_type": "stream",
     "text": [
      "Downloading densenet169\n"
     ]
    },
    {
     "name": "stderr",
     "output_type": "stream",
     "text": [
      "Using cache found in /home/amin/.cache/torch/hub/pytorch_vision_v0.13.1\n"
     ]
    },
    {
     "name": "stdout",
     "output_type": "stream",
     "text": [
      "Downloading densenet201\n"
     ]
    },
    {
     "name": "stderr",
     "output_type": "stream",
     "text": [
      "Using cache found in /home/amin/.cache/torch/hub/pytorch_vision_v0.13.1\n"
     ]
    },
    {
     "name": "stdout",
     "output_type": "stream",
     "text": [
      "Downloading efficientnet_b0\n"
     ]
    },
    {
     "name": "stderr",
     "output_type": "stream",
     "text": [
      "Using cache found in /home/amin/.cache/torch/hub/pytorch_vision_v0.13.1\n"
     ]
    },
    {
     "name": "stdout",
     "output_type": "stream",
     "text": [
      "Downloading efficientnet_b1\n"
     ]
    },
    {
     "name": "stderr",
     "output_type": "stream",
     "text": [
      "Using cache found in /home/amin/.cache/torch/hub/pytorch_vision_v0.13.1\n"
     ]
    },
    {
     "name": "stdout",
     "output_type": "stream",
     "text": [
      "Downloading efficientnet_b2\n"
     ]
    },
    {
     "name": "stderr",
     "output_type": "stream",
     "text": [
      "Using cache found in /home/amin/.cache/torch/hub/pytorch_vision_v0.13.1\n"
     ]
    },
    {
     "name": "stdout",
     "output_type": "stream",
     "text": [
      "Downloading efficientnet_b3\n"
     ]
    },
    {
     "name": "stderr",
     "output_type": "stream",
     "text": [
      "Using cache found in /home/amin/.cache/torch/hub/pytorch_vision_v0.13.1\n"
     ]
    },
    {
     "name": "stdout",
     "output_type": "stream",
     "text": [
      "Downloading efficientnet_b4\n"
     ]
    },
    {
     "name": "stderr",
     "output_type": "stream",
     "text": [
      "Using cache found in /home/amin/.cache/torch/hub/pytorch_vision_v0.13.1\n"
     ]
    },
    {
     "name": "stdout",
     "output_type": "stream",
     "text": [
      "Downloading efficientnet_b5\n"
     ]
    },
    {
     "name": "stderr",
     "output_type": "stream",
     "text": [
      "Using cache found in /home/amin/.cache/torch/hub/pytorch_vision_v0.13.1\n"
     ]
    },
    {
     "name": "stdout",
     "output_type": "stream",
     "text": [
      "Downloading efficientnet_b6\n"
     ]
    },
    {
     "name": "stderr",
     "output_type": "stream",
     "text": [
      "Using cache found in /home/amin/.cache/torch/hub/pytorch_vision_v0.13.1\n"
     ]
    },
    {
     "name": "stdout",
     "output_type": "stream",
     "text": [
      "Downloading efficientnet_b7\n"
     ]
    },
    {
     "name": "stderr",
     "output_type": "stream",
     "text": [
      "Using cache found in /home/amin/.cache/torch/hub/pytorch_vision_v0.13.1\n"
     ]
    },
    {
     "name": "stdout",
     "output_type": "stream",
     "text": [
      "Downloading efficientnet_v2_l\n"
     ]
    },
    {
     "name": "stderr",
     "output_type": "stream",
     "text": [
      "Using cache found in /home/amin/.cache/torch/hub/pytorch_vision_v0.13.1\n"
     ]
    },
    {
     "name": "stdout",
     "output_type": "stream",
     "text": [
      "Downloading efficientnet_v2_m\n"
     ]
    },
    {
     "name": "stderr",
     "output_type": "stream",
     "text": [
      "Using cache found in /home/amin/.cache/torch/hub/pytorch_vision_v0.13.1\n"
     ]
    },
    {
     "name": "stdout",
     "output_type": "stream",
     "text": [
      "Downloading efficientnet_v2_s\n"
     ]
    },
    {
     "name": "stderr",
     "output_type": "stream",
     "text": [
      "Using cache found in /home/amin/.cache/torch/hub/pytorch_vision_v0.13.1\n"
     ]
    },
    {
     "name": "stdout",
     "output_type": "stream",
     "text": [
      "Downloading fcn_resnet101\n",
      "Couldn't prep: fcn_resnet101\n",
      "Downloading fcn_resnet50\n",
      "Couldn't prep: fcn_resnet50\n",
      "Downloading get_weight\n",
      "Couldn't prep: get_weight\n",
      "Downloading googlenet\n"
     ]
    },
    {
     "name": "stderr",
     "output_type": "stream",
     "text": [
      "Traceback (most recent call last):\n",
      "  File \"/tmp/ipykernel_324606/2907548062.py\", line 12, in <cell line: 5>\n",
      "    model, weights = store_vision_model_2(m_name, file_name)\n",
      "  File \"/tmp/ipykernel_324606/3113244307.py\", line 13, in store_vision_model_2\n",
      "    raise Exception(\"No weights found: \" + model_name)\n",
      "Exception: No weights found: fcn_resnet101\n",
      "Traceback (most recent call last):\n",
      "  File \"/tmp/ipykernel_324606/2907548062.py\", line 12, in <cell line: 5>\n",
      "    model, weights = store_vision_model_2(m_name, file_name)\n",
      "  File \"/tmp/ipykernel_324606/3113244307.py\", line 13, in store_vision_model_2\n",
      "    raise Exception(\"No weights found: \" + model_name)\n",
      "Exception: No weights found: fcn_resnet50\n",
      "Traceback (most recent call last):\n",
      "  File \"/tmp/ipykernel_324606/2907548062.py\", line 12, in <cell line: 5>\n",
      "    model, weights = store_vision_model_2(m_name, file_name)\n",
      "  File \"/tmp/ipykernel_324606/3113244307.py\", line 13, in store_vision_model_2\n",
      "    raise Exception(\"No weights found: \" + model_name)\n",
      "Exception: No weights found: get_weight\n",
      "Using cache found in /home/amin/.cache/torch/hub/pytorch_vision_v0.13.1\n"
     ]
    },
    {
     "name": "stdout",
     "output_type": "stream",
     "text": [
      "Downloading inception_v3\n"
     ]
    },
    {
     "name": "stderr",
     "output_type": "stream",
     "text": [
      "Using cache found in /home/amin/.cache/torch/hub/pytorch_vision_v0.13.1\n"
     ]
    },
    {
     "name": "stdout",
     "output_type": "stream",
     "text": [
      "Downloading lraspp_mobilenet_v3_large\n",
      "Couldn't prep: lraspp_mobilenet_v3_large\n",
      "Downloading mnasnet0_5\n"
     ]
    },
    {
     "name": "stderr",
     "output_type": "stream",
     "text": [
      "Traceback (most recent call last):\n",
      "  File \"/tmp/ipykernel_324606/2907548062.py\", line 12, in <cell line: 5>\n",
      "    model, weights = store_vision_model_2(m_name, file_name)\n",
      "  File \"/tmp/ipykernel_324606/3113244307.py\", line 13, in store_vision_model_2\n",
      "    raise Exception(\"No weights found: \" + model_name)\n",
      "Exception: No weights found: lraspp_mobilenet_v3_large\n",
      "Using cache found in /home/amin/.cache/torch/hub/pytorch_vision_v0.13.1\n"
     ]
    },
    {
     "name": "stdout",
     "output_type": "stream",
     "text": [
      "Downloading mnasnet0_75\n"
     ]
    },
    {
     "name": "stderr",
     "output_type": "stream",
     "text": [
      "Using cache found in /home/amin/.cache/torch/hub/pytorch_vision_v0.13.1\n"
     ]
    },
    {
     "name": "stdout",
     "output_type": "stream",
     "text": [
      "Downloading mnasnet1_0\n"
     ]
    },
    {
     "name": "stderr",
     "output_type": "stream",
     "text": [
      "Using cache found in /home/amin/.cache/torch/hub/pytorch_vision_v0.13.1\n"
     ]
    },
    {
     "name": "stdout",
     "output_type": "stream",
     "text": [
      "Downloading mnasnet1_3\n"
     ]
    },
    {
     "name": "stderr",
     "output_type": "stream",
     "text": [
      "Using cache found in /home/amin/.cache/torch/hub/pytorch_vision_v0.13.1\n"
     ]
    },
    {
     "name": "stdout",
     "output_type": "stream",
     "text": [
      "Downloading mobilenet_v2\n"
     ]
    },
    {
     "name": "stderr",
     "output_type": "stream",
     "text": [
      "Using cache found in /home/amin/.cache/torch/hub/pytorch_vision_v0.13.1\n"
     ]
    },
    {
     "name": "stdout",
     "output_type": "stream",
     "text": [
      "Downloading mobilenet_v3_large\n"
     ]
    },
    {
     "name": "stderr",
     "output_type": "stream",
     "text": [
      "Using cache found in /home/amin/.cache/torch/hub/pytorch_vision_v0.13.1\n"
     ]
    },
    {
     "name": "stdout",
     "output_type": "stream",
     "text": [
      "Downloading mobilenet_v3_small\n"
     ]
    },
    {
     "name": "stderr",
     "output_type": "stream",
     "text": [
      "Using cache found in /home/amin/.cache/torch/hub/pytorch_vision_v0.13.1\n"
     ]
    },
    {
     "name": "stdout",
     "output_type": "stream",
     "text": [
      "Downloading raft_large\n",
      "Couldn't prep: raft_large\n",
      "Downloading raft_small\n",
      "Couldn't prep: raft_small\n",
      "Downloading regnet_x_16gf\n"
     ]
    },
    {
     "name": "stderr",
     "output_type": "stream",
     "text": [
      "Traceback (most recent call last):\n",
      "  File \"/tmp/ipykernel_324606/2907548062.py\", line 12, in <cell line: 5>\n",
      "    model, weights = store_vision_model_2(m_name, file_name)\n",
      "  File \"/tmp/ipykernel_324606/3113244307.py\", line 13, in store_vision_model_2\n",
      "    raise Exception(\"No weights found: \" + model_name)\n",
      "Exception: No weights found: raft_large\n",
      "Traceback (most recent call last):\n",
      "  File \"/tmp/ipykernel_324606/2907548062.py\", line 12, in <cell line: 5>\n",
      "    model, weights = store_vision_model_2(m_name, file_name)\n",
      "  File \"/tmp/ipykernel_324606/3113244307.py\", line 13, in store_vision_model_2\n",
      "    raise Exception(\"No weights found: \" + model_name)\n",
      "Exception: No weights found: raft_small\n",
      "Using cache found in /home/amin/.cache/torch/hub/pytorch_vision_v0.13.1\n"
     ]
    },
    {
     "name": "stdout",
     "output_type": "stream",
     "text": [
      "Downloading regnet_x_1_6gf\n"
     ]
    },
    {
     "name": "stderr",
     "output_type": "stream",
     "text": [
      "Using cache found in /home/amin/.cache/torch/hub/pytorch_vision_v0.13.1\n"
     ]
    },
    {
     "name": "stdout",
     "output_type": "stream",
     "text": [
      "Downloading regnet_x_32gf\n"
     ]
    },
    {
     "name": "stderr",
     "output_type": "stream",
     "text": [
      "Using cache found in /home/amin/.cache/torch/hub/pytorch_vision_v0.13.1\n"
     ]
    },
    {
     "name": "stdout",
     "output_type": "stream",
     "text": [
      "Downloading regnet_x_3_2gf\n"
     ]
    },
    {
     "name": "stderr",
     "output_type": "stream",
     "text": [
      "Using cache found in /home/amin/.cache/torch/hub/pytorch_vision_v0.13.1\n"
     ]
    },
    {
     "name": "stdout",
     "output_type": "stream",
     "text": [
      "Downloading regnet_x_400mf\n"
     ]
    },
    {
     "name": "stderr",
     "output_type": "stream",
     "text": [
      "Using cache found in /home/amin/.cache/torch/hub/pytorch_vision_v0.13.1\n"
     ]
    },
    {
     "name": "stdout",
     "output_type": "stream",
     "text": [
      "Downloading regnet_x_800mf\n"
     ]
    },
    {
     "name": "stderr",
     "output_type": "stream",
     "text": [
      "Using cache found in /home/amin/.cache/torch/hub/pytorch_vision_v0.13.1\n"
     ]
    },
    {
     "name": "stdout",
     "output_type": "stream",
     "text": [
      "Downloading regnet_x_8gf\n"
     ]
    },
    {
     "name": "stderr",
     "output_type": "stream",
     "text": [
      "Using cache found in /home/amin/.cache/torch/hub/pytorch_vision_v0.13.1\n"
     ]
    },
    {
     "name": "stdout",
     "output_type": "stream",
     "text": [
      "Downloading regnet_y_128gf\n"
     ]
    },
    {
     "name": "stderr",
     "output_type": "stream",
     "text": [
      "Using cache found in /home/amin/.cache/torch/hub/pytorch_vision_v0.13.1\n"
     ]
    },
    {
     "name": "stdout",
     "output_type": "stream",
     "text": [
      "Downloading regnet_y_16gf\n"
     ]
    },
    {
     "name": "stderr",
     "output_type": "stream",
     "text": [
      "Using cache found in /home/amin/.cache/torch/hub/pytorch_vision_v0.13.1\n"
     ]
    },
    {
     "name": "stdout",
     "output_type": "stream",
     "text": [
      "Downloading regnet_y_1_6gf\n"
     ]
    },
    {
     "name": "stderr",
     "output_type": "stream",
     "text": [
      "Using cache found in /home/amin/.cache/torch/hub/pytorch_vision_v0.13.1\n"
     ]
    },
    {
     "name": "stdout",
     "output_type": "stream",
     "text": [
      "Downloading regnet_y_32gf\n"
     ]
    },
    {
     "name": "stderr",
     "output_type": "stream",
     "text": [
      "Using cache found in /home/amin/.cache/torch/hub/pytorch_vision_v0.13.1\n"
     ]
    },
    {
     "name": "stdout",
     "output_type": "stream",
     "text": [
      "Downloading regnet_y_3_2gf\n"
     ]
    },
    {
     "name": "stderr",
     "output_type": "stream",
     "text": [
      "Using cache found in /home/amin/.cache/torch/hub/pytorch_vision_v0.13.1\n"
     ]
    },
    {
     "name": "stdout",
     "output_type": "stream",
     "text": [
      "Downloading regnet_y_400mf\n"
     ]
    },
    {
     "name": "stderr",
     "output_type": "stream",
     "text": [
      "Using cache found in /home/amin/.cache/torch/hub/pytorch_vision_v0.13.1\n"
     ]
    },
    {
     "name": "stdout",
     "output_type": "stream",
     "text": [
      "Downloading regnet_y_800mf\n"
     ]
    },
    {
     "name": "stderr",
     "output_type": "stream",
     "text": [
      "Using cache found in /home/amin/.cache/torch/hub/pytorch_vision_v0.13.1\n"
     ]
    },
    {
     "name": "stdout",
     "output_type": "stream",
     "text": [
      "Downloading regnet_y_8gf\n"
     ]
    },
    {
     "name": "stderr",
     "output_type": "stream",
     "text": [
      "Using cache found in /home/amin/.cache/torch/hub/pytorch_vision_v0.13.1\n"
     ]
    },
    {
     "name": "stdout",
     "output_type": "stream",
     "text": [
      "Downloading resnet101\n"
     ]
    },
    {
     "name": "stderr",
     "output_type": "stream",
     "text": [
      "Using cache found in /home/amin/.cache/torch/hub/pytorch_vision_v0.13.1\n"
     ]
    },
    {
     "name": "stdout",
     "output_type": "stream",
     "text": [
      "Downloading resnet152\n"
     ]
    },
    {
     "name": "stderr",
     "output_type": "stream",
     "text": [
      "Using cache found in /home/amin/.cache/torch/hub/pytorch_vision_v0.13.1\n"
     ]
    },
    {
     "name": "stdout",
     "output_type": "stream",
     "text": [
      "Downloading resnet18\n"
     ]
    },
    {
     "name": "stderr",
     "output_type": "stream",
     "text": [
      "Using cache found in /home/amin/.cache/torch/hub/pytorch_vision_v0.13.1\n"
     ]
    },
    {
     "name": "stdout",
     "output_type": "stream",
     "text": [
      "Downloading resnet34\n"
     ]
    },
    {
     "name": "stderr",
     "output_type": "stream",
     "text": [
      "Using cache found in /home/amin/.cache/torch/hub/pytorch_vision_v0.13.1\n"
     ]
    },
    {
     "name": "stdout",
     "output_type": "stream",
     "text": [
      "Downloading resnet50\n"
     ]
    },
    {
     "name": "stderr",
     "output_type": "stream",
     "text": [
      "Using cache found in /home/amin/.cache/torch/hub/pytorch_vision_v0.13.1\n"
     ]
    },
    {
     "name": "stdout",
     "output_type": "stream",
     "text": [
      "Downloading resnext101_32x8d\n"
     ]
    },
    {
     "name": "stderr",
     "output_type": "stream",
     "text": [
      "Using cache found in /home/amin/.cache/torch/hub/pytorch_vision_v0.13.1\n"
     ]
    },
    {
     "name": "stdout",
     "output_type": "stream",
     "text": [
      "Downloading resnext50_32x4d\n"
     ]
    },
    {
     "name": "stderr",
     "output_type": "stream",
     "text": [
      "Using cache found in /home/amin/.cache/torch/hub/pytorch_vision_v0.13.1\n"
     ]
    },
    {
     "name": "stdout",
     "output_type": "stream",
     "text": [
      "Downloading shufflenet_v2_x0_5\n"
     ]
    },
    {
     "name": "stderr",
     "output_type": "stream",
     "text": [
      "Using cache found in /home/amin/.cache/torch/hub/pytorch_vision_v0.13.1\n",
      "/home/amin/miniconda3/envs/ma3/lib/python3.9/site-packages/torchvision/models/shufflenetv2.py:30: UserWarning: __floordiv__ is deprecated, and its behavior will change in a future version of pytorch. It currently rounds toward 0 (like the 'trunc' function NOT 'floor'). This results in incorrect rounding for negative values. To keep the current behavior, use torch.div(a, b, rounding_mode='trunc'), or for actual floor division, use torch.div(a, b, rounding_mode='floor').\n",
      "  channels_per_group = num_channels // groups\n"
     ]
    },
    {
     "name": "stdout",
     "output_type": "stream",
     "text": [
      "Downloading shufflenet_v2_x1_0\n"
     ]
    },
    {
     "name": "stderr",
     "output_type": "stream",
     "text": [
      "Using cache found in /home/amin/.cache/torch/hub/pytorch_vision_v0.13.1\n"
     ]
    },
    {
     "name": "stdout",
     "output_type": "stream",
     "text": [
      "Downloading shufflenet_v2_x1_5\n"
     ]
    },
    {
     "name": "stderr",
     "output_type": "stream",
     "text": [
      "Using cache found in /home/amin/.cache/torch/hub/pytorch_vision_v0.13.1\n"
     ]
    },
    {
     "name": "stdout",
     "output_type": "stream",
     "text": [
      "Downloading shufflenet_v2_x2_0\n"
     ]
    },
    {
     "name": "stderr",
     "output_type": "stream",
     "text": [
      "Using cache found in /home/amin/.cache/torch/hub/pytorch_vision_v0.13.1\n"
     ]
    },
    {
     "name": "stdout",
     "output_type": "stream",
     "text": [
      "Downloading squeezenet1_0\n"
     ]
    },
    {
     "name": "stderr",
     "output_type": "stream",
     "text": [
      "Using cache found in /home/amin/.cache/torch/hub/pytorch_vision_v0.13.1\n"
     ]
    },
    {
     "name": "stdout",
     "output_type": "stream",
     "text": [
      "Downloading squeezenet1_1\n"
     ]
    },
    {
     "name": "stderr",
     "output_type": "stream",
     "text": [
      "Using cache found in /home/amin/.cache/torch/hub/pytorch_vision_v0.13.1\n"
     ]
    },
    {
     "name": "stdout",
     "output_type": "stream",
     "text": [
      "Downloading swin_b\n"
     ]
    },
    {
     "name": "stderr",
     "output_type": "stream",
     "text": [
      "Using cache found in /home/amin/.cache/torch/hub/pytorch_vision_v0.13.1\n",
      "/home/amin/miniconda3/envs/ma3/lib/python3.9/site-packages/torchvision/models/swin_transformer.py:120: UserWarning: __floordiv__ is deprecated, and its behavior will change in a future version of pytorch. It currently rounds toward 0 (like the 'trunc' function NOT 'floor'). This results in incorrect rounding for negative values. To keep the current behavior, use torch.div(a, b, rounding_mode='trunc'), or for actual floor division, use torch.div(a, b, rounding_mode='floor').\n",
      "  num_windows = (pad_H // window_size[0]) * (pad_W // window_size[1])\n",
      "/home/amin/miniconda3/envs/ma3/lib/python3.9/site-packages/torchvision/models/swin_transformer.py:121: UserWarning: __floordiv__ is deprecated, and its behavior will change in a future version of pytorch. It currently rounds toward 0 (like the 'trunc' function NOT 'floor'). This results in incorrect rounding for negative values. To keep the current behavior, use torch.div(a, b, rounding_mode='trunc'), or for actual floor division, use torch.div(a, b, rounding_mode='floor').\n",
      "  x = x.view(B, pad_H // window_size[0], window_size[0], pad_W // window_size[1], window_size[1], C)\n",
      "/home/amin/miniconda3/envs/ma3/lib/python3.9/site-packages/torchvision/models/swin_transformer.py:126: UserWarning: __floordiv__ is deprecated, and its behavior will change in a future version of pytorch. It currently rounds toward 0 (like the 'trunc' function NOT 'floor'). This results in incorrect rounding for negative values. To keep the current behavior, use torch.div(a, b, rounding_mode='trunc'), or for actual floor division, use torch.div(a, b, rounding_mode='floor').\n",
      "  qkv = qkv.reshape(x.size(0), x.size(1), 3, num_heads, C // num_heads).permute(2, 0, 3, 1, 4)\n",
      "/home/amin/miniconda3/envs/ma3/lib/python3.9/site-packages/torchvision/models/swin_transformer.py:128: UserWarning: __floordiv__ is deprecated, and its behavior will change in a future version of pytorch. It currently rounds toward 0 (like the 'trunc' function NOT 'floor'). This results in incorrect rounding for negative values. To keep the current behavior, use torch.div(a, b, rounding_mode='trunc'), or for actual floor division, use torch.div(a, b, rounding_mode='floor').\n",
      "  q = q * (C // num_heads) ** -0.5\n",
      "/home/amin/miniconda3/envs/ma3/lib/python3.9/site-packages/torchvision/models/swin_transformer.py:159: UserWarning: __floordiv__ is deprecated, and its behavior will change in a future version of pytorch. It currently rounds toward 0 (like the 'trunc' function NOT 'floor'). This results in incorrect rounding for negative values. To keep the current behavior, use torch.div(a, b, rounding_mode='trunc'), or for actual floor division, use torch.div(a, b, rounding_mode='floor').\n",
      "  x = x.view(B, pad_H // window_size[0], pad_W // window_size[1], window_size[0], window_size[1], C)\n",
      "/home/amin/miniconda3/envs/ma3/lib/python3.9/site-packages/torchvision/models/swin_transformer.py:143: UserWarning: __floordiv__ is deprecated, and its behavior will change in a future version of pytorch. It currently rounds toward 0 (like the 'trunc' function NOT 'floor'). This results in incorrect rounding for negative values. To keep the current behavior, use torch.div(a, b, rounding_mode='trunc'), or for actual floor division, use torch.div(a, b, rounding_mode='floor').\n",
      "  attn_mask = attn_mask.view(pad_H // window_size[0], window_size[0], pad_W // window_size[1], window_size[1])\n",
      "/home/amin/miniconda3/envs/ma3/lib/python3.9/site-packages/torchvision/models/swin_transformer.py:147: UserWarning: __floordiv__ is deprecated, and its behavior will change in a future version of pytorch. It currently rounds toward 0 (like the 'trunc' function NOT 'floor'). This results in incorrect rounding for negative values. To keep the current behavior, use torch.div(a, b, rounding_mode='trunc'), or for actual floor division, use torch.div(a, b, rounding_mode='floor').\n",
      "  attn = attn.view(x.size(0) // num_windows, num_windows, num_heads, x.size(1), x.size(1))\n",
      "/home/amin/miniconda3/envs/ma3/lib/python3.9/site-packages/torch/onnx/symbolic_helper.py:1150: UserWarning: ONNX export mode is set to inference mode, but operator dropout is set to training  mode. The operators will be exported in training , as specified by the functional operator.\n",
      "  warnings.warn(\n",
      "/home/amin/miniconda3/envs/ma3/lib/python3.9/site-packages/torch/onnx/symbolic_opset12.py:57: UserWarning: Dropout is a training op and should not be exported in inference mode. For inference, make sure to call eval() on the model and to export it with param training=False.\n",
      "  warnings.warn(\n",
      "WARNING: The shape inference of prim::Constant type is missing, so it may result in wrong shape inference for the exported graph. Please consider adding it in symbolic function.\n",
      "WARNING: The shape inference of prim::Constant type is missing, so it may result in wrong shape inference for the exported graph. Please consider adding it in symbolic function.\n",
      "WARNING: The shape inference of prim::Constant type is missing, so it may result in wrong shape inference for the exported graph. Please consider adding it in symbolic function.\n",
      "WARNING: The shape inference of prim::Constant type is missing, so it may result in wrong shape inference for the exported graph. Please consider adding it in symbolic function.\n",
      "WARNING: The shape inference of prim::Constant type is missing, so it may result in wrong shape inference for the exported graph. Please consider adding it in symbolic function.\n",
      "WARNING: The shape inference of prim::Constant type is missing, so it may result in wrong shape inference for the exported graph. Please consider adding it in symbolic function.\n",
      "WARNING: The shape inference of prim::Constant type is missing, so it may result in wrong shape inference for the exported graph. Please consider adding it in symbolic function.\n",
      "WARNING: The shape inference of prim::Constant type is missing, so it may result in wrong shape inference for the exported graph. Please consider adding it in symbolic function.\n",
      "WARNING: The shape inference of prim::Constant type is missing, so it may result in wrong shape inference for the exported graph. Please consider adding it in symbolic function.\n",
      "WARNING: The shape inference of prim::Constant type is missing, so it may result in wrong shape inference for the exported graph. Please consider adding it in symbolic function.\n",
      "WARNING: The shape inference of prim::Constant type is missing, so it may result in wrong shape inference for the exported graph. Please consider adding it in symbolic function.\n",
      "WARNING: The shape inference of prim::Constant type is missing, so it may result in wrong shape inference for the exported graph. Please consider adding it in symbolic function.\n",
      "WARNING: The shape inference of prim::Constant type is missing, so it may result in wrong shape inference for the exported graph. Please consider adding it in symbolic function.\n",
      "WARNING: The shape inference of prim::Constant type is missing, so it may result in wrong shape inference for the exported graph. Please consider adding it in symbolic function.\n",
      "WARNING: The shape inference of prim::Constant type is missing, so it may result in wrong shape inference for the exported graph. Please consider adding it in symbolic function.\n",
      "WARNING: The shape inference of prim::Constant type is missing, so it may result in wrong shape inference for the exported graph. Please consider adding it in symbolic function.\n",
      "WARNING: The shape inference of prim::Constant type is missing, so it may result in wrong shape inference for the exported graph. Please consider adding it in symbolic function.\n",
      "WARNING: The shape inference of prim::Constant type is missing, so it may result in wrong shape inference for the exported graph. Please consider adding it in symbolic function.\n",
      "WARNING: The shape inference of prim::Constant type is missing, so it may result in wrong shape inference for the exported graph. Please consider adding it in symbolic function.\n",
      "WARNING: The shape inference of prim::Constant type is missing, so it may result in wrong shape inference for the exported graph. Please consider adding it in symbolic function.\n",
      "WARNING: The shape inference of prim::Constant type is missing, so it may result in wrong shape inference for the exported graph. Please consider adding it in symbolic function.\n",
      "WARNING: The shape inference of prim::Constant type is missing, so it may result in wrong shape inference for the exported graph. Please consider adding it in symbolic function.\n",
      "WARNING: The shape inference of prim::Constant type is missing, so it may result in wrong shape inference for the exported graph. Please consider adding it in symbolic function.\n",
      "WARNING: The shape inference of prim::Constant type is missing, so it may result in wrong shape inference for the exported graph. Please consider adding it in symbolic function.\n",
      "WARNING: The shape inference of prim::Constant type is missing, so it may result in wrong shape inference for the exported graph. Please consider adding it in symbolic function.\n",
      "WARNING: The shape inference of prim::Constant type is missing, so it may result in wrong shape inference for the exported graph. Please consider adding it in symbolic function.\n",
      "WARNING: The shape inference of prim::Constant type is missing, so it may result in wrong shape inference for the exported graph. Please consider adding it in symbolic function.\n",
      "WARNING: The shape inference of prim::Constant type is missing, so it may result in wrong shape inference for the exported graph. Please consider adding it in symbolic function.\n",
      "WARNING: The shape inference of prim::Constant type is missing, so it may result in wrong shape inference for the exported graph. Please consider adding it in symbolic function.\n",
      "WARNING: The shape inference of prim::Constant type is missing, so it may result in wrong shape inference for the exported graph. Please consider adding it in symbolic function.\n",
      "WARNING: The shape inference of prim::Constant type is missing, so it may result in wrong shape inference for the exported graph. Please consider adding it in symbolic function.\n",
      "WARNING: The shape inference of prim::Constant type is missing, so it may result in wrong shape inference for the exported graph. Please consider adding it in symbolic function.\n",
      "WARNING: The shape inference of prim::Constant type is missing, so it may result in wrong shape inference for the exported graph. Please consider adding it in symbolic function.\n",
      "WARNING: The shape inference of prim::Constant type is missing, so it may result in wrong shape inference for the exported graph. Please consider adding it in symbolic function.\n"
     ]
    },
    {
     "name": "stderr",
     "output_type": "stream",
     "text": [
      "WARNING: The shape inference of prim::Constant type is missing, so it may result in wrong shape inference for the exported graph. Please consider adding it in symbolic function.\n",
      "WARNING: The shape inference of prim::Constant type is missing, so it may result in wrong shape inference for the exported graph. Please consider adding it in symbolic function.\n",
      "WARNING: The shape inference of prim::Constant type is missing, so it may result in wrong shape inference for the exported graph. Please consider adding it in symbolic function.\n",
      "WARNING: The shape inference of prim::Constant type is missing, so it may result in wrong shape inference for the exported graph. Please consider adding it in symbolic function.\n",
      "WARNING: The shape inference of prim::Constant type is missing, so it may result in wrong shape inference for the exported graph. Please consider adding it in symbolic function.\n",
      "WARNING: The shape inference of prim::Constant type is missing, so it may result in wrong shape inference for the exported graph. Please consider adding it in symbolic function.\n",
      "WARNING: The shape inference of prim::Constant type is missing, so it may result in wrong shape inference for the exported graph. Please consider adding it in symbolic function.\n",
      "WARNING: The shape inference of prim::Constant type is missing, so it may result in wrong shape inference for the exported graph. Please consider adding it in symbolic function.\n",
      "WARNING: The shape inference of prim::Constant type is missing, so it may result in wrong shape inference for the exported graph. Please consider adding it in symbolic function.\n",
      "WARNING: The shape inference of prim::Constant type is missing, so it may result in wrong shape inference for the exported graph. Please consider adding it in symbolic function.\n",
      "WARNING: The shape inference of prim::Constant type is missing, so it may result in wrong shape inference for the exported graph. Please consider adding it in symbolic function.\n",
      "WARNING: The shape inference of prim::Constant type is missing, so it may result in wrong shape inference for the exported graph. Please consider adding it in symbolic function.\n",
      "WARNING: The shape inference of prim::Constant type is missing, so it may result in wrong shape inference for the exported graph. Please consider adding it in symbolic function.\n",
      "WARNING: The shape inference of prim::Constant type is missing, so it may result in wrong shape inference for the exported graph. Please consider adding it in symbolic function.\n",
      "WARNING: The shape inference of prim::Constant type is missing, so it may result in wrong shape inference for the exported graph. Please consider adding it in symbolic function.\n",
      "WARNING: The shape inference of prim::Constant type is missing, so it may result in wrong shape inference for the exported graph. Please consider adding it in symbolic function.\n",
      "WARNING: The shape inference of prim::Constant type is missing, so it may result in wrong shape inference for the exported graph. Please consider adding it in symbolic function.\n",
      "WARNING: The shape inference of prim::Constant type is missing, so it may result in wrong shape inference for the exported graph. Please consider adding it in symbolic function.\n",
      "WARNING: The shape inference of prim::Constant type is missing, so it may result in wrong shape inference for the exported graph. Please consider adding it in symbolic function.\n",
      "WARNING: The shape inference of prim::Constant type is missing, so it may result in wrong shape inference for the exported graph. Please consider adding it in symbolic function.\n"
     ]
    },
    {
     "name": "stdout",
     "output_type": "stream",
     "text": [
      "Downloading swin_s\n"
     ]
    },
    {
     "name": "stderr",
     "output_type": "stream",
     "text": [
      "Using cache found in /home/amin/.cache/torch/hub/pytorch_vision_v0.13.1\n",
      "WARNING: The shape inference of prim::Constant type is missing, so it may result in wrong shape inference for the exported graph. Please consider adding it in symbolic function.\n",
      "WARNING: The shape inference of prim::Constant type is missing, so it may result in wrong shape inference for the exported graph. Please consider adding it in symbolic function.\n",
      "WARNING: The shape inference of prim::Constant type is missing, so it may result in wrong shape inference for the exported graph. Please consider adding it in symbolic function.\n",
      "WARNING: The shape inference of prim::Constant type is missing, so it may result in wrong shape inference for the exported graph. Please consider adding it in symbolic function.\n",
      "WARNING: The shape inference of prim::Constant type is missing, so it may result in wrong shape inference for the exported graph. Please consider adding it in symbolic function.\n",
      "WARNING: The shape inference of prim::Constant type is missing, so it may result in wrong shape inference for the exported graph. Please consider adding it in symbolic function.\n",
      "WARNING: The shape inference of prim::Constant type is missing, so it may result in wrong shape inference for the exported graph. Please consider adding it in symbolic function.\n",
      "WARNING: The shape inference of prim::Constant type is missing, so it may result in wrong shape inference for the exported graph. Please consider adding it in symbolic function.\n",
      "WARNING: The shape inference of prim::Constant type is missing, so it may result in wrong shape inference for the exported graph. Please consider adding it in symbolic function.\n",
      "WARNING: The shape inference of prim::Constant type is missing, so it may result in wrong shape inference for the exported graph. Please consider adding it in symbolic function.\n",
      "WARNING: The shape inference of prim::Constant type is missing, so it may result in wrong shape inference for the exported graph. Please consider adding it in symbolic function.\n",
      "WARNING: The shape inference of prim::Constant type is missing, so it may result in wrong shape inference for the exported graph. Please consider adding it in symbolic function.\n",
      "WARNING: The shape inference of prim::Constant type is missing, so it may result in wrong shape inference for the exported graph. Please consider adding it in symbolic function.\n",
      "WARNING: The shape inference of prim::Constant type is missing, so it may result in wrong shape inference for the exported graph. Please consider adding it in symbolic function.\n",
      "WARNING: The shape inference of prim::Constant type is missing, so it may result in wrong shape inference for the exported graph. Please consider adding it in symbolic function.\n",
      "WARNING: The shape inference of prim::Constant type is missing, so it may result in wrong shape inference for the exported graph. Please consider adding it in symbolic function.\n",
      "WARNING: The shape inference of prim::Constant type is missing, so it may result in wrong shape inference for the exported graph. Please consider adding it in symbolic function.\n",
      "WARNING: The shape inference of prim::Constant type is missing, so it may result in wrong shape inference for the exported graph. Please consider adding it in symbolic function.\n",
      "WARNING: The shape inference of prim::Constant type is missing, so it may result in wrong shape inference for the exported graph. Please consider adding it in symbolic function.\n",
      "WARNING: The shape inference of prim::Constant type is missing, so it may result in wrong shape inference for the exported graph. Please consider adding it in symbolic function.\n",
      "WARNING: The shape inference of prim::Constant type is missing, so it may result in wrong shape inference for the exported graph. Please consider adding it in symbolic function.\n",
      "WARNING: The shape inference of prim::Constant type is missing, so it may result in wrong shape inference for the exported graph. Please consider adding it in symbolic function.\n",
      "WARNING: The shape inference of prim::Constant type is missing, so it may result in wrong shape inference for the exported graph. Please consider adding it in symbolic function.\n",
      "WARNING: The shape inference of prim::Constant type is missing, so it may result in wrong shape inference for the exported graph. Please consider adding it in symbolic function.\n",
      "WARNING: The shape inference of prim::Constant type is missing, so it may result in wrong shape inference for the exported graph. Please consider adding it in symbolic function.\n",
      "WARNING: The shape inference of prim::Constant type is missing, so it may result in wrong shape inference for the exported graph. Please consider adding it in symbolic function.\n",
      "WARNING: The shape inference of prim::Constant type is missing, so it may result in wrong shape inference for the exported graph. Please consider adding it in symbolic function.\n",
      "WARNING: The shape inference of prim::Constant type is missing, so it may result in wrong shape inference for the exported graph. Please consider adding it in symbolic function.\n",
      "WARNING: The shape inference of prim::Constant type is missing, so it may result in wrong shape inference for the exported graph. Please consider adding it in symbolic function.\n",
      "WARNING: The shape inference of prim::Constant type is missing, so it may result in wrong shape inference for the exported graph. Please consider adding it in symbolic function.\n",
      "WARNING: The shape inference of prim::Constant type is missing, so it may result in wrong shape inference for the exported graph. Please consider adding it in symbolic function.\n",
      "WARNING: The shape inference of prim::Constant type is missing, so it may result in wrong shape inference for the exported graph. Please consider adding it in symbolic function.\n",
      "WARNING: The shape inference of prim::Constant type is missing, so it may result in wrong shape inference for the exported graph. Please consider adding it in symbolic function.\n",
      "WARNING: The shape inference of prim::Constant type is missing, so it may result in wrong shape inference for the exported graph. Please consider adding it in symbolic function.\n",
      "WARNING: The shape inference of prim::Constant type is missing, so it may result in wrong shape inference for the exported graph. Please consider adding it in symbolic function.\n",
      "WARNING: The shape inference of prim::Constant type is missing, so it may result in wrong shape inference for the exported graph. Please consider adding it in symbolic function.\n",
      "WARNING: The shape inference of prim::Constant type is missing, so it may result in wrong shape inference for the exported graph. Please consider adding it in symbolic function.\n",
      "WARNING: The shape inference of prim::Constant type is missing, so it may result in wrong shape inference for the exported graph. Please consider adding it in symbolic function.\n",
      "WARNING: The shape inference of prim::Constant type is missing, so it may result in wrong shape inference for the exported graph. Please consider adding it in symbolic function.\n",
      "WARNING: The shape inference of prim::Constant type is missing, so it may result in wrong shape inference for the exported graph. Please consider adding it in symbolic function.\n",
      "WARNING: The shape inference of prim::Constant type is missing, so it may result in wrong shape inference for the exported graph. Please consider adding it in symbolic function.\n",
      "WARNING: The shape inference of prim::Constant type is missing, so it may result in wrong shape inference for the exported graph. Please consider adding it in symbolic function.\n",
      "WARNING: The shape inference of prim::Constant type is missing, so it may result in wrong shape inference for the exported graph. Please consider adding it in symbolic function.\n",
      "WARNING: The shape inference of prim::Constant type is missing, so it may result in wrong shape inference for the exported graph. Please consider adding it in symbolic function.\n",
      "WARNING: The shape inference of prim::Constant type is missing, so it may result in wrong shape inference for the exported graph. Please consider adding it in symbolic function.\n",
      "WARNING: The shape inference of prim::Constant type is missing, so it may result in wrong shape inference for the exported graph. Please consider adding it in symbolic function.\n",
      "WARNING: The shape inference of prim::Constant type is missing, so it may result in wrong shape inference for the exported graph. Please consider adding it in symbolic function.\n",
      "WARNING: The shape inference of prim::Constant type is missing, so it may result in wrong shape inference for the exported graph. Please consider adding it in symbolic function.\n",
      "WARNING: The shape inference of prim::Constant type is missing, so it may result in wrong shape inference for the exported graph. Please consider adding it in symbolic function.\n",
      "WARNING: The shape inference of prim::Constant type is missing, so it may result in wrong shape inference for the exported graph. Please consider adding it in symbolic function.\n",
      "WARNING: The shape inference of prim::Constant type is missing, so it may result in wrong shape inference for the exported graph. Please consider adding it in symbolic function.\n",
      "WARNING: The shape inference of prim::Constant type is missing, so it may result in wrong shape inference for the exported graph. Please consider adding it in symbolic function.\n",
      "WARNING: The shape inference of prim::Constant type is missing, so it may result in wrong shape inference for the exported graph. Please consider adding it in symbolic function.\n",
      "WARNING: The shape inference of prim::Constant type is missing, so it may result in wrong shape inference for the exported graph. Please consider adding it in symbolic function.\n"
     ]
    },
    {
     "name": "stdout",
     "output_type": "stream",
     "text": [
      "Downloading swin_t\n"
     ]
    },
    {
     "name": "stderr",
     "output_type": "stream",
     "text": [
      "Using cache found in /home/amin/.cache/torch/hub/pytorch_vision_v0.13.1\n",
      "WARNING: The shape inference of prim::Constant type is missing, so it may result in wrong shape inference for the exported graph. Please consider adding it in symbolic function.\n",
      "WARNING: The shape inference of prim::Constant type is missing, so it may result in wrong shape inference for the exported graph. Please consider adding it in symbolic function.\n",
      "WARNING: The shape inference of prim::Constant type is missing, so it may result in wrong shape inference for the exported graph. Please consider adding it in symbolic function.\n",
      "WARNING: The shape inference of prim::Constant type is missing, so it may result in wrong shape inference for the exported graph. Please consider adding it in symbolic function.\n",
      "WARNING: The shape inference of prim::Constant type is missing, so it may result in wrong shape inference for the exported graph. Please consider adding it in symbolic function.\n",
      "WARNING: The shape inference of prim::Constant type is missing, so it may result in wrong shape inference for the exported graph. Please consider adding it in symbolic function.\n",
      "WARNING: The shape inference of prim::Constant type is missing, so it may result in wrong shape inference for the exported graph. Please consider adding it in symbolic function.\n",
      "WARNING: The shape inference of prim::Constant type is missing, so it may result in wrong shape inference for the exported graph. Please consider adding it in symbolic function.\n",
      "WARNING: The shape inference of prim::Constant type is missing, so it may result in wrong shape inference for the exported graph. Please consider adding it in symbolic function.\n",
      "WARNING: The shape inference of prim::Constant type is missing, so it may result in wrong shape inference for the exported graph. Please consider adding it in symbolic function.\n",
      "WARNING: The shape inference of prim::Constant type is missing, so it may result in wrong shape inference for the exported graph. Please consider adding it in symbolic function.\n",
      "WARNING: The shape inference of prim::Constant type is missing, so it may result in wrong shape inference for the exported graph. Please consider adding it in symbolic function.\n",
      "WARNING: The shape inference of prim::Constant type is missing, so it may result in wrong shape inference for the exported graph. Please consider adding it in symbolic function.\n",
      "WARNING: The shape inference of prim::Constant type is missing, so it may result in wrong shape inference for the exported graph. Please consider adding it in symbolic function.\n",
      "WARNING: The shape inference of prim::Constant type is missing, so it may result in wrong shape inference for the exported graph. Please consider adding it in symbolic function.\n",
      "WARNING: The shape inference of prim::Constant type is missing, so it may result in wrong shape inference for the exported graph. Please consider adding it in symbolic function.\n",
      "WARNING: The shape inference of prim::Constant type is missing, so it may result in wrong shape inference for the exported graph. Please consider adding it in symbolic function.\n",
      "WARNING: The shape inference of prim::Constant type is missing, so it may result in wrong shape inference for the exported graph. Please consider adding it in symbolic function.\n",
      "WARNING: The shape inference of prim::Constant type is missing, so it may result in wrong shape inference for the exported graph. Please consider adding it in symbolic function.\n",
      "WARNING: The shape inference of prim::Constant type is missing, so it may result in wrong shape inference for the exported graph. Please consider adding it in symbolic function.\n",
      "WARNING: The shape inference of prim::Constant type is missing, so it may result in wrong shape inference for the exported graph. Please consider adding it in symbolic function.\n",
      "WARNING: The shape inference of prim::Constant type is missing, so it may result in wrong shape inference for the exported graph. Please consider adding it in symbolic function.\n",
      "WARNING: The shape inference of prim::Constant type is missing, so it may result in wrong shape inference for the exported graph. Please consider adding it in symbolic function.\n",
      "WARNING: The shape inference of prim::Constant type is missing, so it may result in wrong shape inference for the exported graph. Please consider adding it in symbolic function.\n",
      "WARNING: The shape inference of prim::Constant type is missing, so it may result in wrong shape inference for the exported graph. Please consider adding it in symbolic function.\n",
      "WARNING: The shape inference of prim::Constant type is missing, so it may result in wrong shape inference for the exported graph. Please consider adding it in symbolic function.\n",
      "WARNING: The shape inference of prim::Constant type is missing, so it may result in wrong shape inference for the exported graph. Please consider adding it in symbolic function.\n",
      "WARNING: The shape inference of prim::Constant type is missing, so it may result in wrong shape inference for the exported graph. Please consider adding it in symbolic function.\n",
      "WARNING: The shape inference of prim::Constant type is missing, so it may result in wrong shape inference for the exported graph. Please consider adding it in symbolic function.\n",
      "WARNING: The shape inference of prim::Constant type is missing, so it may result in wrong shape inference for the exported graph. Please consider adding it in symbolic function.\n"
     ]
    },
    {
     "name": "stdout",
     "output_type": "stream",
     "text": [
      "Downloading vgg11\n"
     ]
    },
    {
     "name": "stderr",
     "output_type": "stream",
     "text": [
      "Using cache found in /home/amin/.cache/torch/hub/pytorch_vision_v0.13.1\n"
     ]
    },
    {
     "name": "stdout",
     "output_type": "stream",
     "text": [
      "Downloading vgg11_bn\n"
     ]
    },
    {
     "name": "stderr",
     "output_type": "stream",
     "text": [
      "Using cache found in /home/amin/.cache/torch/hub/pytorch_vision_v0.13.1\n"
     ]
    },
    {
     "name": "stdout",
     "output_type": "stream",
     "text": [
      "Downloading vgg13\n"
     ]
    },
    {
     "name": "stderr",
     "output_type": "stream",
     "text": [
      "Using cache found in /home/amin/.cache/torch/hub/pytorch_vision_v0.13.1\n"
     ]
    },
    {
     "name": "stdout",
     "output_type": "stream",
     "text": [
      "Downloading vgg13_bn\n"
     ]
    },
    {
     "name": "stderr",
     "output_type": "stream",
     "text": [
      "Using cache found in /home/amin/.cache/torch/hub/pytorch_vision_v0.13.1\n"
     ]
    },
    {
     "name": "stdout",
     "output_type": "stream",
     "text": [
      "Downloading vgg16\n"
     ]
    },
    {
     "name": "stderr",
     "output_type": "stream",
     "text": [
      "Using cache found in /home/amin/.cache/torch/hub/pytorch_vision_v0.13.1\n"
     ]
    },
    {
     "name": "stdout",
     "output_type": "stream",
     "text": [
      "Downloading vgg16_bn\n"
     ]
    },
    {
     "name": "stderr",
     "output_type": "stream",
     "text": [
      "Using cache found in /home/amin/.cache/torch/hub/pytorch_vision_v0.13.1\n"
     ]
    },
    {
     "name": "stdout",
     "output_type": "stream",
     "text": [
      "Downloading vgg19\n"
     ]
    },
    {
     "name": "stderr",
     "output_type": "stream",
     "text": [
      "Using cache found in /home/amin/.cache/torch/hub/pytorch_vision_v0.13.1\n"
     ]
    },
    {
     "name": "stdout",
     "output_type": "stream",
     "text": [
      "Downloading vgg19_bn\n"
     ]
    },
    {
     "name": "stderr",
     "output_type": "stream",
     "text": [
      "Using cache found in /home/amin/.cache/torch/hub/pytorch_vision_v0.13.1\n"
     ]
    },
    {
     "name": "stdout",
     "output_type": "stream",
     "text": [
      "Downloading vit_b_16\n"
     ]
    },
    {
     "name": "stderr",
     "output_type": "stream",
     "text": [
      "Using cache found in /home/amin/.cache/torch/hub/pytorch_vision_v0.13.1\n",
      "/home/amin/miniconda3/envs/ma3/lib/python3.9/site-packages/torch/__init__.py:833: TracerWarning: Converting a tensor to a Python boolean might cause the trace to be incorrect. We can't record the data flow of Python values, so this value will be treated as a constant in the future. This means that the trace might not generalize to other inputs!\n",
      "  assert condition, message\n",
      "/home/amin/miniconda3/envs/ma3/lib/python3.9/site-packages/torchvision/models/vision_transformer.py:273: UserWarning: __floordiv__ is deprecated, and its behavior will change in a future version of pytorch. It currently rounds toward 0 (like the 'trunc' function NOT 'floor'). This results in incorrect rounding for negative values. To keep the current behavior, use torch.div(a, b, rounding_mode='trunc'), or for actual floor division, use torch.div(a, b, rounding_mode='floor').\n",
      "  n_h = h // p\n",
      "/home/amin/miniconda3/envs/ma3/lib/python3.9/site-packages/torchvision/models/vision_transformer.py:274: UserWarning: __floordiv__ is deprecated, and its behavior will change in a future version of pytorch. It currently rounds toward 0 (like the 'trunc' function NOT 'floor'). This results in incorrect rounding for negative values. To keep the current behavior, use torch.div(a, b, rounding_mode='trunc'), or for actual floor division, use torch.div(a, b, rounding_mode='floor').\n",
      "  n_w = w // p\n"
     ]
    },
    {
     "name": "stdout",
     "output_type": "stream",
     "text": [
      "Downloading vit_b_32\n"
     ]
    },
    {
     "name": "stderr",
     "output_type": "stream",
     "text": [
      "Using cache found in /home/amin/.cache/torch/hub/pytorch_vision_v0.13.1\n"
     ]
    },
    {
     "name": "stdout",
     "output_type": "stream",
     "text": [
      "Downloading vit_h_14\n"
     ]
    },
    {
     "name": "stderr",
     "output_type": "stream",
     "text": [
      "Using cache found in /home/amin/.cache/torch/hub/pytorch_vision_v0.13.1\n"
     ]
    },
    {
     "name": "stdout",
     "output_type": "stream",
     "text": [
      "Couldn't prep: vit_h_14\n"
     ]
    },
    {
     "name": "stderr",
     "output_type": "stream",
     "text": [
      "Traceback (most recent call last):\n",
      "  File \"/tmp/ipykernel_324606/2907548062.py\", line 12, in <cell line: 5>\n",
      "    model, weights = store_vision_model_2(m_name, file_name)\n",
      "  File \"/tmp/ipykernel_324606/3113244307.py\", line 17, in store_vision_model_2\n",
      "    torch.onnx.export(m, dummy_input, file_name)\n",
      "  File \"/home/amin/miniconda3/envs/ma3/lib/python3.9/site-packages/torch/onnx/__init__.py\", line 350, in export\n",
      "    return utils.export(\n",
      "  File \"/home/amin/miniconda3/envs/ma3/lib/python3.9/site-packages/torch/onnx/utils.py\", line 163, in export\n",
      "    _export(\n",
      "  File \"/home/amin/miniconda3/envs/ma3/lib/python3.9/site-packages/torch/onnx/utils.py\", line 1074, in _export\n",
      "    graph, params_dict, torch_out = _model_to_graph(\n",
      "  File \"/home/amin/miniconda3/envs/ma3/lib/python3.9/site-packages/torch/onnx/utils.py\", line 727, in _model_to_graph\n",
      "    graph, params, torch_out, module = _create_jit_graph(model, args)\n",
      "  File \"/home/amin/miniconda3/envs/ma3/lib/python3.9/site-packages/torch/onnx/utils.py\", line 602, in _create_jit_graph\n",
      "    graph, torch_out = _trace_and_get_graph_from_model(model, args)\n",
      "  File \"/home/amin/miniconda3/envs/ma3/lib/python3.9/site-packages/torch/onnx/utils.py\", line 517, in _trace_and_get_graph_from_model\n",
      "    trace_graph, torch_out, inputs_states = torch.jit._get_trace_graph(\n",
      "  File \"/home/amin/miniconda3/envs/ma3/lib/python3.9/site-packages/torch/jit/_trace.py\", line 1175, in _get_trace_graph\n",
      "    outs = ONNXTracedModule(f, strict, _force_outplace, return_inputs, _return_inputs_states)(*args, **kwargs)\n",
      "  File \"/home/amin/miniconda3/envs/ma3/lib/python3.9/site-packages/torch/nn/modules/module.py\", line 1130, in _call_impl\n",
      "    return forward_call(*input, **kwargs)\n",
      "  File \"/home/amin/miniconda3/envs/ma3/lib/python3.9/site-packages/torch/jit/_trace.py\", line 127, in forward\n",
      "    graph, out = torch._C._create_graph_by_tracing(\n",
      "  File \"/home/amin/miniconda3/envs/ma3/lib/python3.9/site-packages/torch/jit/_trace.py\", line 118, in wrapper\n",
      "    outs.append(self.inner(*trace_inputs))\n",
      "  File \"/home/amin/miniconda3/envs/ma3/lib/python3.9/site-packages/torch/nn/modules/module.py\", line 1130, in _call_impl\n",
      "    return forward_call(*input, **kwargs)\n",
      "  File \"/home/amin/miniconda3/envs/ma3/lib/python3.9/site-packages/torch/nn/modules/module.py\", line 1118, in _slow_forward\n",
      "    result = self.forward(*input, **kwargs)\n",
      "  File \"/home/amin/miniconda3/envs/ma3/lib/python3.9/site-packages/torchvision/models/vision_transformer.py\", line 291, in forward\n",
      "    x = self._process_input(x)\n",
      "  File \"/home/amin/miniconda3/envs/ma3/lib/python3.9/site-packages/torchvision/models/vision_transformer.py\", line 271, in _process_input\n",
      "    torch._assert(h == self.image_size, \"Wrong image height!\")\n",
      "  File \"/home/amin/miniconda3/envs/ma3/lib/python3.9/site-packages/torch/__init__.py\", line 833, in _assert\n",
      "    assert condition, message\n",
      "AssertionError: Wrong image height!\n"
     ]
    },
    {
     "name": "stdout",
     "output_type": "stream",
     "text": [
      "Downloading vit_l_16\n"
     ]
    },
    {
     "name": "stderr",
     "output_type": "stream",
     "text": [
      "Using cache found in /home/amin/.cache/torch/hub/pytorch_vision_v0.13.1\n"
     ]
    },
    {
     "name": "stdout",
     "output_type": "stream",
     "text": [
      "Downloading vit_l_32\n"
     ]
    },
    {
     "name": "stderr",
     "output_type": "stream",
     "text": [
      "Using cache found in /home/amin/.cache/torch/hub/pytorch_vision_v0.13.1\n"
     ]
    },
    {
     "name": "stdout",
     "output_type": "stream",
     "text": [
      "Downloading wide_resnet101_2\n"
     ]
    },
    {
     "name": "stderr",
     "output_type": "stream",
     "text": [
      "Using cache found in /home/amin/.cache/torch/hub/pytorch_vision_v0.13.1\n"
     ]
    },
    {
     "name": "stdout",
     "output_type": "stream",
     "text": [
      "Downloading wide_resnet50_2\n"
     ]
    },
    {
     "name": "stderr",
     "output_type": "stream",
     "text": [
      "Using cache found in /home/amin/.cache/torch/hub/pytorch_vision_v0.13.1\n"
     ]
    }
   ],
   "source": [
    "import torch.hub\n",
    "import traceback\n",
    "import crypten\n",
    "\n",
    "for m_name in m_list:\n",
    "    if m_name in success_list:\n",
    "        print(f\"Skipping, already succeeded: {m_name}\")\n",
    "        continue\n",
    "    print(f\"Downloading {m_name}\")\n",
    "    file_name = vision_model_file_name(m_name)\n",
    "    try:\n",
    "        model, weights = store_vision_model_2(m_name, file_name)\n",
    "#         images_t, labels = load_dataset(weights.transforms())\n",
    "#         with open(file_name, \"rb\") as fp:\n",
    "#             model_crypten = crypten.nn.from_onnx(fp)\n",
    "#         model(images_t[0].unsqueeze(0))\n",
    "#         enc_model = model_crypten.encrypt()\n",
    "#         x = crypten.cryptensor(images_t[0].unsqueeze(0))\n",
    "#         enc_model(x)\n",
    "        model_data[m_name] = {\n",
    "            \"images\": images_t,\n",
    "            \"labels\": labels,\n",
    "            \"model\": model,\n",
    "            \"weights\": weights\n",
    "        }\n",
    "        success_list.add(m_name)\n",
    "    except Exception:\n",
    "        print(\"Couldn't prep: \" + m_name)\n",
    "        traceback.print_exc()\n",
    "        if file_name is not None and os.path.isfile(file_name):\n",
    "            os.remove(file_name)"
   ]
  },
  {
   "cell_type": "code",
   "execution_count": 36,
   "id": "420e9dac",
   "metadata": {},
   "outputs": [
    {
     "data": {
      "text/plain": [
       "{'alexnet',\n",
       " 'convnext_base',\n",
       " 'convnext_large',\n",
       " 'convnext_small',\n",
       " 'convnext_tiny',\n",
       " 'densenet121',\n",
       " 'densenet161',\n",
       " 'densenet169',\n",
       " 'densenet201',\n",
       " 'efficientnet_b0',\n",
       " 'efficientnet_b1',\n",
       " 'efficientnet_b2',\n",
       " 'efficientnet_b3',\n",
       " 'efficientnet_b4',\n",
       " 'efficientnet_b5',\n",
       " 'efficientnet_b6',\n",
       " 'efficientnet_b7',\n",
       " 'efficientnet_v2_l',\n",
       " 'efficientnet_v2_m',\n",
       " 'efficientnet_v2_s',\n",
       " 'googlenet',\n",
       " 'inception_v3',\n",
       " 'mnasnet0_5',\n",
       " 'mnasnet0_75',\n",
       " 'mnasnet1_0',\n",
       " 'mnasnet1_3',\n",
       " 'mobilenet_v2',\n",
       " 'mobilenet_v3_large',\n",
       " 'mobilenet_v3_small',\n",
       " 'regnet_x_16gf',\n",
       " 'regnet_x_1_6gf',\n",
       " 'regnet_x_32gf',\n",
       " 'regnet_x_3_2gf',\n",
       " 'regnet_x_400mf',\n",
       " 'regnet_x_800mf',\n",
       " 'regnet_x_8gf',\n",
       " 'regnet_y_128gf',\n",
       " 'regnet_y_16gf',\n",
       " 'regnet_y_1_6gf',\n",
       " 'regnet_y_32gf',\n",
       " 'regnet_y_3_2gf',\n",
       " 'regnet_y_400mf',\n",
       " 'regnet_y_800mf',\n",
       " 'regnet_y_8gf',\n",
       " 'resnet101',\n",
       " 'resnet152',\n",
       " 'resnet18',\n",
       " 'resnet34',\n",
       " 'resnet50',\n",
       " 'resnext101_32x8d',\n",
       " 'resnext50_32x4d',\n",
       " 'shufflenet_v2_x0_5',\n",
       " 'shufflenet_v2_x1_0',\n",
       " 'shufflenet_v2_x1_5',\n",
       " 'shufflenet_v2_x2_0',\n",
       " 'squeezenet1_0',\n",
       " 'squeezenet1_1',\n",
       " 'swin_b',\n",
       " 'swin_s',\n",
       " 'swin_t',\n",
       " 'vgg11',\n",
       " 'vgg11_bn',\n",
       " 'vgg13',\n",
       " 'vgg13_bn',\n",
       " 'vgg16',\n",
       " 'vgg16_bn',\n",
       " 'vgg19',\n",
       " 'vgg19_bn',\n",
       " 'vit_b_16',\n",
       " 'vit_b_32',\n",
       " 'vit_l_16',\n",
       " 'vit_l_32',\n",
       " 'wide_resnet101_2',\n",
       " 'wide_resnet50_2'}"
      ]
     },
     "execution_count": 36,
     "metadata": {},
     "output_type": "execute_result"
    }
   ],
   "source": [
    "success_list"
   ]
  },
  {
   "cell_type": "code",
   "execution_count": 10,
   "id": "a95a619f",
   "metadata": {},
   "outputs": [],
   "source": [
    "def load_nn(file_name):\n",
    "    import onnx\n",
    "    from onnx2pytorch import ConvertModel\n",
    "\n",
    "    onnx_model = onnx.load(file_name)\n",
    "    pytorch_model = ConvertModel(onnx_model, experimental=True)\n",
    "    print(f'Loaded from {file_name}')\n",
    "    return pytorch_model\n"
   ]
  },
  {
   "cell_type": "code",
   "execution_count": 13,
   "id": "2f332d5a",
   "metadata": {
    "scrolled": true
   },
   "outputs": [
    {
     "ename": "NameError",
     "evalue": "name 'model_crypten' is not defined",
     "output_type": "error",
     "traceback": [
      "\u001b[0;31m---------------------------------------------------------------------------\u001b[0m",
      "\u001b[0;31mNameError\u001b[0m                                 Traceback (most recent call last)",
      "Input \u001b[0;32mIn [13]\u001b[0m, in \u001b[0;36m<cell line: 1>\u001b[0;34m()\u001b[0m\n\u001b[0;32m----> 1\u001b[0m enc_model \u001b[38;5;241m=\u001b[39m \u001b[43mmodel_crypten\u001b[49m\u001b[38;5;241m.\u001b[39mencrypt()\n\u001b[1;32m      2\u001b[0m x \u001b[38;5;241m=\u001b[39m crypten\u001b[38;5;241m.\u001b[39mcryptensor(images_t[\u001b[38;5;241m0\u001b[39m]\u001b[38;5;241m.\u001b[39munsqueeze(\u001b[38;5;241m0\u001b[39m))\n\u001b[1;32m      3\u001b[0m enc_model(x)\n",
      "\u001b[0;31mNameError\u001b[0m: name 'model_crypten' is not defined"
     ]
    }
   ],
   "source": [
    "enc_model = model_crypten.encrypt()\n",
    "x = crypten.cryptensor(images_t[0].unsqueeze(0))\n",
    "enc_model(x)"
   ]
  },
  {
   "cell_type": "code",
   "execution_count": 14,
   "id": "41bab9c6",
   "metadata": {},
   "outputs": [],
   "source": [
    "with open(\"../pre_trained_models/vision/alexnet.onnx\", \"rb\") as fp:\n",
    "                model_crypten = crypten.nn.from_onnx(fp)"
   ]
  },
  {
   "cell_type": "code",
   "execution_count": 40,
   "id": "069d702a",
   "metadata": {
    "scrolled": true
   },
   "outputs": [
    {
     "data": {
      "text/plain": [
       "['regnet_y_800mf.',\n",
       " 'regnet_x_400mf.',\n",
       " 'convnext_large.',\n",
       " 'regnet_y_400mf.',\n",
       " 'convnext_tiny.',\n",
       " 'squeezenet1_0.',\n",
       " 'mobilenet_v2.',\n",
       " 'vgg16.',\n",
       " 'regnet_y_8gf.',\n",
       " 'vgg19_bn.',\n",
       " 'regnet_y_16gf.',\n",
       " 'resnext101_32x8d.',\n",
       " 'convnext_small.',\n",
       " 'resnext50_32x4d.',\n",
       " 'vgg13_bn.',\n",
       " 'vgg16_bn.',\n",
       " 'shufflenet_v2_x0_5.',\n",
       " 'regnet_x_3_2gf.',\n",
       " 'resnet50.',\n",
       " 'resnet152.',\n",
       " 'wide_resnet50_2.',\n",
       " 'resnet18.',\n",
       " 'regnet_y_1_6gf.',\n",
       " 'alexnet.',\n",
       " 'regnet_x_32gf.',\n",
       " 'regnet_y_32gf.',\n",
       " 'regnet_y_3_2gf.',\n",
       " 'wide_resnet101_2.',\n",
       " 'regnet_x_1_6gf.',\n",
       " 'mnasnet1_0.',\n",
       " 'mnasnet0_5.',\n",
       " 'convnext_base.',\n",
       " 'resnet101.',\n",
       " 'regnet_x_8gf.',\n",
       " 'regnet_x_800mf.',\n",
       " 'shufflenet_v2_x1_0.',\n",
       " 'resnet34.',\n",
       " 'squeezenet1_1.',\n",
       " 'vgg19.',\n",
       " 'vgg11.',\n",
       " 'vgg13.',\n",
       " 'regnet_x_16gf.',\n",
       " 'googlenet.',\n",
       " 'vgg11_bn.']"
      ]
     },
     "execution_count": 40,
     "metadata": {},
     "output_type": "execute_result"
    }
   ],
   "source": [
    "[sl.name[:-4] for sl in success_load]"
   ]
  },
  {
   "cell_type": "code",
   "execution_count": 41,
   "id": "9b833a13",
   "metadata": {
    "scrolled": false
   },
   "outputs": [
    {
     "data": {
      "text/plain": [
       "{'densenet121',\n",
       " 'densenet161',\n",
       " 'densenet169',\n",
       " 'densenet201',\n",
       " 'efficientnet_b0',\n",
       " 'efficientnet_b1',\n",
       " 'efficientnet_b2',\n",
       " 'efficientnet_b3',\n",
       " 'efficientnet_b4',\n",
       " 'efficientnet_b5',\n",
       " 'efficientnet_b6',\n",
       " 'efficientnet_b7',\n",
       " 'efficientnet_v2_l',\n",
       " 'efficientnet_v2_m',\n",
       " 'efficientnet_v2_s',\n",
       " 'inception_v3',\n",
       " 'mnasnet0_75',\n",
       " 'mnasnet1_3',\n",
       " 'mobilenet_v3_large',\n",
       " 'mobilenet_v3_small',\n",
       " 'regnet_y_128gf',\n",
       " 'shufflenet_v2_x1_5',\n",
       " 'shufflenet_v2_x2_0',\n",
       " 'swin_b',\n",
       " 'swin_s',\n",
       " 'swin_t',\n",
       " 'vit_b_16',\n",
       " 'vit_b_32',\n",
       " 'vit_l_16',\n",
       " 'vit_l_32'}"
      ]
     },
     "execution_count": 41,
     "metadata": {},
     "output_type": "execute_result"
    }
   ],
   "source": [
    "success_list.difference([sl.name[:-5] for sl in success_load])"
   ]
  },
  {
   "cell_type": "code",
   "execution_count": 49,
   "id": "373156d2",
   "metadata": {},
   "outputs": [
    {
     "data": {
      "text/plain": [
       "{'inception_v3',\n",
       " 'mobilenet_v3_large',\n",
       " 'mobilenet_v3_small',\n",
       " 'regnet_y_128gf',\n",
       " 'swin_b',\n",
       " 'swin_s',\n",
       " 'swin_t'}"
      ]
     },
     "execution_count": 49,
     "metadata": {},
     "output_type": "execute_result"
    }
   ],
   "source": [
    "success_list.difference([sl.name[:-5] for sl in success_load])"
   ]
  },
  {
   "cell_type": "code",
   "execution_count": 37,
   "id": "cc291d62",
   "metadata": {},
   "outputs": [
    {
     "data": {
      "text/plain": [
       "{PosixPath('../pre_trained_models/vision/alexnet.onnx'),\n",
       " PosixPath('../pre_trained_models/vision/convnext_base.onnx'),\n",
       " PosixPath('../pre_trained_models/vision/convnext_large.onnx'),\n",
       " PosixPath('../pre_trained_models/vision/convnext_small.onnx'),\n",
       " PosixPath('../pre_trained_models/vision/convnext_tiny.onnx'),\n",
       " PosixPath('../pre_trained_models/vision/googlenet.onnx'),\n",
       " PosixPath('../pre_trained_models/vision/mnasnet0_5.onnx'),\n",
       " PosixPath('../pre_trained_models/vision/mnasnet1_0.onnx'),\n",
       " PosixPath('../pre_trained_models/vision/mobilenet_v2.onnx'),\n",
       " PosixPath('../pre_trained_models/vision/regnet_x_16gf.onnx'),\n",
       " PosixPath('../pre_trained_models/vision/regnet_x_1_6gf.onnx'),\n",
       " PosixPath('../pre_trained_models/vision/regnet_x_32gf.onnx'),\n",
       " PosixPath('../pre_trained_models/vision/regnet_x_3_2gf.onnx'),\n",
       " PosixPath('../pre_trained_models/vision/regnet_x_400mf.onnx'),\n",
       " PosixPath('../pre_trained_models/vision/regnet_x_800mf.onnx'),\n",
       " PosixPath('../pre_trained_models/vision/regnet_x_8gf.onnx'),\n",
       " PosixPath('../pre_trained_models/vision/regnet_y_16gf.onnx'),\n",
       " PosixPath('../pre_trained_models/vision/regnet_y_1_6gf.onnx'),\n",
       " PosixPath('../pre_trained_models/vision/regnet_y_32gf.onnx'),\n",
       " PosixPath('../pre_trained_models/vision/regnet_y_3_2gf.onnx'),\n",
       " PosixPath('../pre_trained_models/vision/regnet_y_400mf.onnx'),\n",
       " PosixPath('../pre_trained_models/vision/regnet_y_800mf.onnx'),\n",
       " PosixPath('../pre_trained_models/vision/regnet_y_8gf.onnx'),\n",
       " PosixPath('../pre_trained_models/vision/resnet101.onnx'),\n",
       " PosixPath('../pre_trained_models/vision/resnet152.onnx'),\n",
       " PosixPath('../pre_trained_models/vision/resnet18.onnx'),\n",
       " PosixPath('../pre_trained_models/vision/resnet34.onnx'),\n",
       " PosixPath('../pre_trained_models/vision/resnet50.onnx'),\n",
       " PosixPath('../pre_trained_models/vision/resnext101_32x8d.onnx'),\n",
       " PosixPath('../pre_trained_models/vision/resnext50_32x4d.onnx'),\n",
       " PosixPath('../pre_trained_models/vision/shufflenet_v2_x0_5.onnx'),\n",
       " PosixPath('../pre_trained_models/vision/shufflenet_v2_x1_0.onnx'),\n",
       " PosixPath('../pre_trained_models/vision/squeezenet1_0.onnx'),\n",
       " PosixPath('../pre_trained_models/vision/squeezenet1_1.onnx'),\n",
       " PosixPath('../pre_trained_models/vision/vgg11.onnx'),\n",
       " PosixPath('../pre_trained_models/vision/vgg11_bn.onnx'),\n",
       " PosixPath('../pre_trained_models/vision/vgg13.onnx'),\n",
       " PosixPath('../pre_trained_models/vision/vgg13_bn.onnx'),\n",
       " PosixPath('../pre_trained_models/vision/vgg16.onnx'),\n",
       " PosixPath('../pre_trained_models/vision/vgg16_bn.onnx'),\n",
       " PosixPath('../pre_trained_models/vision/vgg19.onnx'),\n",
       " PosixPath('../pre_trained_models/vision/vgg19_bn.onnx'),\n",
       " PosixPath('../pre_trained_models/vision/wide_resnet101_2.onnx'),\n",
       " PosixPath('../pre_trained_models/vision/wide_resnet50_2.onnx')}"
      ]
     },
     "execution_count": 37,
     "metadata": {},
     "output_type": "execute_result"
    }
   ],
   "source": [
    "success_load"
   ]
  },
  {
   "cell_type": "code",
   "execution_count": null,
   "id": "d5a98f26",
   "metadata": {},
   "outputs": [],
   "source": [
    "success_load = set()\n",
    "success_load_crypten = set()"
   ]
  },
  {
   "cell_type": "code",
   "execution_count": null,
   "id": "dd6c5044",
   "metadata": {},
   "outputs": [],
   "source": []
  },
  {
   "cell_type": "code",
   "execution_count": 44,
   "id": "2a5aafae",
   "metadata": {
    "scrolled": true
   },
   "outputs": [
    {
     "name": "stdout",
     "output_type": "stream",
     "text": [
      "Trying load and inference: ../pre_trained_models/vision/mobilenet_v3_small.onnx. It is 0/74\n",
      "Couldn't load ../pre_trained_models/vision/mobilenet_v3_small.onnx\n",
      "Trying load and inference: ../pre_trained_models/vision/regnet_x_3_2gf.onnx. It is 1/74\n",
      "Loaded from ../pre_trained_models/vision/regnet_x_3_2gf.onnx\n",
      "Trying load and inference: ../pre_trained_models/vision/regnet_y_8gf.onnx. It is 2/74\n"
     ]
    },
    {
     "name": "stderr",
     "output_type": "stream",
     "text": [
      "Traceback (most recent call last):\n",
      "  File \"/tmp/ipykernel_324606/188158946.py\", line 10, in <cell line: 7>\n",
      "    m = load_nn(stored_m)\n",
      "  File \"/tmp/ipykernel_324606/1972650342.py\", line 6, in load_nn\n",
      "    pytorch_model = ConvertModel(onnx_model, experimental=True)\n",
      "  File \"/home/amin/miniconda3/envs/ma3/lib/python3.9/site-packages/onnx2pytorch/convert/model.py\", line 122, in __init__\n",
      "    for op_id, op_name, op in convert_operations(\n",
      "  File \"/home/amin/miniconda3/envs/ma3/lib/python3.9/site-packages/onnx2pytorch/convert/operations.py\", line 279, in convert_operations\n",
      "    raise NotImplementedError(\n",
      "NotImplementedError: Conversion not implemented for op_type=HardSigmoid.\n"
     ]
    },
    {
     "name": "stdout",
     "output_type": "stream",
     "text": [
      "Loaded from ../pre_trained_models/vision/regnet_y_8gf.onnx\n",
      "Trying load and inference: ../pre_trained_models/vision/resnext50_32x4d.onnx. It is 3/74\n",
      "Loaded from ../pre_trained_models/vision/resnext50_32x4d.onnx\n",
      "Trying load and inference: ../pre_trained_models/vision/vgg16_bn.onnx. It is 4/74\n",
      "Loaded from ../pre_trained_models/vision/vgg16_bn.onnx\n",
      "Trying load and inference: ../pre_trained_models/vision/densenet121.onnx. It is 5/74\n",
      "Loaded from ../pre_trained_models/vision/densenet121.onnx\n",
      "Trying load and inference: ../pre_trained_models/vision/shufflenet_v2_x2_0.onnx. It is 6/74\n",
      "Loaded from ../pre_trained_models/vision/shufflenet_v2_x2_0.onnx\n",
      "Trying load and inference: ../pre_trained_models/vision/efficientnet_v2_s.onnx. It is 7/74\n",
      "Loaded from ../pre_trained_models/vision/efficientnet_v2_s.onnx\n",
      "Trying load and inference: ../pre_trained_models/vision/densenet161.onnx. It is 8/74\n",
      "Loaded from ../pre_trained_models/vision/densenet161.onnx\n",
      "Trying load and inference: ../pre_trained_models/vision/vgg13_bn.onnx. It is 9/74\n",
      "Loaded from ../pre_trained_models/vision/vgg13_bn.onnx\n",
      "Trying load and inference: ../pre_trained_models/vision/regnet_x_16gf.onnx. It is 10/74\n",
      "Loaded from ../pre_trained_models/vision/regnet_x_16gf.onnx\n",
      "Trying load and inference: ../pre_trained_models/vision/densenet169.onnx. It is 11/74\n",
      "Loaded from ../pre_trained_models/vision/densenet169.onnx\n",
      "Trying load and inference: ../pre_trained_models/vision/vit_l_16.onnx. It is 12/74\n",
      "Loaded from ../pre_trained_models/vision/vit_l_16.onnx\n",
      "Trying load and inference: ../pre_trained_models/vision/regnet_y_32gf.onnx. It is 13/74\n",
      "Loaded from ../pre_trained_models/vision/regnet_y_32gf.onnx\n",
      "Trying load and inference: ../pre_trained_models/vision/vgg13.onnx. It is 14/74\n",
      "Loaded from ../pre_trained_models/vision/vgg13.onnx\n",
      "Trying load and inference: ../pre_trained_models/vision/resnet34.onnx. It is 15/74\n",
      "Loaded from ../pre_trained_models/vision/resnet34.onnx\n",
      "Trying load and inference: ../pre_trained_models/vision/mnasnet0_5.onnx. It is 16/74\n",
      "Loaded from ../pre_trained_models/vision/mnasnet0_5.onnx\n",
      "Trying load and inference: ../pre_trained_models/vision/vit_l_32.onnx. It is 17/74\n",
      "Loaded from ../pre_trained_models/vision/vit_l_32.onnx\n",
      "Trying load and inference: ../pre_trained_models/vision/wide_resnet50_2.onnx. It is 18/74\n",
      "Loaded from ../pre_trained_models/vision/wide_resnet50_2.onnx\n",
      "Trying load and inference: ../pre_trained_models/vision/regnet_x_32gf.onnx. It is 19/74\n",
      "Loaded from ../pre_trained_models/vision/regnet_x_32gf.onnx\n",
      "Trying load and inference: ../pre_trained_models/vision/regnet_y_1_6gf.onnx. It is 20/74\n",
      "Loaded from ../pre_trained_models/vision/regnet_y_1_6gf.onnx\n",
      "Trying load and inference: ../pre_trained_models/vision/efficientnet_b7.onnx. It is 21/74\n",
      "Loaded from ../pre_trained_models/vision/efficientnet_b7.onnx\n",
      "Trying load and inference: ../pre_trained_models/vision/convnext_tiny.onnx. It is 22/74\n",
      "Loaded from ../pre_trained_models/vision/convnext_tiny.onnx\n",
      "Trying load and inference: ../pre_trained_models/vision/vgg16.onnx. It is 23/74\n",
      "Loaded from ../pre_trained_models/vision/vgg16.onnx\n",
      "Trying load and inference: ../pre_trained_models/vision/wide_resnet101_2.onnx. It is 24/74\n",
      "Loaded from ../pre_trained_models/vision/wide_resnet101_2.onnx\n",
      "Trying load and inference: ../pre_trained_models/vision/efficientnet_v2_l.onnx. It is 25/74\n",
      "Loaded from ../pre_trained_models/vision/efficientnet_v2_l.onnx\n",
      "Trying load and inference: ../pre_trained_models/vision/vgg11.onnx. It is 26/74\n",
      "Loaded from ../pre_trained_models/vision/vgg11.onnx\n",
      "Trying load and inference: ../pre_trained_models/vision/efficientnet_b2.onnx. It is 27/74\n",
      "Loaded from ../pre_trained_models/vision/efficientnet_b2.onnx\n",
      "Trying load and inference: ../pre_trained_models/vision/vgg11_bn.onnx. It is 28/74\n",
      "Loaded from ../pre_trained_models/vision/vgg11_bn.onnx\n",
      "Trying load and inference: ../pre_trained_models/vision/mobilenet_v2.onnx. It is 29/74\n",
      "Loaded from ../pre_trained_models/vision/mobilenet_v2.onnx\n",
      "Trying load and inference: ../pre_trained_models/vision/alexnet.onnx. It is 30/74\n",
      "Loaded from ../pre_trained_models/vision/alexnet.onnx\n",
      "Trying load and inference: ../pre_trained_models/vision/mnasnet1_0.onnx. It is 31/74\n",
      "Loaded from ../pre_trained_models/vision/mnasnet1_0.onnx\n",
      "Trying load and inference: ../pre_trained_models/vision/squeezenet1_1.onnx. It is 32/74\n",
      "Loaded from ../pre_trained_models/vision/squeezenet1_1.onnx\n",
      "Trying load and inference: ../pre_trained_models/vision/mnasnet0_75.onnx. It is 33/74\n",
      "Loaded from ../pre_trained_models/vision/mnasnet0_75.onnx\n",
      "Trying load and inference: ../pre_trained_models/vision/regnet_y_800mf.onnx. It is 34/74\n",
      "Loaded from ../pre_trained_models/vision/regnet_y_800mf.onnx\n",
      "Trying load and inference: ../pre_trained_models/vision/convnext_small.onnx. It is 35/74\n",
      "Loaded from ../pre_trained_models/vision/convnext_small.onnx\n",
      "Trying load and inference: ../pre_trained_models/vision/convnext_large.onnx. It is 36/74\n",
      "Loaded from ../pre_trained_models/vision/convnext_large.onnx\n",
      "Trying load and inference: ../pre_trained_models/vision/regnet_y_128gf.onnx. It is 37/74\n",
      "Couldn't load ../pre_trained_models/vision/regnet_y_128gf.onnx\n",
      "Trying load and inference: ../pre_trained_models/vision/efficientnet_b3.onnx. It is 38/74\n",
      "Loaded from ../pre_trained_models/vision/efficientnet_b3.onnx\n",
      "Trying load and inference: ../pre_trained_models/vision/googlenet.onnx. It is 39/74\n"
     ]
    },
    {
     "name": "stderr",
     "output_type": "stream",
     "text": [
      "Traceback (most recent call last):\n",
      "  File \"/tmp/ipykernel_324606/188158946.py\", line 10, in <cell line: 7>\n",
      "    m = load_nn(stored_m)\n",
      "  File \"/tmp/ipykernel_324606/1972650342.py\", line 5, in load_nn\n",
      "    onnx_model = onnx.load(file_name)\n",
      "  File \"/home/amin/miniconda3/envs/ma3/lib/python3.9/site-packages/onnx/__init__.py\", line 122, in load_model\n",
      "    load_external_data_for_model(model, base_dir)\n",
      "  File \"/home/amin/miniconda3/envs/ma3/lib/python3.9/site-packages/onnx/external_data_helper.py\", line 65, in load_external_data_for_model\n",
      "    load_external_data_for_tensor(tensor, base_dir)\n",
      "  File \"/home/amin/miniconda3/envs/ma3/lib/python3.9/site-packages/onnx/external_data_helper.py\", line 44, in load_external_data_for_tensor\n",
      "    with open(external_data_file_path, 'rb') as data_file:\n",
      "FileNotFoundError: [Errno 2] No such file or directory: '/home/amin/repos/ma-praxis/Target.Crypten/notebooks/trunk_output.block1.block1-0.f.se.fc1.weight'\n"
     ]
    },
    {
     "name": "stdout",
     "output_type": "stream",
     "text": [
      "Loaded from ../pre_trained_models/vision/googlenet.onnx\n",
      "Trying load and inference: ../pre_trained_models/vision/densenet201.onnx. It is 40/74\n",
      "Loaded from ../pre_trained_models/vision/densenet201.onnx\n",
      "Trying load and inference: ../pre_trained_models/vision/resnet50.onnx. It is 41/74\n",
      "Loaded from ../pre_trained_models/vision/resnet50.onnx\n",
      "Trying load and inference: ../pre_trained_models/vision/mobilenet_v3_large.onnx. It is 42/74\n",
      "Couldn't load ../pre_trained_models/vision/mobilenet_v3_large.onnx\n",
      "Trying load and inference: ../pre_trained_models/vision/resnext101_32x8d.onnx. It is 43/74\n"
     ]
    },
    {
     "name": "stderr",
     "output_type": "stream",
     "text": [
      "Traceback (most recent call last):\n",
      "  File \"/tmp/ipykernel_324606/188158946.py\", line 10, in <cell line: 7>\n",
      "    m = load_nn(stored_m)\n",
      "  File \"/tmp/ipykernel_324606/1972650342.py\", line 6, in load_nn\n",
      "    pytorch_model = ConvertModel(onnx_model, experimental=True)\n",
      "  File \"/home/amin/miniconda3/envs/ma3/lib/python3.9/site-packages/onnx2pytorch/convert/model.py\", line 122, in __init__\n",
      "    for op_id, op_name, op in convert_operations(\n",
      "  File \"/home/amin/miniconda3/envs/ma3/lib/python3.9/site-packages/onnx2pytorch/convert/operations.py\", line 279, in convert_operations\n",
      "    raise NotImplementedError(\n",
      "NotImplementedError: Conversion not implemented for op_type=HardSigmoid.\n"
     ]
    },
    {
     "name": "stdout",
     "output_type": "stream",
     "text": [
      "Loaded from ../pre_trained_models/vision/resnext101_32x8d.onnx\n",
      "Trying load and inference: ../pre_trained_models/vision/squeezenet1_0.onnx. It is 44/74\n",
      "Loaded from ../pre_trained_models/vision/squeezenet1_0.onnx\n",
      "Trying load and inference: ../pre_trained_models/vision/convnext_base.onnx. It is 45/74\n",
      "Loaded from ../pre_trained_models/vision/convnext_base.onnx\n",
      "Trying load and inference: ../pre_trained_models/vision/resnet152.onnx. It is 46/74\n",
      "Loaded from ../pre_trained_models/vision/resnet152.onnx\n",
      "Trying load and inference: ../pre_trained_models/vision/shufflenet_v2_x0_5.onnx. It is 47/74\n",
      "Loaded from ../pre_trained_models/vision/shufflenet_v2_x0_5.onnx\n",
      "Trying load and inference: ../pre_trained_models/vision/regnet_x_800mf.onnx. It is 48/74\n",
      "Loaded from ../pre_trained_models/vision/regnet_x_800mf.onnx\n",
      "Trying load and inference: ../pre_trained_models/vision/efficientnet_b1.onnx. It is 49/74\n",
      "Loaded from ../pre_trained_models/vision/efficientnet_b1.onnx\n",
      "Trying load and inference: ../pre_trained_models/vision/regnet_x_1_6gf.onnx. It is 50/74\n",
      "Loaded from ../pre_trained_models/vision/regnet_x_1_6gf.onnx\n",
      "Trying load and inference: ../pre_trained_models/vision/inception_v3.onnx. It is 51/74\n",
      "Loaded from ../pre_trained_models/vision/inception_v3.onnx\n",
      "Couldn't load ../pre_trained_models/vision/inception_v3.onnx\n",
      "Trying load and inference: ../pre_trained_models/vision/regnet_y_16gf.onnx. It is 52/74\n"
     ]
    },
    {
     "name": "stderr",
     "output_type": "stream",
     "text": [
      "Traceback (most recent call last):\n",
      "  File \"/tmp/ipykernel_324606/188158946.py\", line 11, in <cell line: 7>\n",
      "    m(images_t[0].unsqueeze(0))\n",
      "  File \"/home/amin/miniconda3/envs/ma3/lib/python3.9/site-packages/torch/nn/modules/module.py\", line 1130, in _call_impl\n",
      "    return forward_call(*input, **kwargs)\n",
      "  File \"/home/amin/miniconda3/envs/ma3/lib/python3.9/site-packages/onnx2pytorch/convert/model.py\", line 212, in forward\n",
      "    activations[out_op_id] = op(in_activations)\n",
      "RuntimeError: Sizes of tensors must match except in dimension 1. Expected size 1 but got size 3 for tensor number 3 in the list.\n"
     ]
    },
    {
     "name": "stdout",
     "output_type": "stream",
     "text": [
      "Loaded from ../pre_trained_models/vision/regnet_y_16gf.onnx\n",
      "Trying load and inference: ../pre_trained_models/vision/efficientnet_b5.onnx. It is 53/74\n",
      "Loaded from ../pre_trained_models/vision/efficientnet_b5.onnx\n",
      "Trying load and inference: ../pre_trained_models/vision/mnasnet1_3.onnx. It is 54/74\n",
      "Loaded from ../pre_trained_models/vision/mnasnet1_3.onnx\n",
      "Trying load and inference: ../pre_trained_models/vision/resnet101.onnx. It is 55/74\n",
      "Loaded from ../pre_trained_models/vision/resnet101.onnx\n",
      "Trying load and inference: ../pre_trained_models/vision/swin_s.onnx. It is 56/74\n",
      "Couldn't load ../pre_trained_models/vision/swin_s.onnx\n",
      "Trying load and inference: ../pre_trained_models/vision/efficientnet_b4.onnx. It is 57/74\n",
      "Loaded from ../pre_trained_models/vision/efficientnet_b4.onnx\n"
     ]
    },
    {
     "name": "stderr",
     "output_type": "stream",
     "text": [
      "Traceback (most recent call last):\n",
      "  File \"/tmp/ipykernel_324606/188158946.py\", line 10, in <cell line: 7>\n",
      "    m = load_nn(stored_m)\n",
      "  File \"/tmp/ipykernel_324606/1972650342.py\", line 6, in load_nn\n",
      "    pytorch_model = ConvertModel(onnx_model, experimental=True)\n",
      "  File \"/home/amin/miniconda3/envs/ma3/lib/python3.9/site-packages/onnx2pytorch/convert/model.py\", line 122, in __init__\n",
      "    for op_id, op_name, op in convert_operations(\n",
      "  File \"/home/amin/miniconda3/envs/ma3/lib/python3.9/site-packages/onnx2pytorch/convert/operations.py\", line 279, in convert_operations\n",
      "    raise NotImplementedError(\n",
      "NotImplementedError: Conversion not implemented for op_type=Mod.\n"
     ]
    },
    {
     "name": "stdout",
     "output_type": "stream",
     "text": [
      "Trying load and inference: ../pre_trained_models/vision/regnet_y_3_2gf.onnx. It is 58/74\n",
      "Loaded from ../pre_trained_models/vision/regnet_y_3_2gf.onnx\n",
      "Trying load and inference: ../pre_trained_models/vision/vit_b_32.onnx. It is 59/74\n",
      "Loaded from ../pre_trained_models/vision/vit_b_32.onnx\n",
      "Trying load and inference: ../pre_trained_models/vision/regnet_x_8gf.onnx. It is 60/74\n",
      "Loaded from ../pre_trained_models/vision/regnet_x_8gf.onnx\n",
      "Trying load and inference: ../pre_trained_models/vision/vgg19.onnx. It is 61/74\n",
      "Loaded from ../pre_trained_models/vision/vgg19.onnx\n",
      "Trying load and inference: ../pre_trained_models/vision/efficientnet_b6.onnx. It is 62/74\n",
      "Loaded from ../pre_trained_models/vision/efficientnet_b6.onnx\n",
      "Trying load and inference: ../pre_trained_models/vision/efficientnet_b0.onnx. It is 63/74\n",
      "Loaded from ../pre_trained_models/vision/efficientnet_b0.onnx\n",
      "Trying load and inference: ../pre_trained_models/vision/shufflenet_v2_x1_0.onnx. It is 64/74\n",
      "Loaded from ../pre_trained_models/vision/shufflenet_v2_x1_0.onnx\n",
      "Trying load and inference: ../pre_trained_models/vision/resnet18.onnx. It is 65/74\n",
      "Loaded from ../pre_trained_models/vision/resnet18.onnx\n",
      "Trying load and inference: ../pre_trained_models/vision/regnet_y_400mf.onnx. It is 66/74\n",
      "Loaded from ../pre_trained_models/vision/regnet_y_400mf.onnx\n",
      "Trying load and inference: ../pre_trained_models/vision/vit_b_16.onnx. It is 67/74\n",
      "Loaded from ../pre_trained_models/vision/vit_b_16.onnx\n",
      "Trying load and inference: ../pre_trained_models/vision/efficientnet_v2_m.onnx. It is 68/74\n",
      "Loaded from ../pre_trained_models/vision/efficientnet_v2_m.onnx\n",
      "Trying load and inference: ../pre_trained_models/vision/regnet_x_400mf.onnx. It is 69/74\n",
      "Loaded from ../pre_trained_models/vision/regnet_x_400mf.onnx\n",
      "Trying load and inference: ../pre_trained_models/vision/swin_b.onnx. It is 70/74\n",
      "Couldn't load ../pre_trained_models/vision/swin_b.onnx\n",
      "Trying load and inference: ../pre_trained_models/vision/shufflenet_v2_x1_5.onnx. It is 71/74\n",
      "Loaded from ../pre_trained_models/vision/shufflenet_v2_x1_5.onnx\n",
      "Trying load and inference: ../pre_trained_models/vision/swin_t.onnx. It is 72/74\n"
     ]
    },
    {
     "name": "stderr",
     "output_type": "stream",
     "text": [
      "Traceback (most recent call last):\n",
      "  File \"/tmp/ipykernel_324606/188158946.py\", line 10, in <cell line: 7>\n",
      "    m = load_nn(stored_m)\n",
      "  File \"/tmp/ipykernel_324606/1972650342.py\", line 6, in load_nn\n",
      "    pytorch_model = ConvertModel(onnx_model, experimental=True)\n",
      "  File \"/home/amin/miniconda3/envs/ma3/lib/python3.9/site-packages/onnx2pytorch/convert/model.py\", line 122, in __init__\n",
      "    for op_id, op_name, op in convert_operations(\n",
      "  File \"/home/amin/miniconda3/envs/ma3/lib/python3.9/site-packages/onnx2pytorch/convert/operations.py\", line 279, in convert_operations\n",
      "    raise NotImplementedError(\n",
      "NotImplementedError: Conversion not implemented for op_type=Mod.\n",
      "Traceback (most recent call last):\n",
      "  File \"/tmp/ipykernel_324606/188158946.py\", line 10, in <cell line: 7>\n",
      "    m = load_nn(stored_m)\n",
      "  File \"/tmp/ipykernel_324606/1972650342.py\", line 6, in load_nn\n",
      "    pytorch_model = ConvertModel(onnx_model, experimental=True)\n",
      "  File \"/home/amin/miniconda3/envs/ma3/lib/python3.9/site-packages/onnx2pytorch/convert/model.py\", line 122, in __init__\n",
      "    for op_id, op_name, op in convert_operations(\n",
      "  File \"/home/amin/miniconda3/envs/ma3/lib/python3.9/site-packages/onnx2pytorch/convert/operations.py\", line 279, in convert_operations\n",
      "    raise NotImplementedError(\n",
      "NotImplementedError: Conversion not implemented for op_type=Mod.\n"
     ]
    },
    {
     "name": "stdout",
     "output_type": "stream",
     "text": [
      "Couldn't load ../pre_trained_models/vision/swin_t.onnx\n",
      "Trying load and inference: ../pre_trained_models/vision/vgg19_bn.onnx. It is 73/74\n",
      "Loaded from ../pre_trained_models/vision/vgg19_bn.onnx\n"
     ]
    }
   ],
   "source": [
    "from pathlib import Path\n",
    "import traceback\n",
    "import crypten\n",
    "crypten.init()\n",
    "\n",
    "stored_models = list(Path(\"../pre_trained_models/vision/\").glob('*.onnx'))\n",
    "for index, stored_m in enumerate(stored_models):\n",
    "    print(f\"Trying load and inference: {stored_m}. It is {index}/{len(stored_models)}\")\n",
    "    try:\n",
    "        m = load_nn(stored_m)\n",
    "        m(images_t[0].unsqueeze(0))\n",
    "        success_load.add(stored_m)\n",
    "    except KeyboardInterrupt:\n",
    "        raise\n",
    "    except:\n",
    "        print(\"Couldn't load \" + str(stored_m))\n",
    "        traceback.print_exc()\n",
    "\n",
    "    "
   ]
  },
  {
   "cell_type": "code",
   "execution_count": 50,
   "id": "a5e8b4a1",
   "metadata": {},
   "outputs": [],
   "source": [
    "success_load_crypten_2 = set()"
   ]
  },
  {
   "cell_type": "code",
   "execution_count": null,
   "id": "011a0d40",
   "metadata": {},
   "outputs": [
    {
     "name": "stdout",
     "output_type": "stream",
     "text": [
      "Trying crypten load and inference: ../pre_trained_models/vision/mobilenet_v3_small.onnx. It is 0/74\n",
      "Couldn't crypten load ../pre_trained_models/vision/mobilenet_v3_small.onnx\n",
      "Trying crypten load and inference: ../pre_trained_models/vision/regnet_x_3_2gf.onnx. It is 1/74\n"
     ]
    },
    {
     "name": "stderr",
     "output_type": "stream",
     "text": [
      "Traceback (most recent call last):\n",
      "  File \"/tmp/ipykernel_324606/768045085.py\", line 7, in <cell line: 3>\n",
      "    model_crypten = crypten.nn.from_onnx(fp)\n",
      "  File \"/home/amin/miniconda3/envs/ma3/lib/python3.9/site-packages/crypten/nn/onnx_converter.py\", line 36, in from_onnx\n",
      "    return _to_crypten(onnx_model)\n",
      "  File \"/home/amin/miniconda3/envs/ma3/lib/python3.9/site-packages/crypten/nn/onnx_converter.py\", line 172, in _to_crypten\n",
      "    crypten_class = _get_operator_class(node.op_type, attributes)\n",
      "  File \"/home/amin/miniconda3/envs/ma3/lib/python3.9/site-packages/crypten/nn/onnx_converter.py\", line 248, in _get_operator_class\n",
      "    raise ValueError(f\"CrypTen does not support ONNX op {node_op_type}.\")\n",
      "ValueError: CrypTen does not support ONNX op HardSigmoid.\n"
     ]
    },
    {
     "name": "stdout",
     "output_type": "stream",
     "text": [
      "Trying crypten load and inference: ../pre_trained_models/vision/regnet_y_8gf.onnx. It is 2/74\n",
      "Trying crypten load and inference: ../pre_trained_models/vision/resnext50_32x4d.onnx. It is 3/74\n",
      "Trying crypten load and inference: ../pre_trained_models/vision/vgg16_bn.onnx. It is 4/74\n",
      "Trying crypten load and inference: ../pre_trained_models/vision/densenet121.onnx. It is 5/74\n",
      "Couldn't crypten load ../pre_trained_models/vision/densenet121.onnx\n",
      "Trying crypten load and inference: ../pre_trained_models/vision/shufflenet_v2_x2_0.onnx. It is 6/74\n",
      "Couldn't crypten load ../pre_trained_models/vision/shufflenet_v2_x2_0.onnx\n",
      "Trying crypten load and inference: ../pre_trained_models/vision/efficientnet_v2_s.onnx. It is 7/74\n"
     ]
    },
    {
     "name": "stderr",
     "output_type": "stream",
     "text": [
      "Traceback (most recent call last):\n",
      "  File \"/tmp/ipykernel_324606/768045085.py\", line 7, in <cell line: 3>\n",
      "    model_crypten = crypten.nn.from_onnx(fp)\n",
      "  File \"/home/amin/miniconda3/envs/ma3/lib/python3.9/site-packages/crypten/nn/onnx_converter.py\", line 36, in from_onnx\n",
      "    return _to_crypten(onnx_model)\n",
      "  File \"/home/amin/miniconda3/envs/ma3/lib/python3.9/site-packages/crypten/nn/onnx_converter.py\", line 175, in _to_crypten\n",
      "    crypten_module = crypten_class.from_onnx(attributes=attributes)\n",
      "  File \"/home/amin/miniconda3/envs/ma3/lib/python3.9/site-packages/crypten/nn/module.py\", line 1767, in from_onnx\n",
      "    attributes[\"pads\"], attributes[\"value\"], None, mode=attributes[\"mode\"]\n",
      "KeyError: 'pads'\n",
      "Traceback (most recent call last):\n",
      "  File \"/tmp/ipykernel_324606/768045085.py\", line 7, in <cell line: 3>\n",
      "    model_crypten = crypten.nn.from_onnx(fp)\n",
      "  File \"/home/amin/miniconda3/envs/ma3/lib/python3.9/site-packages/crypten/nn/onnx_converter.py\", line 36, in from_onnx\n",
      "    return _to_crypten(onnx_model)\n",
      "  File \"/home/amin/miniconda3/envs/ma3/lib/python3.9/site-packages/crypten/nn/onnx_converter.py\", line 165, in _to_crypten\n",
      "    crypten_model.add_module(node.name, module.Parameter(param), [])\n",
      "  File \"/home/amin/miniconda3/envs/ma3/lib/python3.9/site-packages/crypten/nn/module.py\", line 948, in __init__\n",
      "    self.register_parameter(\"data\", param)\n",
      "  File \"/home/amin/miniconda3/envs/ma3/lib/python3.9/site-packages/crypten/nn/module.py\", line 126, in register_parameter\n",
      "    param.requires_grad = requires_grad\n",
      "RuntimeError: only Tensors of floating point and complex dtype can require gradients\n"
     ]
    },
    {
     "name": "stdout",
     "output_type": "stream",
     "text": [
      "Trying crypten load and inference: ../pre_trained_models/vision/densenet161.onnx. It is 8/74\n",
      "Couldn't crypten load ../pre_trained_models/vision/densenet161.onnx\n",
      "Trying crypten load and inference: ../pre_trained_models/vision/vgg13_bn.onnx. It is 9/74\n"
     ]
    },
    {
     "name": "stderr",
     "output_type": "stream",
     "text": [
      "Traceback (most recent call last):\n",
      "  File \"/tmp/ipykernel_324606/768045085.py\", line 7, in <cell line: 3>\n",
      "    model_crypten = crypten.nn.from_onnx(fp)\n",
      "  File \"/home/amin/miniconda3/envs/ma3/lib/python3.9/site-packages/crypten/nn/onnx_converter.py\", line 36, in from_onnx\n",
      "    return _to_crypten(onnx_model)\n",
      "  File \"/home/amin/miniconda3/envs/ma3/lib/python3.9/site-packages/crypten/nn/onnx_converter.py\", line 175, in _to_crypten\n",
      "    crypten_module = crypten_class.from_onnx(attributes=attributes)\n",
      "  File \"/home/amin/miniconda3/envs/ma3/lib/python3.9/site-packages/crypten/nn/module.py\", line 1767, in from_onnx\n",
      "    attributes[\"pads\"], attributes[\"value\"], None, mode=attributes[\"mode\"]\n",
      "KeyError: 'pads'\n"
     ]
    },
    {
     "name": "stdout",
     "output_type": "stream",
     "text": [
      "Trying crypten load and inference: ../pre_trained_models/vision/regnet_x_16gf.onnx. It is 10/74\n",
      "Trying crypten load and inference: ../pre_trained_models/vision/densenet169.onnx. It is 11/74\n",
      "Couldn't crypten load ../pre_trained_models/vision/densenet169.onnx\n",
      "Trying crypten load and inference: ../pre_trained_models/vision/vit_l_16.onnx. It is 12/74\n"
     ]
    },
    {
     "name": "stderr",
     "output_type": "stream",
     "text": [
      "Traceback (most recent call last):\n",
      "  File \"/tmp/ipykernel_324606/768045085.py\", line 7, in <cell line: 3>\n",
      "    model_crypten = crypten.nn.from_onnx(fp)\n",
      "  File \"/home/amin/miniconda3/envs/ma3/lib/python3.9/site-packages/crypten/nn/onnx_converter.py\", line 36, in from_onnx\n",
      "    return _to_crypten(onnx_model)\n",
      "  File \"/home/amin/miniconda3/envs/ma3/lib/python3.9/site-packages/crypten/nn/onnx_converter.py\", line 175, in _to_crypten\n",
      "    crypten_module = crypten_class.from_onnx(attributes=attributes)\n",
      "  File \"/home/amin/miniconda3/envs/ma3/lib/python3.9/site-packages/crypten/nn/module.py\", line 1767, in from_onnx\n",
      "    attributes[\"pads\"], attributes[\"value\"], None, mode=attributes[\"mode\"]\n",
      "KeyError: 'pads'\n"
     ]
    },
    {
     "name": "stdout",
     "output_type": "stream",
     "text": [
      "Couldn't crypten load ../pre_trained_models/vision/vit_l_16.onnx\n",
      "Trying crypten load and inference: ../pre_trained_models/vision/regnet_y_32gf.onnx. It is 13/74\n"
     ]
    },
    {
     "name": "stderr",
     "output_type": "stream",
     "text": [
      "Traceback (most recent call last):\n",
      "  File \"/tmp/ipykernel_324606/768045085.py\", line 7, in <cell line: 3>\n",
      "    model_crypten = crypten.nn.from_onnx(fp)\n",
      "  File \"/home/amin/miniconda3/envs/ma3/lib/python3.9/site-packages/crypten/nn/onnx_converter.py\", line 36, in from_onnx\n",
      "    return _to_crypten(onnx_model)\n",
      "  File \"/home/amin/miniconda3/envs/ma3/lib/python3.9/site-packages/crypten/nn/onnx_converter.py\", line 165, in _to_crypten\n",
      "    crypten_model.add_module(node.name, module.Parameter(param), [])\n",
      "  File \"/home/amin/miniconda3/envs/ma3/lib/python3.9/site-packages/crypten/nn/module.py\", line 948, in __init__\n",
      "    self.register_parameter(\"data\", param)\n",
      "  File \"/home/amin/miniconda3/envs/ma3/lib/python3.9/site-packages/crypten/nn/module.py\", line 126, in register_parameter\n",
      "    param.requires_grad = requires_grad\n",
      "RuntimeError: only Tensors of floating point and complex dtype can require gradients\n"
     ]
    },
    {
     "name": "stdout",
     "output_type": "stream",
     "text": [
      "Trying crypten load and inference: ../pre_trained_models/vision/vgg13.onnx. It is 14/74\n",
      "Trying crypten load and inference: ../pre_trained_models/vision/resnet34.onnx. It is 15/74\n",
      "Trying crypten load and inference: ../pre_trained_models/vision/mnasnet0_5.onnx. It is 16/74\n",
      "Trying crypten load and inference: ../pre_trained_models/vision/vit_l_32.onnx. It is 17/74\n",
      "Couldn't crypten load ../pre_trained_models/vision/vit_l_32.onnx\n",
      "Trying crypten load and inference: ../pre_trained_models/vision/wide_resnet50_2.onnx. It is 18/74\n"
     ]
    },
    {
     "name": "stderr",
     "output_type": "stream",
     "text": [
      "Traceback (most recent call last):\n",
      "  File \"/tmp/ipykernel_324606/768045085.py\", line 7, in <cell line: 3>\n",
      "    model_crypten = crypten.nn.from_onnx(fp)\n",
      "  File \"/home/amin/miniconda3/envs/ma3/lib/python3.9/site-packages/crypten/nn/onnx_converter.py\", line 36, in from_onnx\n",
      "    return _to_crypten(onnx_model)\n",
      "  File \"/home/amin/miniconda3/envs/ma3/lib/python3.9/site-packages/crypten/nn/onnx_converter.py\", line 165, in _to_crypten\n",
      "    crypten_model.add_module(node.name, module.Parameter(param), [])\n",
      "  File \"/home/amin/miniconda3/envs/ma3/lib/python3.9/site-packages/crypten/nn/module.py\", line 948, in __init__\n",
      "    self.register_parameter(\"data\", param)\n",
      "  File \"/home/amin/miniconda3/envs/ma3/lib/python3.9/site-packages/crypten/nn/module.py\", line 126, in register_parameter\n",
      "    param.requires_grad = requires_grad\n",
      "RuntimeError: only Tensors of floating point and complex dtype can require gradients\n"
     ]
    },
    {
     "name": "stdout",
     "output_type": "stream",
     "text": [
      "Trying crypten load and inference: ../pre_trained_models/vision/regnet_x_32gf.onnx. It is 19/74\n",
      "Trying crypten load and inference: ../pre_trained_models/vision/regnet_y_1_6gf.onnx. It is 20/74\n",
      "Trying crypten load and inference: ../pre_trained_models/vision/efficientnet_b7.onnx. It is 21/74\n",
      "Trying crypten load and inference: ../pre_trained_models/vision/convnext_tiny.onnx. It is 22/74\n",
      "Trying crypten load and inference: ../pre_trained_models/vision/vgg16.onnx. It is 23/74\n",
      "Trying crypten load and inference: ../pre_trained_models/vision/wide_resnet101_2.onnx. It is 24/74\n",
      "Trying crypten load and inference: ../pre_trained_models/vision/efficientnet_v2_l.onnx. It is 25/74\n"
     ]
    }
   ],
   "source": [
    "stored_models = list(Path(\"../pre_trained_models/vision/\").glob('*.onnx'))\n",
    "\n",
    "for index, stored_m in enumerate(stored_models):\n",
    "    print(f\"Trying crypten load and inference: {stored_m}. It is {index}/{len(stored_models)}\")\n",
    "    try:\n",
    "        with open(stored_m, \"rb\") as fp:\n",
    "            model_crypten = crypten.nn.from_onnx(fp)\n",
    "        enc_model = model_crypten.encrypt()\n",
    "        x = crypten.cryptensor(images_t[0].unsqueeze(0))\n",
    "        enc_model(x)\n",
    "        success_load_crypten_2.add(stored_m)\n",
    "    except KeyboardInterrupt:\n",
    "        raise\n",
    "    except:\n",
    "        print(\"Couldn't crypten load \" + str(stored_m))\n",
    "        traceback.print_exc()"
   ]
  },
  {
   "cell_type": "code",
   "execution_count": 17,
   "id": "7bb33d09",
   "metadata": {},
   "outputs": [],
   "source": [
    "torch_working_models = []\n",
    "for m in success_load:\n",
    "    torch_working_models.append(m.name)\n",
    "import json\n",
    "with open(\"./torch_working_models.json\", \"w\") as fp:\n",
    "    json.dump(torch_working_models, fp)\n",
    "crypt_working_models = []\n",
    "for m in success_load_crypten:\n",
    "    crypt_working_models.append(m.name)\n",
    "import json\n",
    "with open(\"./crypt_working_models.json\", \"w\") as fp:\n",
    "    json.dump(crypt_working_models, fp)"
   ]
  },
  {
   "cell_type": "code",
   "execution_count": 18,
   "id": "56acccd1",
   "metadata": {},
   "outputs": [
    {
     "data": {
      "text/plain": [
       "44"
      ]
     },
     "execution_count": 18,
     "metadata": {},
     "output_type": "execute_result"
    }
   ],
   "source": [
    "len(success_load)"
   ]
  },
  {
   "cell_type": "code",
   "execution_count": 19,
   "id": "d5851dd1",
   "metadata": {},
   "outputs": [
    {
     "data": {
      "text/plain": [
       "42"
      ]
     },
     "execution_count": 19,
     "metadata": {},
     "output_type": "execute_result"
    }
   ],
   "source": [
    "len(success_load_crypten)"
   ]
  },
  {
   "cell_type": "code",
   "execution_count": 20,
   "id": "3ed37497",
   "metadata": {},
   "outputs": [
    {
     "data": {
      "text/plain": [
       "{PosixPath('../pre_trained_models/vision/shufflenet_v2_x0_5.onnx'),\n",
       " PosixPath('../pre_trained_models/vision/shufflenet_v2_x1_0.onnx')}"
      ]
     },
     "execution_count": 20,
     "metadata": {},
     "output_type": "execute_result"
    }
   ],
   "source": [
    "success_load.difference(success_load_crypten)"
   ]
  },
  {
   "cell_type": "code",
   "execution_count": 21,
   "id": "581abcf5",
   "metadata": {},
   "outputs": [
    {
     "data": {
      "text/plain": [
       "set()"
      ]
     },
     "execution_count": 21,
     "metadata": {},
     "output_type": "execute_result"
    }
   ],
   "source": [
    "success_load_crypten.difference(success_load)"
   ]
  },
  {
   "cell_type": "code",
   "execution_count": 47,
   "id": "f03b4111",
   "metadata": {},
   "outputs": [],
   "source": [
    "import os\n",
    "os.mkdir(\"../pre_trained_models/image_cls\")"
   ]
  },
  {
   "cell_type": "code",
   "execution_count": 48,
   "id": "2ec531f5",
   "metadata": {},
   "outputs": [],
   "source": [
    "import shutil\n",
    "destination = \"../pre_trained_models/image_cls\"\n",
    "for m in success_load:\n",
    "    shutil.copy(m, destination)"
   ]
  },
  {
   "cell_type": "code",
   "execution_count": null,
   "id": "026225a1",
   "metadata": {},
   "outputs": [],
   "source": []
  }
 ],
 "metadata": {
  "kernelspec": {
   "display_name": "Python 3 (ipykernel)",
   "language": "python",
   "name": "python3"
  },
  "language_info": {
   "codemirror_mode": {
    "name": "ipython",
    "version": 3
   },
   "file_extension": ".py",
   "mimetype": "text/x-python",
   "name": "python",
   "nbconvert_exporter": "python",
   "pygments_lexer": "ipython3",
   "version": "3.9.12"
  }
 },
 "nbformat": 4,
 "nbformat_minor": 5
}
